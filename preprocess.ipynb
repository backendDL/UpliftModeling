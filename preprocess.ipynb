{
 "cells": [
  {
   "cell_type": "code",
   "execution_count": 1,
   "metadata": {},
   "outputs": [],
   "source": [
    "import json\n",
    "import hashlib\n",
    "from datetime import datetime, timedelta\n",
    "\n",
    "import numpy as np\n",
    "import pandas as pd\n",
    "import matplotlib.pyplot as plt\n",
    "\n",
    "from data_update.prepare_data import *"
   ]
  },
  {
   "cell_type": "code",
   "execution_count": 3,
   "metadata": {},
   "outputs": [],
   "source": [
    "json_path = \"available_pushes_168hr.json\"\n",
    "with open(json_path, \"r\") as f:\n",
    "    pushes = json.load(f)"
   ]
  },
  {
   "cell_type": "code",
   "execution_count": 4,
   "metadata": {},
   "outputs": [],
   "source": [
    "prev_game_id = \"\"\n",
    "\n",
    "# Arguments\n",
    "interval = 168\n",
    "window_before = interval\n",
    "window_after = 1\n",
    "freq = \"10 min\"\n",
    "\n",
    "# Start of for loop\n",
    "idx = 27\n",
    "push = pushes[idx]\n",
    "\n",
    "game_id = push[\"game_id\"]\n",
    "game_id = int(game_id) if isinstance(game_id, str) else game_id\n",
    "\n",
    "# inner for loop for T=0, 1\n",
    "push_date = datetime.datetime.fromisoformat(push[\"pushTime\"]) # T = 1\n",
    "# push_date = datetime.datetime.fromisoformat(push[\"pushTime\"]) - datetime.timedelta(hours=window_before) # T = 0\n",
    "start_date = push_date - datetime.timedelta(hours=window_before)\n",
    "end_date = push_date + datetime.timedelta(hours=window_after)"
   ]
  },
  {
   "cell_type": "code",
   "execution_count": 37,
   "metadata": {},
   "outputs": [
    {
     "data": {
      "text/plain": [
       "{'pushTime': '2021-12-16 13:56:06',\n",
       " 'game_id': '2097',\n",
       " 'author': 'nan',\n",
       " 'content': '지금 업데이트해서 달라진 검은왕관을 만나보세요!\\n수신거부 : 휴대폰 내 설정 → 알림',\n",
       " 'pushText': 'nan',\n",
       " 'title': '[광고] 잠재능력 추가 및 마스터리 확장 업데이트 완료!',\n",
       " 'count_1': '1',\n",
       " 'count_0': '0',\n",
       " 'dataPoints_1': 23870,\n",
       " 'dataPoints_0': 24281}"
      ]
     },
     "execution_count": 37,
     "metadata": {},
     "output_type": "execute_result"
    }
   ],
   "source": [
    "push"
   ]
  },
  {
   "cell_type": "code",
   "execution_count": 5,
   "metadata": {},
   "outputs": [
    {
     "name": "stdout",
     "output_type": "stream",
     "text": [
      "2021-12-09 13:56:06 2021-12-16 13:56:06 2021-12-16 14:56:06\n",
      "2097\n"
     ]
    }
   ],
   "source": [
    "print(start_date, push_date, end_date)\n",
    "print(game_id)"
   ]
  },
  {
   "cell_type": "code",
   "execution_count": 6,
   "metadata": {},
   "outputs": [
    {
     "name": "stdout",
     "output_type": "stream",
     "text": [
      "Login data on 2021-12-09 already in ./data. Load the existing csv file.\n",
      "Login data on 2021-12-10 already in ./data. Load the existing csv file.\n",
      "Login data on 2021-12-11 already in ./data. Load the existing csv file.\n",
      "Login data on 2021-12-12 already in ./data. Load the existing csv file.\n",
      "Login data on 2021-12-13 already in ./data. Load the existing csv file.\n",
      "Login data on 2021-12-14 already in ./data. Load the existing csv file.\n",
      "Login data on 2021-12-15 already in ./data. Load the existing csv file.\n",
      "Login data on 2021-12-16 already in ./data. Load the existing csv file.\n",
      "CRUD data file (./data/crud/crud_2097.csv) exists. Load the existing csv file.\n"
     ]
    }
   ],
   "source": [
    "login_df = prepare_login_df(\n",
    "    url=\"https://search-game-log-73v4ao67bzgafxhgcxse6ue7ou.ap-northeast-2.es.amazonaws.com\",\n",
    "    start_date=start_date,\n",
    "    end_date=end_date,\n",
    "    save_path=\"./data\",\n",
    "    prefix=\"login\",\n",
    ")\n",
    "\n",
    "if prev_game_id != game_id:\n",
    "    crud_by_game_id = prepare_crud_df(\n",
    "        save_path='./data/crud',\n",
    "        game_id=game_id,\n",
    "    )\n",
    "    prev_game_id = game_id\n",
    "\n",
    "columns = [\"game_id\", \"gamer_id\", \"inDate\"]\n",
    "\n",
    "login_df = login_df[columns]\n",
    "crud_by_game_id = crud_by_game_id[columns]"
   ]
  },
  {
   "cell_type": "code",
   "execution_count": 7,
   "metadata": {},
   "outputs": [],
   "source": [
    "login_by_game_id = login_df[login_df[\"game_id\"] == game_id].copy()\n",
    "\n",
    "login_by_game_id[\"inDate\"] = pd.to_datetime(login_by_game_id[\"inDate\"])\n",
    "crud_by_game_id[\"inDate\"] = crud_by_game_id[\"inDate\"].apply(lambda x: x[:-1])\n",
    "crud_by_game_id[\"inDate\"] = pd.to_datetime(crud_by_game_id[\"inDate\"])\n",
    "\n",
    "login_by_game_id = login_by_game_id[(login_by_game_id[\"inDate\"] >= start_date) & (login_by_game_id[\"inDate\"] <= end_date)]\n",
    "login_by_game_id[\"gamer_id\"] = login_by_game_id[\"gamer_id\"].apply(lambda x: hashlib.sha256(x.encode()).hexdigest())\n",
    "\n",
    "crud_by_game_id = crud_by_game_id[(crud_by_game_id[\"inDate\"] >= start_date) & (crud_by_game_id[\"inDate\"] <= end_date)].copy()"
   ]
  },
  {
   "cell_type": "code",
   "execution_count": 8,
   "metadata": {},
   "outputs": [
    {
     "data": {
      "text/html": [
       "<div>\n",
       "<style scoped>\n",
       "    .dataframe tbody tr th:only-of-type {\n",
       "        vertical-align: middle;\n",
       "    }\n",
       "\n",
       "    .dataframe tbody tr th {\n",
       "        vertical-align: top;\n",
       "    }\n",
       "\n",
       "    .dataframe thead th {\n",
       "        text-align: right;\n",
       "    }\n",
       "</style>\n",
       "<table border=\"1\" class=\"dataframe\">\n",
       "  <thead>\n",
       "    <tr style=\"text-align: right;\">\n",
       "      <th></th>\n",
       "      <th>game_id</th>\n",
       "      <th>gamer_id</th>\n",
       "      <th>inDate</th>\n",
       "    </tr>\n",
       "  </thead>\n",
       "  <tbody>\n",
       "    <tr>\n",
       "      <th>160282</th>\n",
       "      <td>2097</td>\n",
       "      <td>c8f1668da2f1987e0bb40a7717b0e47676977b1c2ddd60...</td>\n",
       "      <td>2021-12-09 13:56:08</td>\n",
       "    </tr>\n",
       "    <tr>\n",
       "      <th>160539</th>\n",
       "      <td>2097</td>\n",
       "      <td>7180570f42e64cd2e7817ffc59df0c5425bc4a157951fc...</td>\n",
       "      <td>2021-12-09 13:56:39</td>\n",
       "    </tr>\n",
       "    <tr>\n",
       "      <th>160569</th>\n",
       "      <td>2097</td>\n",
       "      <td>7180570f42e64cd2e7817ffc59df0c5425bc4a157951fc...</td>\n",
       "      <td>2021-12-09 13:56:41</td>\n",
       "    </tr>\n",
       "    <tr>\n",
       "      <th>160575</th>\n",
       "      <td>2097</td>\n",
       "      <td>6a27a3e907a8220b1647be7aec3e3567bcbe52f36e20d0...</td>\n",
       "      <td>2021-12-09 13:56:41</td>\n",
       "    </tr>\n",
       "    <tr>\n",
       "      <th>160580</th>\n",
       "      <td>2097</td>\n",
       "      <td>6a27a3e907a8220b1647be7aec3e3567bcbe52f36e20d0...</td>\n",
       "      <td>2021-12-09 13:56:43</td>\n",
       "    </tr>\n",
       "  </tbody>\n",
       "</table>\n",
       "</div>"
      ],
      "text/plain": [
       "        game_id                                           gamer_id  \\\n",
       "160282     2097  c8f1668da2f1987e0bb40a7717b0e47676977b1c2ddd60...   \n",
       "160539     2097  7180570f42e64cd2e7817ffc59df0c5425bc4a157951fc...   \n",
       "160569     2097  7180570f42e64cd2e7817ffc59df0c5425bc4a157951fc...   \n",
       "160575     2097  6a27a3e907a8220b1647be7aec3e3567bcbe52f36e20d0...   \n",
       "160580     2097  6a27a3e907a8220b1647be7aec3e3567bcbe52f36e20d0...   \n",
       "\n",
       "                    inDate  \n",
       "160282 2021-12-09 13:56:08  \n",
       "160539 2021-12-09 13:56:39  \n",
       "160569 2021-12-09 13:56:41  \n",
       "160575 2021-12-09 13:56:41  \n",
       "160580 2021-12-09 13:56:43  "
      ]
     },
     "execution_count": 8,
     "metadata": {},
     "output_type": "execute_result"
    }
   ],
   "source": [
    "login_by_game_id.head()"
   ]
  },
  {
   "cell_type": "code",
   "execution_count": 9,
   "metadata": {},
   "outputs": [
    {
     "data": {
      "text/html": [
       "<div>\n",
       "<style scoped>\n",
       "    .dataframe tbody tr th:only-of-type {\n",
       "        vertical-align: middle;\n",
       "    }\n",
       "\n",
       "    .dataframe tbody tr th {\n",
       "        vertical-align: top;\n",
       "    }\n",
       "\n",
       "    .dataframe thead th {\n",
       "        text-align: right;\n",
       "    }\n",
       "</style>\n",
       "<table border=\"1\" class=\"dataframe\">\n",
       "  <thead>\n",
       "    <tr style=\"text-align: right;\">\n",
       "      <th></th>\n",
       "      <th>game_id</th>\n",
       "      <th>gamer_id</th>\n",
       "      <th>inDate</th>\n",
       "    </tr>\n",
       "  </thead>\n",
       "  <tbody>\n",
       "    <tr>\n",
       "      <th>95104</th>\n",
       "      <td>2097</td>\n",
       "      <td>6ebc81d463d1e2cfd62423228621e134a51fcbae0321e6...</td>\n",
       "      <td>2021-12-10 22:52:33.351</td>\n",
       "    </tr>\n",
       "    <tr>\n",
       "      <th>95105</th>\n",
       "      <td>2097</td>\n",
       "      <td>6ebc81d463d1e2cfd62423228621e134a51fcbae0321e6...</td>\n",
       "      <td>2021-12-10 22:52:33.993</td>\n",
       "    </tr>\n",
       "    <tr>\n",
       "      <th>95106</th>\n",
       "      <td>2097</td>\n",
       "      <td>cdc7c11b9c9f2178feecfc59ed77fb4976f2dddc15e962...</td>\n",
       "      <td>2021-12-10 22:52:34.069</td>\n",
       "    </tr>\n",
       "    <tr>\n",
       "      <th>95107</th>\n",
       "      <td>2097</td>\n",
       "      <td>abefc7fbccaeb88c2f295490559d5b086db92ce8c3bd8d...</td>\n",
       "      <td>2021-12-10 22:52:34.115</td>\n",
       "    </tr>\n",
       "    <tr>\n",
       "      <th>95108</th>\n",
       "      <td>2097</td>\n",
       "      <td>abefc7fbccaeb88c2f295490559d5b086db92ce8c3bd8d...</td>\n",
       "      <td>2021-12-10 22:52:34.209</td>\n",
       "    </tr>\n",
       "  </tbody>\n",
       "</table>\n",
       "</div>"
      ],
      "text/plain": [
       "       game_id                                           gamer_id  \\\n",
       "95104     2097  6ebc81d463d1e2cfd62423228621e134a51fcbae0321e6...   \n",
       "95105     2097  6ebc81d463d1e2cfd62423228621e134a51fcbae0321e6...   \n",
       "95106     2097  cdc7c11b9c9f2178feecfc59ed77fb4976f2dddc15e962...   \n",
       "95107     2097  abefc7fbccaeb88c2f295490559d5b086db92ce8c3bd8d...   \n",
       "95108     2097  abefc7fbccaeb88c2f295490559d5b086db92ce8c3bd8d...   \n",
       "\n",
       "                       inDate  \n",
       "95104 2021-12-10 22:52:33.351  \n",
       "95105 2021-12-10 22:52:33.993  \n",
       "95106 2021-12-10 22:52:34.069  \n",
       "95107 2021-12-10 22:52:34.115  \n",
       "95108 2021-12-10 22:52:34.209  "
      ]
     },
     "execution_count": 9,
     "metadata": {},
     "output_type": "execute_result"
    }
   ],
   "source": [
    "crud_by_game_id.head()"
   ]
  },
  {
   "cell_type": "code",
   "execution_count": 10,
   "metadata": {},
   "outputs": [
    {
     "data": {
      "text/plain": [
       "(52360, 2683554)"
      ]
     },
     "execution_count": 10,
     "metadata": {},
     "output_type": "execute_result"
    }
   ],
   "source": [
    "len(login_by_game_id), len(crud_by_game_id)"
   ]
  },
  {
   "cell_type": "code",
   "execution_count": 11,
   "metadata": {},
   "outputs": [],
   "source": [
    "login_by_game_id[\"type\"] = \"login\"\n",
    "crud_by_game_id[\"type\"] = \"crud\""
   ]
  },
  {
   "cell_type": "code",
   "execution_count": 12,
   "metadata": {},
   "outputs": [
    {
     "data": {
      "text/html": [
       "<div>\n",
       "<style scoped>\n",
       "    .dataframe tbody tr th:only-of-type {\n",
       "        vertical-align: middle;\n",
       "    }\n",
       "\n",
       "    .dataframe tbody tr th {\n",
       "        vertical-align: top;\n",
       "    }\n",
       "\n",
       "    .dataframe thead th {\n",
       "        text-align: right;\n",
       "    }\n",
       "</style>\n",
       "<table border=\"1\" class=\"dataframe\">\n",
       "  <thead>\n",
       "    <tr style=\"text-align: right;\">\n",
       "      <th></th>\n",
       "      <th>game_id</th>\n",
       "      <th>gamer_id</th>\n",
       "      <th>inDate</th>\n",
       "      <th>type</th>\n",
       "    </tr>\n",
       "  </thead>\n",
       "  <tbody>\n",
       "    <tr>\n",
       "      <th>160282</th>\n",
       "      <td>2097</td>\n",
       "      <td>c8f1668da2f1987e0bb40a7717b0e47676977b1c2ddd60...</td>\n",
       "      <td>2021-12-09 13:56:08</td>\n",
       "      <td>login</td>\n",
       "    </tr>\n",
       "    <tr>\n",
       "      <th>160539</th>\n",
       "      <td>2097</td>\n",
       "      <td>7180570f42e64cd2e7817ffc59df0c5425bc4a157951fc...</td>\n",
       "      <td>2021-12-09 13:56:39</td>\n",
       "      <td>login</td>\n",
       "    </tr>\n",
       "    <tr>\n",
       "      <th>160569</th>\n",
       "      <td>2097</td>\n",
       "      <td>7180570f42e64cd2e7817ffc59df0c5425bc4a157951fc...</td>\n",
       "      <td>2021-12-09 13:56:41</td>\n",
       "      <td>login</td>\n",
       "    </tr>\n",
       "    <tr>\n",
       "      <th>160575</th>\n",
       "      <td>2097</td>\n",
       "      <td>6a27a3e907a8220b1647be7aec3e3567bcbe52f36e20d0...</td>\n",
       "      <td>2021-12-09 13:56:41</td>\n",
       "      <td>login</td>\n",
       "    </tr>\n",
       "    <tr>\n",
       "      <th>160580</th>\n",
       "      <td>2097</td>\n",
       "      <td>6a27a3e907a8220b1647be7aec3e3567bcbe52f36e20d0...</td>\n",
       "      <td>2021-12-09 13:56:43</td>\n",
       "      <td>login</td>\n",
       "    </tr>\n",
       "  </tbody>\n",
       "</table>\n",
       "</div>"
      ],
      "text/plain": [
       "        game_id                                           gamer_id  \\\n",
       "160282     2097  c8f1668da2f1987e0bb40a7717b0e47676977b1c2ddd60...   \n",
       "160539     2097  7180570f42e64cd2e7817ffc59df0c5425bc4a157951fc...   \n",
       "160569     2097  7180570f42e64cd2e7817ffc59df0c5425bc4a157951fc...   \n",
       "160575     2097  6a27a3e907a8220b1647be7aec3e3567bcbe52f36e20d0...   \n",
       "160580     2097  6a27a3e907a8220b1647be7aec3e3567bcbe52f36e20d0...   \n",
       "\n",
       "                    inDate   type  \n",
       "160282 2021-12-09 13:56:08  login  \n",
       "160539 2021-12-09 13:56:39  login  \n",
       "160569 2021-12-09 13:56:41  login  \n",
       "160575 2021-12-09 13:56:41  login  \n",
       "160580 2021-12-09 13:56:43  login  "
      ]
     },
     "execution_count": 12,
     "metadata": {},
     "output_type": "execute_result"
    }
   ],
   "source": [
    "login_by_game_id.head()"
   ]
  },
  {
   "cell_type": "code",
   "execution_count": 13,
   "metadata": {},
   "outputs": [
    {
     "data": {
      "text/html": [
       "<div>\n",
       "<style scoped>\n",
       "    .dataframe tbody tr th:only-of-type {\n",
       "        vertical-align: middle;\n",
       "    }\n",
       "\n",
       "    .dataframe tbody tr th {\n",
       "        vertical-align: top;\n",
       "    }\n",
       "\n",
       "    .dataframe thead th {\n",
       "        text-align: right;\n",
       "    }\n",
       "</style>\n",
       "<table border=\"1\" class=\"dataframe\">\n",
       "  <thead>\n",
       "    <tr style=\"text-align: right;\">\n",
       "      <th></th>\n",
       "      <th>game_id</th>\n",
       "      <th>gamer_id</th>\n",
       "      <th>inDate</th>\n",
       "      <th>type</th>\n",
       "    </tr>\n",
       "  </thead>\n",
       "  <tbody>\n",
       "    <tr>\n",
       "      <th>95104</th>\n",
       "      <td>2097</td>\n",
       "      <td>6ebc81d463d1e2cfd62423228621e134a51fcbae0321e6...</td>\n",
       "      <td>2021-12-10 22:52:33.351</td>\n",
       "      <td>crud</td>\n",
       "    </tr>\n",
       "    <tr>\n",
       "      <th>95105</th>\n",
       "      <td>2097</td>\n",
       "      <td>6ebc81d463d1e2cfd62423228621e134a51fcbae0321e6...</td>\n",
       "      <td>2021-12-10 22:52:33.993</td>\n",
       "      <td>crud</td>\n",
       "    </tr>\n",
       "    <tr>\n",
       "      <th>95106</th>\n",
       "      <td>2097</td>\n",
       "      <td>cdc7c11b9c9f2178feecfc59ed77fb4976f2dddc15e962...</td>\n",
       "      <td>2021-12-10 22:52:34.069</td>\n",
       "      <td>crud</td>\n",
       "    </tr>\n",
       "    <tr>\n",
       "      <th>95107</th>\n",
       "      <td>2097</td>\n",
       "      <td>abefc7fbccaeb88c2f295490559d5b086db92ce8c3bd8d...</td>\n",
       "      <td>2021-12-10 22:52:34.115</td>\n",
       "      <td>crud</td>\n",
       "    </tr>\n",
       "    <tr>\n",
       "      <th>95108</th>\n",
       "      <td>2097</td>\n",
       "      <td>abefc7fbccaeb88c2f295490559d5b086db92ce8c3bd8d...</td>\n",
       "      <td>2021-12-10 22:52:34.209</td>\n",
       "      <td>crud</td>\n",
       "    </tr>\n",
       "  </tbody>\n",
       "</table>\n",
       "</div>"
      ],
      "text/plain": [
       "       game_id                                           gamer_id  \\\n",
       "95104     2097  6ebc81d463d1e2cfd62423228621e134a51fcbae0321e6...   \n",
       "95105     2097  6ebc81d463d1e2cfd62423228621e134a51fcbae0321e6...   \n",
       "95106     2097  cdc7c11b9c9f2178feecfc59ed77fb4976f2dddc15e962...   \n",
       "95107     2097  abefc7fbccaeb88c2f295490559d5b086db92ce8c3bd8d...   \n",
       "95108     2097  abefc7fbccaeb88c2f295490559d5b086db92ce8c3bd8d...   \n",
       "\n",
       "                       inDate  type  \n",
       "95104 2021-12-10 22:52:33.351  crud  \n",
       "95105 2021-12-10 22:52:33.993  crud  \n",
       "95106 2021-12-10 22:52:34.069  crud  \n",
       "95107 2021-12-10 22:52:34.115  crud  \n",
       "95108 2021-12-10 22:52:34.209  crud  "
      ]
     },
     "execution_count": 13,
     "metadata": {},
     "output_type": "execute_result"
    }
   ],
   "source": [
    "crud_by_game_id.head()"
   ]
  },
  {
   "cell_type": "code",
   "execution_count": 14,
   "metadata": {},
   "outputs": [],
   "source": [
    "logs_by_game_id = pd.concat([login_by_game_id, crud_by_game_id], axis=0, ignore_index=True)\n",
    "# data = data.sort_values([\"inDate\", \"gamer_id\", \"type\"])\n",
    "# 여기서 이루어질 필요가 없고, 각 gamer_id별로 이루어져도 무관함!\n",
    "# 데이터가 커서 전체 정렬에 2분정도가 소요됨\n",
    "logs_by_game_id = logs_by_game_id.reset_index(drop=True)\n",
    "logs_by_game_id = pd.concat([logs_by_game_id, pd.get_dummies(logs_by_game_id[\"type\"])], axis=1)"
   ]
  },
  {
   "cell_type": "code",
   "execution_count": 15,
   "metadata": {},
   "outputs": [
    {
     "data": {
      "text/plain": [
       "4481"
      ]
     },
     "execution_count": 15,
     "metadata": {},
     "output_type": "execute_result"
    }
   ],
   "source": [
    "gamer_ids = logs_by_game_id[\"gamer_id\"].unique().tolist()\n",
    "len(gamer_ids)"
   ]
  },
  {
   "cell_type": "code",
   "execution_count": 16,
   "metadata": {},
   "outputs": [
    {
     "data": {
      "text/plain": [
       "4481"
      ]
     },
     "execution_count": 16,
     "metadata": {},
     "output_type": "execute_result"
    }
   ],
   "source": [
    "gamer_ids = pd.concat([login_by_game_id[\"gamer_id\"], crud_by_game_id[\"gamer_id\"]], axis=0)\n",
    "gamer_ids = gamer_ids.unique().tolist()\n",
    "len(gamer_ids)"
   ]
  },
  {
   "cell_type": "code",
   "execution_count": 18,
   "metadata": {},
   "outputs": [
    {
     "data": {
      "text/plain": [
       "[<matplotlib.lines.Line2D at 0x110cec3d0>]"
      ]
     },
     "execution_count": 18,
     "metadata": {},
     "output_type": "execute_result"
    },
    {
     "data": {
      "image/png": "[encoded data removed]",
      "text/plain": [
       "<Figure size 432x288 with 1 Axes>"
      ]
     },
     "metadata": {
      "needs_background": "light"
     },
     "output_type": "display_data"
    }
   ],
   "source": [
    "# starting 3rd level for loop\n",
    "gamer_id = gamer_ids[199]\n",
    "\n",
    "logs_by_gamer_id = logs_by_game_id[logs_by_game_id[\"gamer_id\"] == gamer_id]\n",
    "plt.plot(logs_by_gamer_id[\"inDate\"], logs_by_gamer_id[\"crud\"], \"o\")"
   ]
  },
  {
   "cell_type": "code",
   "execution_count": 33,
   "metadata": {},
   "outputs": [
    {
     "data": {
      "text/html": [
       "<div>\n",
       "<style scoped>\n",
       "    .dataframe tbody tr th:only-of-type {\n",
       "        vertical-align: middle;\n",
       "    }\n",
       "\n",
       "    .dataframe tbody tr th {\n",
       "        vertical-align: top;\n",
       "    }\n",
       "\n",
       "    .dataframe thead th {\n",
       "        text-align: right;\n",
       "    }\n",
       "</style>\n",
       "<table border=\"1\" class=\"dataframe\">\n",
       "  <thead>\n",
       "    <tr style=\"text-align: right;\">\n",
       "      <th></th>\n",
       "      <th>login</th>\n",
       "      <th>crud</th>\n",
       "    </tr>\n",
       "  </thead>\n",
       "  <tbody>\n",
       "    <tr>\n",
       "      <th>2021-12-09 13:56:06</th>\n",
       "      <td>0</td>\n",
       "      <td>0</td>\n",
       "    </tr>\n",
       "    <tr>\n",
       "      <th>2021-12-09 14:06:06</th>\n",
       "      <td>0</td>\n",
       "      <td>0</td>\n",
       "    </tr>\n",
       "    <tr>\n",
       "      <th>2021-12-09 14:16:06</th>\n",
       "      <td>0</td>\n",
       "      <td>0</td>\n",
       "    </tr>\n",
       "    <tr>\n",
       "      <th>2021-12-09 14:26:06</th>\n",
       "      <td>0</td>\n",
       "      <td>0</td>\n",
       "    </tr>\n",
       "    <tr>\n",
       "      <th>2021-12-09 14:36:06</th>\n",
       "      <td>0</td>\n",
       "      <td>0</td>\n",
       "    </tr>\n",
       "    <tr>\n",
       "      <th>...</th>\n",
       "      <td>...</td>\n",
       "      <td>...</td>\n",
       "    </tr>\n",
       "    <tr>\n",
       "      <th>2021-12-16 14:06:06</th>\n",
       "      <td>0</td>\n",
       "      <td>0</td>\n",
       "    </tr>\n",
       "    <tr>\n",
       "      <th>2021-12-16 14:16:06</th>\n",
       "      <td>0</td>\n",
       "      <td>0</td>\n",
       "    </tr>\n",
       "    <tr>\n",
       "      <th>2021-12-16 14:26:06</th>\n",
       "      <td>0</td>\n",
       "      <td>0</td>\n",
       "    </tr>\n",
       "    <tr>\n",
       "      <th>2021-12-16 14:36:06</th>\n",
       "      <td>0</td>\n",
       "      <td>0</td>\n",
       "    </tr>\n",
       "    <tr>\n",
       "      <th>2021-12-16 14:46:06</th>\n",
       "      <td>4</td>\n",
       "      <td>52</td>\n",
       "    </tr>\n",
       "  </tbody>\n",
       "</table>\n",
       "<p>1014 rows × 2 columns</p>\n",
       "</div>"
      ],
      "text/plain": [
       "                     login  crud\n",
       "2021-12-09 13:56:06      0     0\n",
       "2021-12-09 14:06:06      0     0\n",
       "2021-12-09 14:16:06      0     0\n",
       "2021-12-09 14:26:06      0     0\n",
       "2021-12-09 14:36:06      0     0\n",
       "...                    ...   ...\n",
       "2021-12-16 14:06:06      0     0\n",
       "2021-12-16 14:16:06      0     0\n",
       "2021-12-16 14:26:06      0     0\n",
       "2021-12-16 14:36:06      0     0\n",
       "2021-12-16 14:46:06      4    52\n",
       "\n",
       "[1014 rows x 2 columns]"
      ]
     },
     "execution_count": 33,
     "metadata": {},
     "output_type": "execute_result"
    }
   ],
   "source": [
    "bins = pd.date_range(start=start_date, end=end_date, freq=freq)\n",
    "\n",
    "login_by_gamer_id = login_by_game_id[login_by_game_id[\"gamer_id\"] == gamer_id]\n",
    "crud_by_gamer_id = crud_by_game_id[crud_by_game_id[\"gamer_id\"] == gamer_id]\n",
    "\n",
    "login_cut = pd.cut(login_by_gamer_id[\"inDate\"], bins=bins, right=False)\n",
    "crud_cut = pd.cut(crud_by_gamer_id[\"inDate\"], bins=bins, right=False)\n",
    "\n",
    "login_cut = login_cut.value_counts().sort_index()\n",
    "crud_cut = crud_cut.value_counts().sort_index()\n",
    "\n",
    "cuts = pd.concat([login_cut, crud_cut], axis=1)\n",
    "cuts.columns = [\"login\", \"crud\"]\n",
    "cuts.index = [item.left for item in cuts.index]\n",
    "cuts"
   ]
  },
  {
   "cell_type": "code",
   "execution_count": 36,
   "metadata": {},
   "outputs": [
    {
     "data": {
      "image/png": "[encoded data removed]",
      "text/plain": [
       "<Figure size 720x360 with 1 Axes>"
      ]
     },
     "metadata": {
      "needs_background": "light"
     },
     "output_type": "display_data"
    }
   ],
   "source": [
    "from_idx = 0\n",
    "to_idx = 100\n",
    "\n",
    "fig, ax = plt.subplots(1, 1, figsize=(10, 5))\n",
    "plt.plot(cuts.index[from_idx:to_idx], cuts[\"login\"][from_idx:to_idx], label=\"login\")\n",
    "plt.plot(cuts.index[from_idx:to_idx], cuts[\"crud\"][from_idx:to_idx], label=\"crud\")\n",
    "plt.legend()\n",
    "plt.title(f\"game: {game_id}, \\n gamer: {gamer_id}\")\n",
    "plt.show()"
   ]
  }
 ],
 "metadata": {
  "interpreter": {
   "hash": "8eb540d1016a06de34ee28a1afabe5d8c496f06c5c9b7636d2c25e32c04f9b7e"
  },
  "kernelspec": {
   "display_name": "Python 3.9.6 64-bit ('3.9.6': pyenv)",
   "language": "python",
   "name": "python3"
  },
  "language_info": {
   "codemirror_mode": {
    "name": "ipython",
    "version": 3
   },
   "file_extension": ".py",
   "mimetype": "text/x-python",
   "name": "python",
   "nbconvert_exporter": "python",
   "pygments_lexer": "ipython3",
   "version": "3.9.6"
  },
  "orig_nbformat": 4
 },
 "nbformat": 4,
 "nbformat_minor": 2
}
