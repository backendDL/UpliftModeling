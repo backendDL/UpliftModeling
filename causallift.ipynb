{
 "cells": [
  {
   "cell_type": "code",
   "execution_count": 1,
   "metadata": {},
   "outputs": [],
   "source": [
    "import os\n",
    "from urllib import request\n",
    "import requests\n",
    "import gzip\n",
    "import shutil\n",
    "from typing import Optional, Union, Tuple, List\n",
    "from dataclasses import dataclass, field\n",
    "\n",
    "import causallift\n",
    "from causallift import CausalLift\n",
    "\n",
    "import numpy as np\n",
    "import pandas as pd\n",
    "import matplotlib as mpl\n",
    "import matplotlib.pyplot as plt\n",
    "from sklearn.model_selection import train_test_split\n",
    "from tqdm import tqdm\n",
    "\n",
    "import torch\n",
    "import torch.nn as nn\n",
    "import torch.nn.functional as F\n",
    "from torch.utils.data import Dataset, DataLoader\n",
    "\n",
    "causallift.__version__\n",
    "pd.options.display.max_rows = 8\n",
    "seed = 42"
   ]
  },
  {
   "cell_type": "code",
   "execution_count": 2,
   "metadata": {},
   "outputs": [],
   "source": [
    "def prepare_data(data: str, **kwargs):\n",
    "\n",
    "    if data == 'simulated_observational_data':\n",
    "        \"\"\"\n",
    "        # Generate simulated data\n",
    "        # \"Sleeping dogs\" (a.k.a. \"do-not-disturb\"; people who will \"buy\" if not \n",
    "        treated but will not \"buy\" if treated) can be simulated by negative values \n",
    "        in tau parameter.\n",
    "        # Observational data which includes confounding can be simulated by \n",
    "        non-zero values in propensity_coef parameter.  \n",
    "        # A/B Test (RCT) with a 50:50 split can be simulated by all-zeros values \n",
    "        in propensity_coef parameter (default).\n",
    "        # The first element in each list parameter specifies the intercept.\n",
    "        \"\"\"\n",
    "        from causallift import generate_data\n",
    "\n",
    "        df = generate_data(\n",
    "            N=1000, \n",
    "            n_features=3, \n",
    "            beta=[0,-2,3,-5], # Effect of [intercept and features] on outcome \n",
    "            error_std=0.1, \n",
    "            tau=[1,-5,-5,10], # Effect of [intercept and features] on treated outcome\n",
    "            tau_std=0.1, \n",
    "            discrete_outcome=True, \n",
    "            seed=seed, \n",
    "            feature_effect=0, # Effect of beta on treated outxome\n",
    "            propensity_coef=[0,-1,1,-1], # Effect of [intercept and features] on propensity log-odds for treatment\n",
    "            index_name='index',\n",
    "        )\n",
    "        \n",
    "    elif data == 'lalonde':\n",
    "        r\"\"\" \n",
    "            Lalonde dataset was used to evaluate propensity score in the paper:\n",
    "            Dehejia, R., & Wahba, S. (1999). Causal Effects in Nonexperimental \n",
    "            Studies: Reevaluating the Evaluation of Training Programs. Journal of \n",
    "            the American Statistical Association, 94(448), 1053-1062. \n",
    "            doi:10.2307/2669919\n",
    "\n",
    "            Lalonde dataset is now included in R package named \"Matching.\"\n",
    "            http://sekhon.berkeley.edu/matching/lalonde.html\n",
    "        \"\"\"\n",
    "        import numpy as np\n",
    "        \n",
    "        def get_lalonde():\n",
    "            r\"\"\" Load datasets, concatenate, and create features to get data frame \n",
    "            similar to 'lalonde' that comes with \"Matching.\")\n",
    "            \"\"\"\n",
    "            cols = ['treat', 'age', 'educ', 'black', 'hisp', 'married', 'nodegr','re74','re75','re78']\n",
    "            control_df = pd.read_csv('http://www.nber.org/~rdehejia/data/nswre74_control.txt', sep=r'\\s+', header = None, names = cols)\n",
    "            treated_df = pd.read_csv('http://www.nber.org/~rdehejia/data/nswre74_treated.txt', sep=r'\\s+', header = None, names = cols)\n",
    "            lalonde_df = pd.concat([control_df, treated_df], ignore_index=True)\n",
    "            lalonde_df['u74'] = np.where(lalonde_df['re74'] == 0, 1.0, 0.0)\n",
    "            lalonde_df['u75'] = np.where(lalonde_df['re75'] == 0, 1.0, 0.0)\n",
    "            return lalonde_df\n",
    "        lalonde_df = get_lalonde()\n",
    "        \n",
    "        \"\"\" Prepare the input Data Frame. \"\"\"\n",
    "        df = lalonde_df.copy()\n",
    "        df.rename(columns={'treat':'Treatment', 're78':'Outcome'}, inplace=True)\n",
    "        df['Outcome'] = np.where(df['Outcome'] > 0, 1.0, 0.0)\n",
    "        \n",
    "        # categorize age to 20s, 30s, 40s, and 50s and then one-hot encode age\n",
    "        df.loc[:,'age'] = df['age'].apply(lambda x:'{:.0f}'.format(x)[:-1]+'0s') \n",
    "        df = pd.get_dummies(df, columns=['age'], drop_first=True) \n",
    "        \n",
    "        cols = ['nodegr', 'black', 'hisp', 'age_20s', 'age_30s', 'age_40s', 'age_50s', \n",
    "                'educ', 'married', 'u74', 'u75', 'Treatment', 'Outcome']\n",
    "        df = df[cols]\n",
    "\n",
    "    elif data == 'criteo':\n",
    "        save_dir = \"./raw_data\"\n",
    "        os.makedirs(save_dir, exist_ok=True)\n",
    "\n",
    "        criteo_url = \"http://go.criteo.net/criteo-research-uplift-v2.1.csv.gz\"\n",
    "        zip_file_name = \"raw_data/criteo-research-uplift-v2.1.csv.gz\"\n",
    "        unzip_file_name = \"raw_data/criteo-research-uplift-v2.1.csv\"\n",
    "        \n",
    "        if os.path.isfile(unzip_file_name):\n",
    "            print(\"The downloaded file already exists!\")\n",
    "        \n",
    "        else:\n",
    "            print(\"Try to download the raw data from the server...\")\n",
    "            response = requests.get(criteo_url, stream=True)\n",
    "            total_size_in_bytes = int(response.headers.get(\"content-length\", 0))\n",
    "            block_size = 1024\n",
    "            progress_bar = tqdm(total=total_size_in_bytes, unit='iB', unit_scale=True)\n",
    "            with open(zip_file_name, \"wb\") as f:\n",
    "                for data in response.iter_content(block_size):\n",
    "                    progress_bar.update(len(data))\n",
    "                    f.write(data)\n",
    "            progress_bar.close()\n",
    "            print(\"Finished downloading!!!\")\n",
    "            if total_size_in_bytes != 0 and progress_bar.n != total_size_in_bytes:\n",
    "                print(\"Error, something went wrong!\")\n",
    "                return\n",
    "\n",
    "            print(\"Try to unzip the downloaded file\")\n",
    "            with gzip.open(zip_file_name, \"rb\") as f_in:\n",
    "                with open (unzip_file_name, \"wb\") as f_out:\n",
    "                    shutil.copyfileobj(f_in, f_out)\n",
    "\n",
    "            os.remove(zip_file_name)\n",
    "            print(\"Zip file removed from disk\")\n",
    "\n",
    "        print(\"Import the csv file into pd.DataFrame\")\n",
    "        df = pd.read_csv(unzip_file_name)\n",
    "    \n",
    "    else:\n",
    "        raise ValueError(\"No corresponding data found\")\n",
    "\n",
    "    return df"
   ]
  },
  {
   "cell_type": "code",
   "execution_count": 42,
   "metadata": {},
   "outputs": [
    {
     "name": "stdout",
     "output_type": "stream",
     "text": [
      "The downloaded file already exists!\n",
      "Import the csv file into pd.DataFrame\n"
     ]
    }
   ],
   "source": [
    "df = prepare_data(\"criteo\")"
   ]
  },
  {
   "cell_type": "code",
   "execution_count": 49,
   "metadata": {},
   "outputs": [
    {
     "data": {
      "text/plain": [
       "0.1499998712408774"
      ]
     },
     "execution_count": 49,
     "metadata": {},
     "output_type": "execute_result"
    }
   ],
   "source": [
    "np.sum(df.treatment == 0)/len(df)\n",
    "# 15% is treated"
   ]
  },
  {
   "cell_type": "code",
   "execution_count": 56,
   "metadata": {},
   "outputs": [],
   "source": [
    "subset = pd.concat([df[df[\"treatment\"] == 0].iloc[0:10000], df[df[\"treatment\"] == 1].iloc[0:10000]]).reset_index(drop=True)\n",
    "# subsetting"
   ]
  },
  {
   "cell_type": "code",
   "execution_count": 60,
   "metadata": {},
   "outputs": [
    {
     "data": {
      "text/html": [
       "<div>\n",
       "<style scoped>\n",
       "    .dataframe tbody tr th:only-of-type {\n",
       "        vertical-align: middle;\n",
       "    }\n",
       "\n",
       "    .dataframe tbody tr th {\n",
       "        vertical-align: top;\n",
       "    }\n",
       "\n",
       "    .dataframe thead th {\n",
       "        text-align: right;\n",
       "    }\n",
       "</style>\n",
       "<table border=\"1\" class=\"dataframe\">\n",
       "  <thead>\n",
       "    <tr style=\"text-align: right;\">\n",
       "      <th></th>\n",
       "      <th>f0</th>\n",
       "      <th>f1</th>\n",
       "      <th>f2</th>\n",
       "      <th>f3</th>\n",
       "      <th>f4</th>\n",
       "      <th>f5</th>\n",
       "      <th>f6</th>\n",
       "      <th>f7</th>\n",
       "      <th>f8</th>\n",
       "      <th>f9</th>\n",
       "      <th>f10</th>\n",
       "      <th>f11</th>\n",
       "      <th>treatment</th>\n",
       "      <th>conversion</th>\n",
       "      <th>visit</th>\n",
       "      <th>exposure</th>\n",
       "    </tr>\n",
       "  </thead>\n",
       "  <tbody>\n",
       "    <tr>\n",
       "      <th>0</th>\n",
       "      <td>12.974809</td>\n",
       "      <td>10.059654</td>\n",
       "      <td>8.761255</td>\n",
       "      <td>2.293959</td>\n",
       "      <td>10.280525</td>\n",
       "      <td>4.115453</td>\n",
       "      <td>-5.116672</td>\n",
       "      <td>4.833815</td>\n",
       "      <td>3.955396</td>\n",
       "      <td>13.190056</td>\n",
       "      <td>5.300375</td>\n",
       "      <td>-0.168679</td>\n",
       "      <td>0</td>\n",
       "      <td>0</td>\n",
       "      <td>0</td>\n",
       "      <td>0</td>\n",
       "    </tr>\n",
       "    <tr>\n",
       "      <th>1</th>\n",
       "      <td>16.177822</td>\n",
       "      <td>10.059654</td>\n",
       "      <td>8.214383</td>\n",
       "      <td>3.359763</td>\n",
       "      <td>10.280525</td>\n",
       "      <td>4.115453</td>\n",
       "      <td>-2.411115</td>\n",
       "      <td>4.833815</td>\n",
       "      <td>3.971858</td>\n",
       "      <td>13.190056</td>\n",
       "      <td>5.300375</td>\n",
       "      <td>-0.168679</td>\n",
       "      <td>0</td>\n",
       "      <td>0</td>\n",
       "      <td>0</td>\n",
       "      <td>0</td>\n",
       "    </tr>\n",
       "    <tr>\n",
       "      <th>2</th>\n",
       "      <td>12.616365</td>\n",
       "      <td>10.059654</td>\n",
       "      <td>8.497501</td>\n",
       "      <td>4.679882</td>\n",
       "      <td>10.280525</td>\n",
       "      <td>4.115453</td>\n",
       "      <td>0.294443</td>\n",
       "      <td>4.833815</td>\n",
       "      <td>3.955396</td>\n",
       "      <td>16.226044</td>\n",
       "      <td>5.300375</td>\n",
       "      <td>-0.168679</td>\n",
       "      <td>0</td>\n",
       "      <td>0</td>\n",
       "      <td>0</td>\n",
       "      <td>0</td>\n",
       "    </tr>\n",
       "    <tr>\n",
       "      <th>3</th>\n",
       "      <td>26.683908</td>\n",
       "      <td>10.059654</td>\n",
       "      <td>8.214383</td>\n",
       "      <td>4.679882</td>\n",
       "      <td>10.280525</td>\n",
       "      <td>4.115453</td>\n",
       "      <td>-11.681070</td>\n",
       "      <td>4.833815</td>\n",
       "      <td>3.971858</td>\n",
       "      <td>13.190056</td>\n",
       "      <td>5.300375</td>\n",
       "      <td>-0.168679</td>\n",
       "      <td>0</td>\n",
       "      <td>0</td>\n",
       "      <td>0</td>\n",
       "      <td>0</td>\n",
       "    </tr>\n",
       "    <tr>\n",
       "      <th>4</th>\n",
       "      <td>24.359765</td>\n",
       "      <td>10.059654</td>\n",
       "      <td>8.214383</td>\n",
       "      <td>4.679882</td>\n",
       "      <td>10.280525</td>\n",
       "      <td>4.115453</td>\n",
       "      <td>-11.944313</td>\n",
       "      <td>4.833815</td>\n",
       "      <td>3.971858</td>\n",
       "      <td>13.190056</td>\n",
       "      <td>5.300375</td>\n",
       "      <td>-0.168679</td>\n",
       "      <td>0</td>\n",
       "      <td>0</td>\n",
       "      <td>0</td>\n",
       "      <td>0</td>\n",
       "    </tr>\n",
       "  </tbody>\n",
       "</table>\n",
       "</div>"
      ],
      "text/plain": [
       "          f0         f1        f2        f3         f4        f5         f6  \\\n",
       "0  12.974809  10.059654  8.761255  2.293959  10.280525  4.115453  -5.116672   \n",
       "1  16.177822  10.059654  8.214383  3.359763  10.280525  4.115453  -2.411115   \n",
       "2  12.616365  10.059654  8.497501  4.679882  10.280525  4.115453   0.294443   \n",
       "3  26.683908  10.059654  8.214383  4.679882  10.280525  4.115453 -11.681070   \n",
       "4  24.359765  10.059654  8.214383  4.679882  10.280525  4.115453 -11.944313   \n",
       "\n",
       "         f7        f8         f9       f10       f11  treatment  conversion  \\\n",
       "0  4.833815  3.955396  13.190056  5.300375 -0.168679          0           0   \n",
       "1  4.833815  3.971858  13.190056  5.300375 -0.168679          0           0   \n",
       "2  4.833815  3.955396  16.226044  5.300375 -0.168679          0           0   \n",
       "3  4.833815  3.971858  13.190056  5.300375 -0.168679          0           0   \n",
       "4  4.833815  3.971858  13.190056  5.300375 -0.168679          0           0   \n",
       "\n",
       "   visit  exposure  \n",
       "0      0         0  \n",
       "1      0         0  \n",
       "2      0         0  \n",
       "3      0         0  \n",
       "4      0         0  "
      ]
     },
     "execution_count": 60,
     "metadata": {},
     "output_type": "execute_result"
    }
   ],
   "source": [
    "subset.head()"
   ]
  },
  {
   "cell_type": "code",
   "execution_count": 59,
   "metadata": {},
   "outputs": [
    {
     "name": "stdout",
     "output_type": "stream",
     "text": [
      "16000 4000\n"
     ]
    }
   ],
   "source": [
    "train_df, eval_df = train_test_split(subset, test_size=0.2, random_state=42, stratify=subset.iloc[:, 12:14])\n",
    "print(len(train_df), len(eval_df))"
   ]
  },
  {
   "cell_type": "code",
   "execution_count": 61,
   "metadata": {},
   "outputs": [
    {
     "data": {
      "text/html": [
       "<div>\n",
       "<style scoped>\n",
       "    .dataframe tbody tr th:only-of-type {\n",
       "        vertical-align: middle;\n",
       "    }\n",
       "\n",
       "    .dataframe tbody tr th {\n",
       "        vertical-align: top;\n",
       "    }\n",
       "\n",
       "    .dataframe thead th {\n",
       "        text-align: right;\n",
       "    }\n",
       "</style>\n",
       "<table border=\"1\" class=\"dataframe\">\n",
       "  <thead>\n",
       "    <tr style=\"text-align: right;\">\n",
       "      <th></th>\n",
       "      <th>f0</th>\n",
       "      <th>f1</th>\n",
       "      <th>f2</th>\n",
       "      <th>f3</th>\n",
       "      <th>f4</th>\n",
       "      <th>f5</th>\n",
       "      <th>f6</th>\n",
       "      <th>f7</th>\n",
       "      <th>f8</th>\n",
       "      <th>f9</th>\n",
       "      <th>f10</th>\n",
       "      <th>f11</th>\n",
       "      <th>treatment</th>\n",
       "      <th>conversion</th>\n",
       "      <th>visit</th>\n",
       "      <th>exposure</th>\n",
       "    </tr>\n",
       "  </thead>\n",
       "  <tbody>\n",
       "    <tr>\n",
       "      <th>14973</th>\n",
       "      <td>24.678087</td>\n",
       "      <td>10.059654</td>\n",
       "      <td>8.214383</td>\n",
       "      <td>4.679882</td>\n",
       "      <td>10.280525</td>\n",
       "      <td>4.115453</td>\n",
       "      <td>-3.282109</td>\n",
       "      <td>4.833815</td>\n",
       "      <td>3.971858</td>\n",
       "      <td>13.190056</td>\n",
       "      <td>5.300375</td>\n",
       "      <td>-0.168679</td>\n",
       "      <td>1</td>\n",
       "      <td>0</td>\n",
       "      <td>0</td>\n",
       "      <td>0</td>\n",
       "    </tr>\n",
       "    <tr>\n",
       "      <th>3788</th>\n",
       "      <td>21.871863</td>\n",
       "      <td>10.059654</td>\n",
       "      <td>8.214383</td>\n",
       "      <td>4.679882</td>\n",
       "      <td>10.280525</td>\n",
       "      <td>4.115453</td>\n",
       "      <td>-5.987667</td>\n",
       "      <td>4.833815</td>\n",
       "      <td>3.971858</td>\n",
       "      <td>13.190056</td>\n",
       "      <td>5.300375</td>\n",
       "      <td>-0.168679</td>\n",
       "      <td>0</td>\n",
       "      <td>0</td>\n",
       "      <td>0</td>\n",
       "      <td>0</td>\n",
       "    </tr>\n",
       "    <tr>\n",
       "      <th>1037</th>\n",
       "      <td>26.204993</td>\n",
       "      <td>10.059654</td>\n",
       "      <td>8.214383</td>\n",
       "      <td>4.679882</td>\n",
       "      <td>10.280525</td>\n",
       "      <td>4.115453</td>\n",
       "      <td>-3.282109</td>\n",
       "      <td>4.833815</td>\n",
       "      <td>3.971858</td>\n",
       "      <td>13.190056</td>\n",
       "      <td>5.300375</td>\n",
       "      <td>-0.168679</td>\n",
       "      <td>0</td>\n",
       "      <td>0</td>\n",
       "      <td>0</td>\n",
       "      <td>0</td>\n",
       "    </tr>\n",
       "    <tr>\n",
       "      <th>17256</th>\n",
       "      <td>24.097903</td>\n",
       "      <td>10.059654</td>\n",
       "      <td>8.214383</td>\n",
       "      <td>4.679882</td>\n",
       "      <td>10.280525</td>\n",
       "      <td>4.115453</td>\n",
       "      <td>-1.288207</td>\n",
       "      <td>4.833815</td>\n",
       "      <td>3.971858</td>\n",
       "      <td>13.190056</td>\n",
       "      <td>5.300375</td>\n",
       "      <td>-0.168679</td>\n",
       "      <td>1</td>\n",
       "      <td>0</td>\n",
       "      <td>0</td>\n",
       "      <td>0</td>\n",
       "    </tr>\n",
       "    <tr>\n",
       "      <th>16862</th>\n",
       "      <td>18.083924</td>\n",
       "      <td>10.059654</td>\n",
       "      <td>8.214383</td>\n",
       "      <td>2.934780</td>\n",
       "      <td>10.280525</td>\n",
       "      <td>4.115453</td>\n",
       "      <td>-3.282109</td>\n",
       "      <td>4.833815</td>\n",
       "      <td>3.971858</td>\n",
       "      <td>13.190056</td>\n",
       "      <td>5.300375</td>\n",
       "      <td>-0.168679</td>\n",
       "      <td>1</td>\n",
       "      <td>0</td>\n",
       "      <td>0</td>\n",
       "      <td>0</td>\n",
       "    </tr>\n",
       "  </tbody>\n",
       "</table>\n",
       "</div>"
      ],
      "text/plain": [
       "              f0         f1        f2        f3         f4        f5  \\\n",
       "14973  24.678087  10.059654  8.214383  4.679882  10.280525  4.115453   \n",
       "3788   21.871863  10.059654  8.214383  4.679882  10.280525  4.115453   \n",
       "1037   26.204993  10.059654  8.214383  4.679882  10.280525  4.115453   \n",
       "17256  24.097903  10.059654  8.214383  4.679882  10.280525  4.115453   \n",
       "16862  18.083924  10.059654  8.214383  2.934780  10.280525  4.115453   \n",
       "\n",
       "             f6        f7        f8         f9       f10       f11  treatment  \\\n",
       "14973 -3.282109  4.833815  3.971858  13.190056  5.300375 -0.168679          1   \n",
       "3788  -5.987667  4.833815  3.971858  13.190056  5.300375 -0.168679          0   \n",
       "1037  -3.282109  4.833815  3.971858  13.190056  5.300375 -0.168679          0   \n",
       "17256 -1.288207  4.833815  3.971858  13.190056  5.300375 -0.168679          1   \n",
       "16862 -3.282109  4.833815  3.971858  13.190056  5.300375 -0.168679          1   \n",
       "\n",
       "       conversion  visit  exposure  \n",
       "14973           0      0         0  \n",
       "3788            0      0         0  \n",
       "1037            0      0         0  \n",
       "17256           0      0         0  \n",
       "16862           0      0         0  "
      ]
     },
     "execution_count": 61,
     "metadata": {},
     "output_type": "execute_result"
    }
   ],
   "source": [
    "train_df.head()"
   ]
  },
  {
   "cell_type": "code",
   "execution_count": 62,
   "metadata": {},
   "outputs": [
    {
     "data": {
      "text/html": [
       "<div>\n",
       "<style scoped>\n",
       "    .dataframe tbody tr th:only-of-type {\n",
       "        vertical-align: middle;\n",
       "    }\n",
       "\n",
       "    .dataframe tbody tr th {\n",
       "        vertical-align: top;\n",
       "    }\n",
       "\n",
       "    .dataframe thead th {\n",
       "        text-align: right;\n",
       "    }\n",
       "</style>\n",
       "<table border=\"1\" class=\"dataframe\">\n",
       "  <thead>\n",
       "    <tr style=\"text-align: right;\">\n",
       "      <th></th>\n",
       "      <th>f0</th>\n",
       "      <th>f1</th>\n",
       "      <th>f2</th>\n",
       "      <th>f3</th>\n",
       "      <th>f4</th>\n",
       "      <th>f5</th>\n",
       "      <th>f6</th>\n",
       "      <th>f7</th>\n",
       "      <th>f8</th>\n",
       "      <th>f9</th>\n",
       "      <th>f10</th>\n",
       "      <th>f11</th>\n",
       "      <th>treatment</th>\n",
       "      <th>conversion</th>\n",
       "      <th>visit</th>\n",
       "      <th>exposure</th>\n",
       "    </tr>\n",
       "  </thead>\n",
       "  <tbody>\n",
       "    <tr>\n",
       "      <th>f0</th>\n",
       "      <td>1.000000</td>\n",
       "      <td>-0.107728</td>\n",
       "      <td>-0.564694</td>\n",
       "      <td>0.367555</td>\n",
       "      <td>-0.167255</td>\n",
       "      <td>0.086392</td>\n",
       "      <td>-0.219291</td>\n",
       "      <td>-0.015057</td>\n",
       "      <td>0.412316</td>\n",
       "      <td>-0.306103</td>\n",
       "      <td>-0.138490</td>\n",
       "      <td>0.140965</td>\n",
       "      <td>-0.044103</td>\n",
       "      <td>-0.092089</td>\n",
       "      <td>-0.175249</td>\n",
       "      <td>-0.140897</td>\n",
       "    </tr>\n",
       "    <tr>\n",
       "      <th>f1</th>\n",
       "      <td>-0.107728</td>\n",
       "      <td>1.000000</td>\n",
       "      <td>-0.000115</td>\n",
       "      <td>-0.337571</td>\n",
       "      <td>0.291052</td>\n",
       "      <td>-0.552622</td>\n",
       "      <td>-0.159504</td>\n",
       "      <td>0.128333</td>\n",
       "      <td>-0.235704</td>\n",
       "      <td>0.331741</td>\n",
       "      <td>0.091026</td>\n",
       "      <td>-0.285698</td>\n",
       "      <td>-0.006820</td>\n",
       "      <td>0.159227</td>\n",
       "      <td>0.170176</td>\n",
       "      <td>0.137116</td>\n",
       "    </tr>\n",
       "    <tr>\n",
       "      <th>f2</th>\n",
       "      <td>-0.564694</td>\n",
       "      <td>-0.000115</td>\n",
       "      <td>1.000000</td>\n",
       "      <td>-0.024991</td>\n",
       "      <td>0.080392</td>\n",
       "      <td>-0.049219</td>\n",
       "      <td>0.143323</td>\n",
       "      <td>0.056678</td>\n",
       "      <td>-0.489130</td>\n",
       "      <td>0.042031</td>\n",
       "      <td>0.190649</td>\n",
       "      <td>0.007319</td>\n",
       "      <td>0.058116</td>\n",
       "      <td>-0.010813</td>\n",
       "      <td>0.031726</td>\n",
       "      <td>0.035266</td>\n",
       "    </tr>\n",
       "    <tr>\n",
       "      <th>f3</th>\n",
       "      <td>0.367555</td>\n",
       "      <td>-0.337571</td>\n",
       "      <td>-0.024991</td>\n",
       "      <td>1.000000</td>\n",
       "      <td>-0.346355</td>\n",
       "      <td>0.331366</td>\n",
       "      <td>0.409152</td>\n",
       "      <td>-0.161732</td>\n",
       "      <td>0.345029</td>\n",
       "      <td>-0.427344</td>\n",
       "      <td>-0.209521</td>\n",
       "      <td>0.287710</td>\n",
       "      <td>0.007095</td>\n",
       "      <td>-0.177168</td>\n",
       "      <td>-0.227919</td>\n",
       "      <td>-0.298691</td>\n",
       "    </tr>\n",
       "    <tr>\n",
       "      <th>...</th>\n",
       "      <td>...</td>\n",
       "      <td>...</td>\n",
       "      <td>...</td>\n",
       "      <td>...</td>\n",
       "      <td>...</td>\n",
       "      <td>...</td>\n",
       "      <td>...</td>\n",
       "      <td>...</td>\n",
       "      <td>...</td>\n",
       "      <td>...</td>\n",
       "      <td>...</td>\n",
       "      <td>...</td>\n",
       "      <td>...</td>\n",
       "      <td>...</td>\n",
       "      <td>...</td>\n",
       "      <td>...</td>\n",
       "    </tr>\n",
       "    <tr>\n",
       "      <th>treatment</th>\n",
       "      <td>-0.044103</td>\n",
       "      <td>-0.006820</td>\n",
       "      <td>0.058116</td>\n",
       "      <td>0.007095</td>\n",
       "      <td>-0.010578</td>\n",
       "      <td>0.003907</td>\n",
       "      <td>0.030602</td>\n",
       "      <td>-0.000442</td>\n",
       "      <td>0.015896</td>\n",
       "      <td>-0.019407</td>\n",
       "      <td>-0.012919</td>\n",
       "      <td>0.010770</td>\n",
       "      <td>1.000000</td>\n",
       "      <td>0.012974</td>\n",
       "      <td>-0.010783</td>\n",
       "      <td>0.108156</td>\n",
       "    </tr>\n",
       "    <tr>\n",
       "      <th>conversion</th>\n",
       "      <td>-0.092089</td>\n",
       "      <td>0.159227</td>\n",
       "      <td>-0.010813</td>\n",
       "      <td>-0.177168</td>\n",
       "      <td>0.408461</td>\n",
       "      <td>-0.147545</td>\n",
       "      <td>-0.088738</td>\n",
       "      <td>0.052109</td>\n",
       "      <td>-0.256503</td>\n",
       "      <td>0.339932</td>\n",
       "      <td>0.128135</td>\n",
       "      <td>-0.455336</td>\n",
       "      <td>0.012974</td>\n",
       "      <td>1.000000</td>\n",
       "      <td>0.407518</td>\n",
       "      <td>0.198575</td>\n",
       "    </tr>\n",
       "    <tr>\n",
       "      <th>visit</th>\n",
       "      <td>-0.175249</td>\n",
       "      <td>0.170176</td>\n",
       "      <td>0.031726</td>\n",
       "      <td>-0.227919</td>\n",
       "      <td>0.468861</td>\n",
       "      <td>-0.182292</td>\n",
       "      <td>-0.116342</td>\n",
       "      <td>0.101808</td>\n",
       "      <td>-0.477975</td>\n",
       "      <td>0.551725</td>\n",
       "      <td>0.264629</td>\n",
       "      <td>-0.391389</td>\n",
       "      <td>-0.010783</td>\n",
       "      <td>0.407518</td>\n",
       "      <td>1.000000</td>\n",
       "      <td>0.254879</td>\n",
       "    </tr>\n",
       "    <tr>\n",
       "      <th>exposure</th>\n",
       "      <td>-0.140897</td>\n",
       "      <td>0.137116</td>\n",
       "      <td>0.035266</td>\n",
       "      <td>-0.298691</td>\n",
       "      <td>0.181124</td>\n",
       "      <td>-0.187026</td>\n",
       "      <td>-0.156140</td>\n",
       "      <td>0.097149</td>\n",
       "      <td>-0.192433</td>\n",
       "      <td>0.217912</td>\n",
       "      <td>0.102348</td>\n",
       "      <td>-0.155041</td>\n",
       "      <td>0.108156</td>\n",
       "      <td>0.198575</td>\n",
       "      <td>0.254879</td>\n",
       "      <td>1.000000</td>\n",
       "    </tr>\n",
       "  </tbody>\n",
       "</table>\n",
       "<p>16 rows × 16 columns</p>\n",
       "</div>"
      ],
      "text/plain": [
       "                  f0        f1        f2        f3        f4        f5  \\\n",
       "f0          1.000000 -0.107728 -0.564694  0.367555 -0.167255  0.086392   \n",
       "f1         -0.107728  1.000000 -0.000115 -0.337571  0.291052 -0.552622   \n",
       "f2         -0.564694 -0.000115  1.000000 -0.024991  0.080392 -0.049219   \n",
       "f3          0.367555 -0.337571 -0.024991  1.000000 -0.346355  0.331366   \n",
       "...              ...       ...       ...       ...       ...       ...   \n",
       "treatment  -0.044103 -0.006820  0.058116  0.007095 -0.010578  0.003907   \n",
       "conversion -0.092089  0.159227 -0.010813 -0.177168  0.408461 -0.147545   \n",
       "visit      -0.175249  0.170176  0.031726 -0.227919  0.468861 -0.182292   \n",
       "exposure   -0.140897  0.137116  0.035266 -0.298691  0.181124 -0.187026   \n",
       "\n",
       "                  f6        f7        f8        f9       f10       f11  \\\n",
       "f0         -0.219291 -0.015057  0.412316 -0.306103 -0.138490  0.140965   \n",
       "f1         -0.159504  0.128333 -0.235704  0.331741  0.091026 -0.285698   \n",
       "f2          0.143323  0.056678 -0.489130  0.042031  0.190649  0.007319   \n",
       "f3          0.409152 -0.161732  0.345029 -0.427344 -0.209521  0.287710   \n",
       "...              ...       ...       ...       ...       ...       ...   \n",
       "treatment   0.030602 -0.000442  0.015896 -0.019407 -0.012919  0.010770   \n",
       "conversion -0.088738  0.052109 -0.256503  0.339932  0.128135 -0.455336   \n",
       "visit      -0.116342  0.101808 -0.477975  0.551725  0.264629 -0.391389   \n",
       "exposure   -0.156140  0.097149 -0.192433  0.217912  0.102348 -0.155041   \n",
       "\n",
       "            treatment  conversion     visit  exposure  \n",
       "f0          -0.044103   -0.092089 -0.175249 -0.140897  \n",
       "f1          -0.006820    0.159227  0.170176  0.137116  \n",
       "f2           0.058116   -0.010813  0.031726  0.035266  \n",
       "f3           0.007095   -0.177168 -0.227919 -0.298691  \n",
       "...               ...         ...       ...       ...  \n",
       "treatment    1.000000    0.012974 -0.010783  0.108156  \n",
       "conversion   0.012974    1.000000  0.407518  0.198575  \n",
       "visit       -0.010783    0.407518  1.000000  0.254879  \n",
       "exposure     0.108156    0.198575  0.254879  1.000000  \n",
       "\n",
       "[16 rows x 16 columns]"
      ]
     },
     "execution_count": 62,
     "metadata": {},
     "output_type": "execute_result"
    }
   ],
   "source": [
    "corr = train_df.corr()\n",
    "corr"
   ]
  },
  {
   "cell_type": "code",
   "execution_count": 63,
   "metadata": {},
   "outputs": [
    {
     "data": {
      "image/png": "[encoded data removed]",
      "text/plain": [
       "<Figure size 432x288 with 2 Axes>"
      ]
     },
     "metadata": {
      "needs_background": "light"
     },
     "output_type": "display_data"
    }
   ],
   "source": [
    "plt.imshow(corr, cmap=\"bwr\")\n",
    "plt.colorbar()\n",
    "plt.clim(-1, 1)\n",
    "plt.show()"
   ]
  },
  {
   "cell_type": "code",
   "execution_count": 65,
   "metadata": {},
   "outputs": [
    {
     "data": {
      "text/html": [
       "<div>\n",
       "<style scoped>\n",
       "    .dataframe tbody tr th:only-of-type {\n",
       "        vertical-align: middle;\n",
       "    }\n",
       "\n",
       "    .dataframe tbody tr th {\n",
       "        vertical-align: top;\n",
       "    }\n",
       "\n",
       "    .dataframe thead th {\n",
       "        text-align: right;\n",
       "    }\n",
       "</style>\n",
       "<table border=\"1\" class=\"dataframe\">\n",
       "  <thead>\n",
       "    <tr style=\"text-align: right;\">\n",
       "      <th>conversion</th>\n",
       "      <th>0</th>\n",
       "      <th>1</th>\n",
       "    </tr>\n",
       "    <tr>\n",
       "      <th>treatment</th>\n",
       "      <th></th>\n",
       "      <th></th>\n",
       "    </tr>\n",
       "  </thead>\n",
       "  <tbody>\n",
       "    <tr>\n",
       "      <th>0</th>\n",
       "      <td>0.498437</td>\n",
       "      <td>0.001563</td>\n",
       "    </tr>\n",
       "    <tr>\n",
       "      <th>1</th>\n",
       "      <td>0.497625</td>\n",
       "      <td>0.002375</td>\n",
       "    </tr>\n",
       "  </tbody>\n",
       "</table>\n",
       "</div>"
      ],
      "text/plain": [
       "conversion         0         1\n",
       "treatment                     \n",
       "0           0.498437  0.001563\n",
       "1           0.497625  0.002375"
      ]
     },
     "execution_count": 65,
     "metadata": {},
     "output_type": "execute_result"
    }
   ],
   "source": [
    "pd.crosstab(train_df.treatment, train_df.conversion)/len(train_df)"
   ]
  },
  {
   "cell_type": "code",
   "execution_count": 68,
   "metadata": {},
   "outputs": [
    {
     "data": {
      "text/plain": [
       "<matplotlib.legend.Legend at 0x7f7224df76d0>"
      ]
     },
     "execution_count": 68,
     "metadata": {},
     "output_type": "execute_result"
    },
    {
     "data": {
      "image/png": "[encoded data removed]",
      "text/plain": [
       "<Figure size 432x288 with 1 Axes>"
      ]
     },
     "metadata": {
      "needs_background": "light"
     },
     "output_type": "display_data"
    }
   ],
   "source": [
    "for idx, column in enumerate(df.columns):\n",
    "    if idx >= len(df.columns) - 4:\n",
    "        # t and y varaibles\n",
    "        continue\n",
    "    plt.hist(df[column], density=True, histtype=\"step\", label=column)\n",
    "plt.legend()"
   ]
  },
  {
   "cell_type": "code",
   "execution_count": 69,
   "metadata": {},
   "outputs": [],
   "source": [
    "class UpliftDataset(Dataset):\n",
    "    def __init__(\n",
    "        self,\n",
    "        df: pd.DataFrame,\n",
    "        in_features: int,\n",
    "        t_idx: Optional[int] = None,\n",
    "        y_idx: Optional[int] = None,\n",
    "    ):\n",
    "        t_idx = in_features if t_idx is None else t_idx\n",
    "        y_idx = in_features + 1 if y_idx is None else y_idx\n",
    "\n",
    "        self.in_features = in_features\n",
    "        self.t_idx = t_idx\n",
    "        self.y_idx = y_idx\n",
    "        \n",
    "        self.df = df\n",
    "        self.X  = self.df.iloc[:, 0:in_features]\n",
    "        self.t  = self.df.iloc[:, t_idx]\n",
    "        self.y  = self.df.iloc[:, y_idx]\n",
    "\n",
    "    def __len__(self):\n",
    "        return len(self.X)\n",
    "\n",
    "    def __getitem__(self, idx):\n",
    "        X = torch.tensor(self.X.iloc[idx, :].to_numpy(), dtype=torch.float32)\n",
    "        t = torch.tensor(self.t.iloc[idx], dtype=torch.float32)\n",
    "        y = torch.tensor(self.y.iloc[idx], dtype=torch.float32)\n",
    "        return (X, t, y)"
   ]
  },
  {
   "cell_type": "code",
   "execution_count": 70,
   "metadata": {},
   "outputs": [],
   "source": [
    "train_set = UpliftDataset(train_df, 12)\n",
    "eval_set  = UpliftDataset(eval_df, 12)\n",
    "\n",
    "train_dl = DataLoader(train_set, batch_size=128, shuffle=True)\n",
    "eval_dl  = DataLoader(eval_set, batch_size=128, shuffle=False)"
   ]
  },
  {
   "cell_type": "code",
   "execution_count": 71,
   "metadata": {},
   "outputs": [
    {
     "data": {
      "text/plain": [
       "(tensor([24.6781, 10.0597,  8.2144,  4.6799, 10.2805,  4.1155, -3.2821,  4.8338,\n",
       "          3.9719, 13.1901,  5.3004, -0.1687]),\n",
       " tensor(1.),\n",
       " tensor(0.))"
      ]
     },
     "execution_count": 71,
     "metadata": {},
     "output_type": "execute_result"
    }
   ],
   "source": [
    "train_set[0]"
   ]
  },
  {
   "cell_type": "code",
   "execution_count": 72,
   "metadata": {},
   "outputs": [],
   "source": [
    "class UpliftModel(nn.Module):\n",
    "    def __init__(\n",
    "        self,\n",
    "        in_features: int,\n",
    "    ):\n",
    "        super(UpliftModel, self).__init__()\n",
    "        self.fc = nn.Linear(in_features+1, 1)\n",
    "        # additional feature for T\n",
    "    \n",
    "    def forward(self, x):\n",
    "        return self.fc(x)"
   ]
  },
  {
   "cell_type": "code",
   "execution_count": 73,
   "metadata": {},
   "outputs": [],
   "source": [
    "class UpliftWrapper(nn.Module):\n",
    "    def __init__(\n",
    "        self,\n",
    "        in_features: int,\n",
    "    ):\n",
    "        super(UpliftWrapper, self).__init__()\n",
    "        self.in_features = in_features\n",
    "        self.model = UpliftModel(in_features)\n",
    "        self.sigmoid = nn.Sigmoid()\n",
    "        \n",
    "    def forward(\n",
    "        self, \n",
    "        x: torch.Tensor, \n",
    "        t: torch.Tensor,\n",
    "    ):\n",
    "        # X shape: (B, N)\n",
    "        if t.ndim == 2:\n",
    "            t = t.squeeze()\n",
    "        B = x.size(0)\n",
    "        L = x.size(1)\n",
    "        # print(f\"input shape: {x.shape}\")\n",
    "\n",
    "        # first creating the inputs accordingly\n",
    "        x_0 = torch.cat([x, torch.zeros([B, 1]).to(x.device)], dim=1)\n",
    "        x_1 = torch.cat([x, torch.ones([B, 1]).to(x.device)], dim=1)\n",
    "        # print(f\"x_0 shape: {x_0.shape}, x_1 shape: {x_1.shape}\")\n",
    "\n",
    "        y_0 = self.sigmoid(self.model(x_0)).squeeze()\n",
    "        y_1 = self.sigmoid(self.model(x_1)).squeeze()\n",
    "        # print(f\"y_0 shape: {y_0.shape}, y_1 shape: {y_1.shape}\")\n",
    "\n",
    "        pred = torch.where(t == 1, y_1, y_0)\n",
    "\n",
    "        return {\n",
    "            \"uplift\": y_1 - y_0,\n",
    "            \"pred\": pred,\n",
    "        }\n"
   ]
  },
  {
   "cell_type": "code",
   "execution_count": 74,
   "metadata": {},
   "outputs": [],
   "source": [
    "class UpliftLoss(nn.Module):\n",
    "    def __init__(self, \n",
    "        propensity_score: float = 0.5, \n",
    "        alpha: Optional[float] = None, \n",
    "    ):\n",
    "        super(UpliftLoss, self).__init__()\n",
    "        \n",
    "        if alpha > 1 or alpha < 0:\n",
    "            raise ValueError(\"alpha must be in [0, 1]\")\n",
    "        self.e_x = propensity_score\n",
    "        self.alpha = alpha\n",
    "\n",
    "        self.loss_u = nn.MSELoss()\n",
    "        self.loss_y = nn.BCEWithLogitsLoss()\n",
    "\n",
    "    def forward(self, out, t, y):\n",
    "        z = t * y / self.e_x - (1-t) * y / (1-self.e_x)\n",
    "        # print(z)\n",
    "        # variable transformation\n",
    "\n",
    "        loss_uplift = self.loss_u(z, out[\"uplift\"].squeeze())\n",
    "        loss_pred   = self.loss_y(y, out[\"pred\"].squeeze())\n",
    "\n",
    "        loss = (1-self.alpha) * loss_uplift + self.alpha * loss_pred\n",
    "        return loss"
   ]
  },
  {
   "cell_type": "code",
   "execution_count": 75,
   "metadata": {},
   "outputs": [],
   "source": [
    "model = UpliftWrapper(12)\n",
    "criterion = UpliftLoss(propensity_score=0.5, alpha=0.5)"
   ]
  },
  {
   "cell_type": "code",
   "execution_count": 76,
   "metadata": {},
   "outputs": [
    {
     "data": {
      "text/plain": [
       "tensor([[24.6781, 10.0597,  8.2144,  4.6799, 10.2805,  4.1155, -3.2821,  4.8338,\n",
       "          3.9719, 13.1901,  5.3004, -0.1687]])"
      ]
     },
     "execution_count": 76,
     "metadata": {},
     "output_type": "execute_result"
    }
   ],
   "source": [
    "train_set[0][0].unsqueeze(0)"
   ]
  },
  {
   "cell_type": "code",
   "execution_count": 77,
   "metadata": {},
   "outputs": [
    {
     "data": {
      "text/plain": [
       "{'uplift': tensor(0.0417, grad_fn=<SubBackward0>),\n",
       " 'pred': tensor(0.2276, grad_fn=<SWhereBackward>)}"
      ]
     },
     "execution_count": 77,
     "metadata": {},
     "output_type": "execute_result"
    }
   ],
   "source": [
    "out = model(train_set[0][0].unsqueeze(0), train_set[0][1])\n",
    "out"
   ]
  },
  {
   "cell_type": "code",
   "execution_count": 78,
   "metadata": {},
   "outputs": [],
   "source": [
    "X, t, y = next(iter(train_dl))\n",
    "out = model(X, t)\n",
    "# print(out)\n",
    "# print(out[\"uplift\"].shape, out[\"pred\"].shape)"
   ]
  },
  {
   "cell_type": "code",
   "execution_count": 79,
   "metadata": {},
   "outputs": [
    {
     "data": {
      "text/plain": [
       "tensor([0.9191, 0.9143, 0.9810, 0.2545, 0.2203, 0.0064, 0.7934, 0.0339, 0.4664,\n",
       "        0.1331, 0.0100, 0.1015, 0.2558, 0.6406, 0.9907, 0.1873, 0.3048, 0.4327,\n",
       "        0.0715, 0.1978, 0.1694, 0.2492, 0.2934, 0.2751, 0.2985, 0.1150, 0.1635,\n",
       "        0.0384, 0.3387, 0.6310, 0.3132, 0.0028, 0.6333, 0.1732, 0.0409, 0.2241,\n",
       "        0.2037, 0.3021, 0.3210, 0.3040, 0.3735, 0.1522, 0.9953, 0.1333, 0.2579,\n",
       "        0.6311, 0.2903, 0.0089, 0.1163, 0.5155, 0.2423, 0.0247, 0.1151, 0.3508,\n",
       "        0.2112, 0.3260, 0.1543, 0.0417, 0.3137, 0.6415, 0.2907, 0.6487, 0.0492,\n",
       "        0.6399, 0.6374, 0.0494, 0.2218, 0.3142, 0.1902, 0.3132, 0.2825, 0.1137,\n",
       "        0.0797, 0.6337, 0.1073, 0.0812, 0.3128, 0.0590, 0.0412, 0.2153, 0.0790,\n",
       "        0.0974, 0.2008, 0.2273, 0.0516, 0.2484, 0.8491, 0.2556, 0.5804, 0.1283,\n",
       "        0.0575, 0.8600, 0.0768, 0.3052, 0.1102, 0.3055, 0.0846, 0.0874, 0.1596,\n",
       "        0.3218, 0.3067, 0.1989, 0.7021, 0.0196, 0.3674, 0.1013, 0.1235, 0.2505,\n",
       "        0.3177, 0.0762, 0.2159, 0.2694, 0.0896, 0.2213, 0.3812, 0.2847, 0.3078,\n",
       "        0.0715, 0.2010, 0.7015, 0.0701, 0.3701, 0.2236, 0.0828, 0.1185, 0.4101,\n",
       "        0.2577, 0.1426], grad_fn=<SWhereBackward>)"
      ]
     },
     "execution_count": 79,
     "metadata": {},
     "output_type": "execute_result"
    }
   ],
   "source": [
    "out[\"pred\"]"
   ]
  },
  {
   "cell_type": "code",
   "execution_count": 80,
   "metadata": {},
   "outputs": [
    {
     "data": {
      "text/plain": [
       "tensor([0.0211, 0.0222, 0.0054, 0.0513, 0.0469, 0.0014, 0.0449, 0.0074, 0.0625,\n",
       "        0.0267, 0.0029, 0.0257, 0.0454, 0.0563, 0.0021, 0.0419, 0.0512, 0.0633,\n",
       "        0.0189, 0.0374, 0.0389, 0.0506, 0.0499, 0.0536, 0.0505, 0.0286, 0.0319,\n",
       "        0.0084, 0.0545, 0.0571, 0.0572, 0.0008, 0.0569, 0.0335, 0.0112, 0.0412,\n",
       "        0.0382, 0.0509, 0.0528, 0.0511, 0.0575, 0.0359, 0.0010, 0.0268, 0.0457,\n",
       "        0.0571, 0.0551, 0.0020, 0.0237, 0.0635, 0.0437, 0.0069, 0.0235, 0.0556,\n",
       "        0.0393, 0.0533, 0.0304, 0.0091, 0.0573, 0.0563, 0.0552, 0.0557, 0.0134,\n",
       "        0.0564, 0.0566, 0.0134, 0.0471, 0.0522, 0.0424, 0.0521, 0.0544, 0.0233,\n",
       "        0.0168, 0.0569, 0.0221, 0.0211, 0.0572, 0.0158, 0.0113, 0.0461, 0.0206,\n",
       "        0.0202, 0.0440, 0.0478, 0.0140, 0.0505, 0.0356, 0.0514, 0.0630, 0.0259,\n",
       "        0.0124, 0.0280, 0.0201, 0.0565, 0.0276, 0.0566, 0.0178, 0.0226, 0.0313,\n",
       "        0.0579, 0.0514, 0.0437, 0.0559, 0.0043, 0.0570, 0.0257, 0.0250, 0.0448,\n",
       "        0.0525, 0.0161, 0.0462, 0.0471, 0.0231, 0.0470, 0.0580, 0.0489, 0.0515,\n",
       "        0.0189, 0.0440, 0.0559, 0.0185, 0.0572, 0.0473, 0.0215, 0.0241, 0.0599,\n",
       "        0.0457, 0.0284], grad_fn=<SubBackward0>)"
      ]
     },
     "execution_count": 80,
     "metadata": {},
     "output_type": "execute_result"
    }
   ],
   "source": [
    "out[\"uplift\"]"
   ]
  },
  {
   "cell_type": "code",
   "execution_count": 81,
   "metadata": {},
   "outputs": [
    {
     "data": {
      "text/plain": [
       "tensor(0.3474, grad_fn=<AddBackward0>)"
      ]
     },
     "execution_count": 81,
     "metadata": {},
     "output_type": "execute_result"
    }
   ],
   "source": [
    "loss = criterion(out, t, y)\n",
    "loss"
   ]
  },
  {
   "cell_type": "code",
   "execution_count": 82,
   "metadata": {},
   "outputs": [
    {
     "data": {
      "text/plain": [
       "UpliftWrapper(\n",
       "  (model): UpliftModel(\n",
       "    (fc): Linear(in_features=13, out_features=1, bias=True)\n",
       "  )\n",
       "  (sigmoid): Sigmoid()\n",
       ")"
      ]
     },
     "execution_count": 82,
     "metadata": {},
     "output_type": "execute_result"
    }
   ],
   "source": [
    "model.cuda()"
   ]
  },
  {
   "cell_type": "code",
   "execution_count": 84,
   "metadata": {},
   "outputs": [],
   "source": [
    "optimizer = torch.optim.SGD(model.parameters(), lr=3e-4)"
   ]
  },
  {
   "cell_type": "code",
   "execution_count": null,
   "metadata": {},
   "outputs": [],
   "source": [
    "@dataclass\n",
    "class UpliftTrainingArguments:\n",
    "    num_train_epochs: int\n",
    "\n",
    "    do_train: bool = False\n",
    "    do_eval: bool  = False\n",
    "    do_test: bool  = False\n",
    "\n",
    "    eval_steps: int = field(default=500, )\n",
    "    logging_steps: int = field(default=500, )\n",
    "    saving_steps: int = field(default=500, )\n",
    "\n",
    "class UpliftTrainer:\n",
    "    def __init__(\n",
    "        self, \n",
    "        args: UpliftTrainingArguments, \n",
    "        model: nn.Module,\n",
    "        train_dataset: Optional[Dataset],\n",
    "        eval_dataset:  Optional[Dataset],\n",
    "        test_dataset:  Optional[Dataset],\n",
    "    ):\n",
    "        \n",
    "        self.args  = args\n",
    "        self.model = model\n",
    "\n",
    "        self.train_dataset = train_dataset\n",
    "        self.eval_dataset  = eval_dataset\n",
    "        self.test_dataset  = test_dataset\n",
    "\n",
    "    def train(self):\n",
    "        pass"
   ]
  },
  {
   "cell_type": "code",
   "execution_count": 87,
   "metadata": {},
   "outputs": [
    {
     "name": "stdout",
     "output_type": "stream",
     "text": [
      "epoch: 0\n"
     ]
    },
    {
     "name": "stderr",
     "output_type": "stream",
     "text": [
      "100%|██████████| 125/125 [00:02<00:00, 44.02it/s]\n"
     ]
    },
    {
     "name": "stdout",
     "output_type": "stream",
     "text": [
      "train accuracy: 0.8149375\n"
     ]
    },
    {
     "name": "stderr",
     "output_type": "stream",
     "text": [
      "100%|██████████| 32/32 [00:00<00:00, 55.06it/s]\n"
     ]
    },
    {
     "name": "stdout",
     "output_type": "stream",
     "text": [
      "train accuracy: 0.80825\n",
      "\n",
      "epoch: 1\n"
     ]
    },
    {
     "name": "stderr",
     "output_type": "stream",
     "text": [
      "100%|██████████| 125/125 [00:02<00:00, 46.17it/s]\n"
     ]
    },
    {
     "name": "stdout",
     "output_type": "stream",
     "text": [
      "train accuracy: 0.815875\n"
     ]
    },
    {
     "name": "stderr",
     "output_type": "stream",
     "text": [
      "100%|██████████| 32/32 [00:00<00:00, 48.00it/s]\n"
     ]
    },
    {
     "name": "stdout",
     "output_type": "stream",
     "text": [
      "train accuracy: 0.8085\n",
      "\n",
      "epoch: 2\n"
     ]
    },
    {
     "name": "stderr",
     "output_type": "stream",
     "text": [
      "100%|██████████| 125/125 [00:02<00:00, 49.02it/s]\n"
     ]
    },
    {
     "name": "stdout",
     "output_type": "stream",
     "text": [
      "train accuracy: 0.8166875\n"
     ]
    },
    {
     "name": "stderr",
     "output_type": "stream",
     "text": [
      "100%|██████████| 32/32 [00:00<00:00, 54.10it/s]\n"
     ]
    },
    {
     "name": "stdout",
     "output_type": "stream",
     "text": [
      "train accuracy: 0.80925\n",
      "\n",
      "epoch: 3\n"
     ]
    },
    {
     "name": "stderr",
     "output_type": "stream",
     "text": [
      "100%|██████████| 125/125 [00:02<00:00, 47.68it/s]\n"
     ]
    },
    {
     "name": "stdout",
     "output_type": "stream",
     "text": [
      "train accuracy: 0.81725\n"
     ]
    },
    {
     "name": "stderr",
     "output_type": "stream",
     "text": [
      "100%|██████████| 32/32 [00:00<00:00, 54.25it/s]\n"
     ]
    },
    {
     "name": "stdout",
     "output_type": "stream",
     "text": [
      "train accuracy: 0.8095\n",
      "\n",
      "epoch: 4\n"
     ]
    },
    {
     "name": "stderr",
     "output_type": "stream",
     "text": [
      "100%|██████████| 125/125 [00:02<00:00, 44.84it/s]\n"
     ]
    },
    {
     "name": "stdout",
     "output_type": "stream",
     "text": [
      "train accuracy: 0.817625\n"
     ]
    },
    {
     "name": "stderr",
     "output_type": "stream",
     "text": [
      "100%|██████████| 32/32 [00:00<00:00, 48.19it/s]\n"
     ]
    },
    {
     "name": "stdout",
     "output_type": "stream",
     "text": [
      "train accuracy: 0.80975\n",
      "\n",
      "epoch: 5\n"
     ]
    },
    {
     "name": "stderr",
     "output_type": "stream",
     "text": [
      "100%|██████████| 125/125 [00:02<00:00, 49.88it/s]\n"
     ]
    },
    {
     "name": "stdout",
     "output_type": "stream",
     "text": [
      "train accuracy: 0.8181875\n"
     ]
    },
    {
     "name": "stderr",
     "output_type": "stream",
     "text": [
      "100%|██████████| 32/32 [00:00<00:00, 53.61it/s]\n"
     ]
    },
    {
     "name": "stdout",
     "output_type": "stream",
     "text": [
      "train accuracy: 0.8105\n",
      "\n",
      "epoch: 6\n"
     ]
    },
    {
     "name": "stderr",
     "output_type": "stream",
     "text": [
      " 22%|██▏       | 27/125 [00:00<00:01, 49.70it/s]\n"
     ]
    },
    {
     "ename": "KeyboardInterrupt",
     "evalue": "",
     "output_type": "error",
     "traceback": [
      "\u001b[0;31m---------------------------------------------------------------------------\u001b[0m",
      "\u001b[0;31mKeyboardInterrupt\u001b[0m                         Traceback (most recent call last)",
      "\u001b[0;32m<ipython-input-87-8cf55de932bd>\u001b[0m in \u001b[0;36m<module>\u001b[0;34m\u001b[0m\n\u001b[1;32m     12\u001b[0m \u001b[0;34m\u001b[0m\u001b[0m\n\u001b[1;32m     13\u001b[0m     \u001b[0mmodel\u001b[0m\u001b[0;34m.\u001b[0m\u001b[0mtrain\u001b[0m\u001b[0;34m(\u001b[0m\u001b[0;34m)\u001b[0m\u001b[0;34m\u001b[0m\u001b[0;34m\u001b[0m\u001b[0m\n\u001b[0;32m---> 14\u001b[0;31m     \u001b[0;32mfor\u001b[0m \u001b[0mX\u001b[0m\u001b[0;34m,\u001b[0m \u001b[0mt\u001b[0m\u001b[0;34m,\u001b[0m \u001b[0my\u001b[0m \u001b[0;32min\u001b[0m \u001b[0mtqdm\u001b[0m\u001b[0;34m(\u001b[0m\u001b[0mtrain_dl\u001b[0m\u001b[0;34m)\u001b[0m\u001b[0;34m:\u001b[0m\u001b[0;34m\u001b[0m\u001b[0;34m\u001b[0m\u001b[0m\n\u001b[0m\u001b[1;32m     15\u001b[0m         \u001b[0moptimizer\u001b[0m\u001b[0;34m.\u001b[0m\u001b[0mzero_grad\u001b[0m\u001b[0;34m(\u001b[0m\u001b[0;34m)\u001b[0m\u001b[0;34m\u001b[0m\u001b[0;34m\u001b[0m\u001b[0m\n\u001b[1;32m     16\u001b[0m         \u001b[0mtrain_cnt\u001b[0m \u001b[0;34m+=\u001b[0m \u001b[0mX\u001b[0m\u001b[0;34m.\u001b[0m\u001b[0msize\u001b[0m\u001b[0;34m(\u001b[0m\u001b[0;36m0\u001b[0m\u001b[0;34m)\u001b[0m\u001b[0;34m\u001b[0m\u001b[0;34m\u001b[0m\u001b[0m\n",
      "\u001b[0;32m/opt/conda/lib/python3.8/site-packages/tqdm/std.py\u001b[0m in \u001b[0;36m__iter__\u001b[0;34m(self)\u001b[0m\n\u001b[1;32m   1178\u001b[0m \u001b[0;34m\u001b[0m\u001b[0m\n\u001b[1;32m   1179\u001b[0m         \u001b[0;32mtry\u001b[0m\u001b[0;34m:\u001b[0m\u001b[0;34m\u001b[0m\u001b[0;34m\u001b[0m\u001b[0m\n\u001b[0;32m-> 1180\u001b[0;31m             \u001b[0;32mfor\u001b[0m \u001b[0mobj\u001b[0m \u001b[0;32min\u001b[0m \u001b[0miterable\u001b[0m\u001b[0;34m:\u001b[0m\u001b[0;34m\u001b[0m\u001b[0;34m\u001b[0m\u001b[0m\n\u001b[0m\u001b[1;32m   1181\u001b[0m                 \u001b[0;32myield\u001b[0m \u001b[0mobj\u001b[0m\u001b[0;34m\u001b[0m\u001b[0;34m\u001b[0m\u001b[0m\n\u001b[1;32m   1182\u001b[0m                 \u001b[0;31m# Update and possibly print the progressbar.\u001b[0m\u001b[0;34m\u001b[0m\u001b[0;34m\u001b[0m\u001b[0;34m\u001b[0m\u001b[0m\n",
      "\u001b[0;32m/opt/conda/lib/python3.8/site-packages/torch/utils/data/dataloader.py\u001b[0m in \u001b[0;36m__next__\u001b[0;34m(self)\u001b[0m\n\u001b[1;32m    433\u001b[0m         \u001b[0;32mif\u001b[0m \u001b[0mself\u001b[0m\u001b[0;34m.\u001b[0m\u001b[0m_sampler_iter\u001b[0m \u001b[0;32mis\u001b[0m \u001b[0;32mNone\u001b[0m\u001b[0;34m:\u001b[0m\u001b[0;34m\u001b[0m\u001b[0;34m\u001b[0m\u001b[0m\n\u001b[1;32m    434\u001b[0m             \u001b[0mself\u001b[0m\u001b[0;34m.\u001b[0m\u001b[0m_reset\u001b[0m\u001b[0;34m(\u001b[0m\u001b[0;34m)\u001b[0m\u001b[0;34m\u001b[0m\u001b[0;34m\u001b[0m\u001b[0m\n\u001b[0;32m--> 435\u001b[0;31m         \u001b[0mdata\u001b[0m \u001b[0;34m=\u001b[0m \u001b[0mself\u001b[0m\u001b[0;34m.\u001b[0m\u001b[0m_next_data\u001b[0m\u001b[0;34m(\u001b[0m\u001b[0;34m)\u001b[0m\u001b[0;34m\u001b[0m\u001b[0;34m\u001b[0m\u001b[0m\n\u001b[0m\u001b[1;32m    436\u001b[0m         \u001b[0mself\u001b[0m\u001b[0;34m.\u001b[0m\u001b[0m_num_yielded\u001b[0m \u001b[0;34m+=\u001b[0m \u001b[0;36m1\u001b[0m\u001b[0;34m\u001b[0m\u001b[0;34m\u001b[0m\u001b[0m\n\u001b[1;32m    437\u001b[0m         \u001b[0;32mif\u001b[0m \u001b[0mself\u001b[0m\u001b[0;34m.\u001b[0m\u001b[0m_dataset_kind\u001b[0m \u001b[0;34m==\u001b[0m \u001b[0m_DatasetKind\u001b[0m\u001b[0;34m.\u001b[0m\u001b[0mIterable\u001b[0m \u001b[0;32mand\u001b[0m\u001b[0;31m \u001b[0m\u001b[0;31m\\\u001b[0m\u001b[0;34m\u001b[0m\u001b[0;34m\u001b[0m\u001b[0m\n",
      "\u001b[0;32m/opt/conda/lib/python3.8/site-packages/torch/utils/data/dataloader.py\u001b[0m in \u001b[0;36m_next_data\u001b[0;34m(self)\u001b[0m\n\u001b[1;32m    473\u001b[0m     \u001b[0;32mdef\u001b[0m \u001b[0m_next_data\u001b[0m\u001b[0;34m(\u001b[0m\u001b[0mself\u001b[0m\u001b[0;34m)\u001b[0m\u001b[0;34m:\u001b[0m\u001b[0;34m\u001b[0m\u001b[0;34m\u001b[0m\u001b[0m\n\u001b[1;32m    474\u001b[0m         \u001b[0mindex\u001b[0m \u001b[0;34m=\u001b[0m \u001b[0mself\u001b[0m\u001b[0;34m.\u001b[0m\u001b[0m_next_index\u001b[0m\u001b[0;34m(\u001b[0m\u001b[0;34m)\u001b[0m  \u001b[0;31m# may raise StopIteration\u001b[0m\u001b[0;34m\u001b[0m\u001b[0;34m\u001b[0m\u001b[0m\n\u001b[0;32m--> 475\u001b[0;31m         \u001b[0mdata\u001b[0m \u001b[0;34m=\u001b[0m \u001b[0mself\u001b[0m\u001b[0;34m.\u001b[0m\u001b[0m_dataset_fetcher\u001b[0m\u001b[0;34m.\u001b[0m\u001b[0mfetch\u001b[0m\u001b[0;34m(\u001b[0m\u001b[0mindex\u001b[0m\u001b[0;34m)\u001b[0m  \u001b[0;31m# may raise StopIteration\u001b[0m\u001b[0;34m\u001b[0m\u001b[0;34m\u001b[0m\u001b[0m\n\u001b[0m\u001b[1;32m    476\u001b[0m         \u001b[0;32mif\u001b[0m \u001b[0mself\u001b[0m\u001b[0;34m.\u001b[0m\u001b[0m_pin_memory\u001b[0m\u001b[0;34m:\u001b[0m\u001b[0;34m\u001b[0m\u001b[0;34m\u001b[0m\u001b[0m\n\u001b[1;32m    477\u001b[0m             \u001b[0mdata\u001b[0m \u001b[0;34m=\u001b[0m \u001b[0m_utils\u001b[0m\u001b[0;34m.\u001b[0m\u001b[0mpin_memory\u001b[0m\u001b[0;34m.\u001b[0m\u001b[0mpin_memory\u001b[0m\u001b[0;34m(\u001b[0m\u001b[0mdata\u001b[0m\u001b[0;34m)\u001b[0m\u001b[0;34m\u001b[0m\u001b[0;34m\u001b[0m\u001b[0m\n",
      "\u001b[0;32m/opt/conda/lib/python3.8/site-packages/torch/utils/data/_utils/fetch.py\u001b[0m in \u001b[0;36mfetch\u001b[0;34m(self, possibly_batched_index)\u001b[0m\n\u001b[1;32m     42\u001b[0m     \u001b[0;32mdef\u001b[0m \u001b[0mfetch\u001b[0m\u001b[0;34m(\u001b[0m\u001b[0mself\u001b[0m\u001b[0;34m,\u001b[0m \u001b[0mpossibly_batched_index\u001b[0m\u001b[0;34m)\u001b[0m\u001b[0;34m:\u001b[0m\u001b[0;34m\u001b[0m\u001b[0;34m\u001b[0m\u001b[0m\n\u001b[1;32m     43\u001b[0m         \u001b[0;32mif\u001b[0m \u001b[0mself\u001b[0m\u001b[0;34m.\u001b[0m\u001b[0mauto_collation\u001b[0m\u001b[0;34m:\u001b[0m\u001b[0;34m\u001b[0m\u001b[0;34m\u001b[0m\u001b[0m\n\u001b[0;32m---> 44\u001b[0;31m             \u001b[0mdata\u001b[0m \u001b[0;34m=\u001b[0m \u001b[0;34m[\u001b[0m\u001b[0mself\u001b[0m\u001b[0;34m.\u001b[0m\u001b[0mdataset\u001b[0m\u001b[0;34m[\u001b[0m\u001b[0midx\u001b[0m\u001b[0;34m]\u001b[0m \u001b[0;32mfor\u001b[0m \u001b[0midx\u001b[0m \u001b[0;32min\u001b[0m \u001b[0mpossibly_batched_index\u001b[0m\u001b[0;34m]\u001b[0m\u001b[0;34m\u001b[0m\u001b[0;34m\u001b[0m\u001b[0m\n\u001b[0m\u001b[1;32m     45\u001b[0m         \u001b[0;32melse\u001b[0m\u001b[0;34m:\u001b[0m\u001b[0;34m\u001b[0m\u001b[0;34m\u001b[0m\u001b[0m\n\u001b[1;32m     46\u001b[0m             \u001b[0mdata\u001b[0m \u001b[0;34m=\u001b[0m \u001b[0mself\u001b[0m\u001b[0;34m.\u001b[0m\u001b[0mdataset\u001b[0m\u001b[0;34m[\u001b[0m\u001b[0mpossibly_batched_index\u001b[0m\u001b[0;34m]\u001b[0m\u001b[0;34m\u001b[0m\u001b[0;34m\u001b[0m\u001b[0m\n",
      "\u001b[0;32m/opt/conda/lib/python3.8/site-packages/torch/utils/data/_utils/fetch.py\u001b[0m in \u001b[0;36m<listcomp>\u001b[0;34m(.0)\u001b[0m\n\u001b[1;32m     42\u001b[0m     \u001b[0;32mdef\u001b[0m \u001b[0mfetch\u001b[0m\u001b[0;34m(\u001b[0m\u001b[0mself\u001b[0m\u001b[0;34m,\u001b[0m \u001b[0mpossibly_batched_index\u001b[0m\u001b[0;34m)\u001b[0m\u001b[0;34m:\u001b[0m\u001b[0;34m\u001b[0m\u001b[0;34m\u001b[0m\u001b[0m\n\u001b[1;32m     43\u001b[0m         \u001b[0;32mif\u001b[0m \u001b[0mself\u001b[0m\u001b[0;34m.\u001b[0m\u001b[0mauto_collation\u001b[0m\u001b[0;34m:\u001b[0m\u001b[0;34m\u001b[0m\u001b[0;34m\u001b[0m\u001b[0m\n\u001b[0;32m---> 44\u001b[0;31m             \u001b[0mdata\u001b[0m \u001b[0;34m=\u001b[0m \u001b[0;34m[\u001b[0m\u001b[0mself\u001b[0m\u001b[0;34m.\u001b[0m\u001b[0mdataset\u001b[0m\u001b[0;34m[\u001b[0m\u001b[0midx\u001b[0m\u001b[0;34m]\u001b[0m \u001b[0;32mfor\u001b[0m \u001b[0midx\u001b[0m \u001b[0;32min\u001b[0m \u001b[0mpossibly_batched_index\u001b[0m\u001b[0;34m]\u001b[0m\u001b[0;34m\u001b[0m\u001b[0;34m\u001b[0m\u001b[0m\n\u001b[0m\u001b[1;32m     45\u001b[0m         \u001b[0;32melse\u001b[0m\u001b[0;34m:\u001b[0m\u001b[0;34m\u001b[0m\u001b[0;34m\u001b[0m\u001b[0m\n\u001b[1;32m     46\u001b[0m             \u001b[0mdata\u001b[0m \u001b[0;34m=\u001b[0m \u001b[0mself\u001b[0m\u001b[0;34m.\u001b[0m\u001b[0mdataset\u001b[0m\u001b[0;34m[\u001b[0m\u001b[0mpossibly_batched_index\u001b[0m\u001b[0;34m]\u001b[0m\u001b[0;34m\u001b[0m\u001b[0;34m\u001b[0m\u001b[0m\n",
      "\u001b[0;32m<ipython-input-69-0690124be553>\u001b[0m in \u001b[0;36m__getitem__\u001b[0;34m(self, idx)\u001b[0m\n\u001b[1;32m     24\u001b[0m     \u001b[0;32mdef\u001b[0m \u001b[0m__getitem__\u001b[0m\u001b[0;34m(\u001b[0m\u001b[0mself\u001b[0m\u001b[0;34m,\u001b[0m \u001b[0midx\u001b[0m\u001b[0;34m)\u001b[0m\u001b[0;34m:\u001b[0m\u001b[0;34m\u001b[0m\u001b[0;34m\u001b[0m\u001b[0m\n\u001b[1;32m     25\u001b[0m         \u001b[0mX\u001b[0m \u001b[0;34m=\u001b[0m \u001b[0mtorch\u001b[0m\u001b[0;34m.\u001b[0m\u001b[0mtensor\u001b[0m\u001b[0;34m(\u001b[0m\u001b[0mself\u001b[0m\u001b[0;34m.\u001b[0m\u001b[0mX\u001b[0m\u001b[0;34m.\u001b[0m\u001b[0miloc\u001b[0m\u001b[0;34m[\u001b[0m\u001b[0midx\u001b[0m\u001b[0;34m,\u001b[0m \u001b[0;34m:\u001b[0m\u001b[0;34m]\u001b[0m\u001b[0;34m.\u001b[0m\u001b[0mto_numpy\u001b[0m\u001b[0;34m(\u001b[0m\u001b[0;34m)\u001b[0m\u001b[0;34m,\u001b[0m \u001b[0mdtype\u001b[0m\u001b[0;34m=\u001b[0m\u001b[0mtorch\u001b[0m\u001b[0;34m.\u001b[0m\u001b[0mfloat32\u001b[0m\u001b[0;34m)\u001b[0m\u001b[0;34m\u001b[0m\u001b[0;34m\u001b[0m\u001b[0m\n\u001b[0;32m---> 26\u001b[0;31m         \u001b[0mt\u001b[0m \u001b[0;34m=\u001b[0m \u001b[0mtorch\u001b[0m\u001b[0;34m.\u001b[0m\u001b[0mtensor\u001b[0m\u001b[0;34m(\u001b[0m\u001b[0mself\u001b[0m\u001b[0;34m.\u001b[0m\u001b[0mt\u001b[0m\u001b[0;34m.\u001b[0m\u001b[0miloc\u001b[0m\u001b[0;34m[\u001b[0m\u001b[0midx\u001b[0m\u001b[0;34m]\u001b[0m\u001b[0;34m,\u001b[0m \u001b[0mdtype\u001b[0m\u001b[0;34m=\u001b[0m\u001b[0mtorch\u001b[0m\u001b[0;34m.\u001b[0m\u001b[0mfloat32\u001b[0m\u001b[0;34m)\u001b[0m\u001b[0;34m\u001b[0m\u001b[0;34m\u001b[0m\u001b[0m\n\u001b[0m\u001b[1;32m     27\u001b[0m         \u001b[0my\u001b[0m \u001b[0;34m=\u001b[0m \u001b[0mtorch\u001b[0m\u001b[0;34m.\u001b[0m\u001b[0mtensor\u001b[0m\u001b[0;34m(\u001b[0m\u001b[0mself\u001b[0m\u001b[0;34m.\u001b[0m\u001b[0my\u001b[0m\u001b[0;34m.\u001b[0m\u001b[0miloc\u001b[0m\u001b[0;34m[\u001b[0m\u001b[0midx\u001b[0m\u001b[0;34m]\u001b[0m\u001b[0;34m,\u001b[0m \u001b[0mdtype\u001b[0m\u001b[0;34m=\u001b[0m\u001b[0mtorch\u001b[0m\u001b[0;34m.\u001b[0m\u001b[0mfloat32\u001b[0m\u001b[0;34m)\u001b[0m\u001b[0;34m\u001b[0m\u001b[0;34m\u001b[0m\u001b[0m\n\u001b[1;32m     28\u001b[0m         \u001b[0;32mreturn\u001b[0m \u001b[0;34m(\u001b[0m\u001b[0mX\u001b[0m\u001b[0;34m,\u001b[0m \u001b[0mt\u001b[0m\u001b[0;34m,\u001b[0m \u001b[0my\u001b[0m\u001b[0;34m)\u001b[0m\u001b[0;34m\u001b[0m\u001b[0;34m\u001b[0m\u001b[0m\n",
      "\u001b[0;31mKeyboardInterrupt\u001b[0m: "
     ]
    }
   ],
   "source": [
    "num_epochs = 10\n",
    "train_losses = []\n",
    "train_accuracies = []\n",
    "eval_losses = []\n",
    "eval_accuracies = []\n",
    "\n",
    "for epoch in range(num_epochs):\n",
    "    print(f\"epoch: {epoch}\")\n",
    "\n",
    "    train_cnt = 0\n",
    "    train_corrects = 0\n",
    "\n",
    "    model.train()\n",
    "    for X, t, y in tqdm(train_dl):\n",
    "        optimizer.zero_grad()\n",
    "        train_cnt += X.size(0)\n",
    "\n",
    "        X = X.cuda()\n",
    "        t = t.cuda()\n",
    "        y = y.cuda()\n",
    "\n",
    "        out = model(X, t)\n",
    "        loss = criterion(out, t, y)\n",
    "        loss.backward()\n",
    "        train_losses.append(loss.item())\n",
    "\n",
    "        optimizer.step()\n",
    "\n",
    "        pred = np.where(out[\"pred\"].detach().cpu().numpy() > 0.5, 1, 0)\n",
    "        train_corrects += np.sum(pred == y.cpu().numpy())\n",
    "\n",
    "    train_accuracies.append(train_corrects/train_cnt)\n",
    "    print(f\"train accuracy: {train_accuracies[-1]}\")\n",
    "\n",
    "    eval_cnt = 0\n",
    "    eval_corrects = 0\n",
    "\n",
    "    model.eval()\n",
    "    with torch.no_grad():\n",
    "        for X, t, y in tqdm(eval_dl):\n",
    "            eval_cnt += X.size(0)\n",
    "\n",
    "            X = X.cuda()\n",
    "            t = t.cuda()\n",
    "            y = y.cuda()\n",
    "\n",
    "            out = model(X, t)\n",
    "            loss = criterion(out, t, y)\n",
    "            eval_losses.append(loss.item())\n",
    "\n",
    "            pred = np.where(out[\"pred\"].detach().cpu().numpy() > 0.5, 1, 0)\n",
    "            eval_corrects += np.sum(pred == y.cpu().numpy())\n",
    "\n",
    "    eval_accuracies.append(eval_corrects/eval_cnt)\n",
    "    print(f\"train accuracy: {eval_accuracies[-1]}\")\n",
    "\n",
    "    print()\n"
   ]
  },
  {
   "cell_type": "code",
   "execution_count": 89,
   "metadata": {},
   "outputs": [
    {
     "data": {
      "text/plain": [
       "[<matplotlib.lines.Line2D at 0x7f721c1d9ee0>]"
      ]
     },
     "execution_count": 89,
     "metadata": {},
     "output_type": "execute_result"
    },
    {
     "data": {
      "image/png": "[encoded data removed]",
      "text/plain": [
       "<Figure size 432x288 with 1 Axes>"
      ]
     },
     "metadata": {
      "needs_background": "light"
     },
     "output_type": "display_data"
    }
   ],
   "source": [
    "plt.plot(train_losses)"
   ]
  },
  {
   "cell_type": "code",
   "execution_count": null,
   "metadata": {},
   "outputs": [],
   "source": []
  }
 ],
 "metadata": {
  "interpreter": {
   "hash": "d4d1e4263499bec80672ea0156c357c1ee493ec2b1c70f0acce89fc37c4a6abe"
  },
  "kernelspec": {
   "display_name": "Python 3.8.5 64-bit ('base': conda)",
   "language": "python",
   "name": "python3"
  },
  "language_info": {
   "codemirror_mode": {
    "name": "ipython",
    "version": 3
   },
   "file_extension": ".py",
   "mimetype": "text/x-python",
   "name": "python",
   "nbconvert_exporter": "python",
   "pygments_lexer": "ipython3",
   "version": "3.8.5"
  },
  "orig_nbformat": 4
 },
 "nbformat": 4,
 "nbformat_minor": 2
}
