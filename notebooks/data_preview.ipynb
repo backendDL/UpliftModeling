{
 "cells": [
  {
   "cell_type": "code",
   "execution_count": 20,
   "metadata": {},
   "outputs": [],
   "source": [
    "import os\n",
    "import json\n",
    "import pandas as pd\n",
    "import matplotlib.pyplot as plt\n",
    "\n",
    "import torch\n",
    "import torch.nn as nn\n",
    "from torch.utils.data import Dataset, Subset\n",
    "\n",
    "from dataset import transform"
   ]
  },
  {
   "cell_type": "code",
   "execution_count": 2,
   "metadata": {},
   "outputs": [],
   "source": [
    "with open(\"dataset_6_1_168/dataset.json\", \"r\") as f:\n",
    "    j = json.load(f)"
   ]
  },
  {
   "cell_type": "code",
   "execution_count": 4,
   "metadata": {},
   "outputs": [],
   "source": [
    "df = pd.DataFrame(j)"
   ]
  },
  {
   "cell_type": "code",
   "execution_count": 5,
   "metadata": {},
   "outputs": [],
   "source": [
    "df[\"game_id\"] = df[\"file_name\"].apply(lambda x: x.split(\"_\")[1])\n",
    "df[\"push_date\"] = pd.to_datetime(df[\"file_name\"].apply(lambda x: x.split(\"_\")[2]))\n",
    "df[\"gamer_id\"] = df[\"file_name\"].apply(lambda x: x.split(\"_\")[3].replace(\".csv\", \"\"))"
   ]
  },
  {
   "cell_type": "code",
   "execution_count": 12,
   "metadata": {},
   "outputs": [
    {
     "data": {
      "text/plain": [
       "(1,\n",
       " 0,\n",
       " 'logs_2097_2021-12-16_7fd9dd710228497cb8fd9b81ce95464590e4c0a9e8e3343bb1d8d93eaa576f50.csv')"
      ]
     },
     "execution_count": 12,
     "metadata": {},
     "output_type": "execute_result"
    }
   ],
   "source": [
    "idx = 4500\n",
    "\n",
    "t = df.t[idx]\n",
    "y = df.y[idx]\n",
    "file_name = df.file_name[idx]\n",
    "data_path = \"./dataset_6_1_168\"\n",
    "\n",
    "t, y, file_name"
   ]
  },
  {
   "cell_type": "code",
   "execution_count": 43,
   "metadata": {},
   "outputs": [
    {
     "data": {
      "text/plain": [
       "torch.Size([1008, 6])"
      ]
     },
     "execution_count": 43,
     "metadata": {},
     "output_type": "execute_result"
    }
   ],
   "source": [
    "data = pd.read_csv(os.path.join(data_path, file_name))\n",
    "data.iloc[:, 0] = pd.to_datetime(data.iloc[:, 0])\n",
    "emb = transform(data.iloc[:, 0])\n",
    "login = torch.tensor(data.login).unsqueeze(1)\n",
    "crud = torch.tensor(data.crud).unsqueeze(1)\n",
    "\n",
    "X = torch.cat([emb, login, crud], axis=1)\n",
    "X.shape"
   ]
  },
  {
   "cell_type": "code",
   "execution_count": 40,
   "metadata": {},
   "outputs": [
    {
     "data": {
      "image/png": "[encoded data removed]",
      "text/plain": [
       "<Figure size 1152x144 with 1 Axes>"
      ]
     },
     "metadata": {
      "needs_background": "light"
     },
     "output_type": "display_data"
    }
   ],
   "source": [
    "plt.matshow(emb.T, aspect=100)\n",
    "plt.show()"
   ]
  },
  {
   "cell_type": "code",
   "execution_count": null,
   "metadata": {},
   "outputs": [],
   "source": []
  }
 ],
 "metadata": {
  "interpreter": {
   "hash": "8eb540d1016a06de34ee28a1afabe5d8c496f06c5c9b7636d2c25e32c04f9b7e"
  },
  "kernelspec": {
   "display_name": "Python 3.9.6 64-bit ('3.9.6': pyenv)",
   "language": "python",
   "name": "python3"
  },
  "language_info": {
   "codemirror_mode": {
    "name": "ipython",
    "version": 3
   },
   "file_extension": ".py",
   "mimetype": "text/x-python",
   "name": "python",
   "nbconvert_exporter": "python",
   "pygments_lexer": "ipython3",
   "version": "3.9.6"
  },
  "orig_nbformat": 4
 },
 "nbformat": 4,
 "nbformat_minor": 2
}
