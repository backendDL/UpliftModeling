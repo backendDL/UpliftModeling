{
 "cells": [
  {
   "cell_type": "code",
   "execution_count": 1,
   "metadata": {},
   "outputs": [],
   "source": [
    "from models.model import Model\n",
    "from data_loader import Dataset\n",
    "from tqdm import tqdm\n",
    "from utils import *\n",
    "\n",
    "import os\n",
    "import random\n",
    "import argparse\n",
    "import yaml\n",
    "from typing import Dict, Tuple, List, Any, Union, Optional\n",
    "\n",
    "import numpy as np\n",
    "import pandas as pd\n",
    "\n",
    "from collections import defaultdict\n",
    "from datetime import timedelta\n",
    "\n",
    "import torch\n",
    "import torch.nn as nn\n",
    "from torch.utils.tensorboard import SummaryWriter\n",
    "\n",
    "import matplotlib.pyplot as plt"
   ]
  },
  {
   "cell_type": "markdown",
   "metadata": {},
   "source": [
    "# Baseline Data Loader\n",
    "\n",
    "주어진 Baseline DataLoader와 임베딩된 벡터를 분석합니다."
   ]
  },
  {
   "cell_type": "code",
   "execution_count": 2,
   "metadata": {},
   "outputs": [],
   "source": [
    "config_path = \"./config.yaml\"\n",
    "\n",
    "with open(config_path, 'r') as f:\n",
    "    cfg = yaml.load(f, Loader=yaml.FullLoader)"
   ]
  },
  {
   "cell_type": "code",
   "execution_count": 3,
   "metadata": {},
   "outputs": [],
   "source": [
    "dataset = Dataset(cfg['Dataset'])"
   ]
  },
  {
   "cell_type": "code",
   "execution_count": 4,
   "metadata": {},
   "outputs": [
    {
     "name": "stdout",
     "output_type": "stream",
     "text": [
      "전처리된 파일이 존재합니다. 전처리 파일 불러오는 중...완료.\n",
      "\n",
      "----------------------------------------------------------------------------------------------------\n",
      "\n"
     ]
    }
   ],
   "source": [
    "dataset.prepare_train_data()"
   ]
  },
  {
   "cell_type": "markdown",
   "metadata": {},
   "source": [
    "대부분의 값은 0을 갖는데, 매우 큰 값을 갖는 데이터도 존재합니다.\n",
    "차원은 데이터수 * in_features * channels 에 해당합니다."
   ]
  },
  {
   "cell_type": "code",
   "execution_count": 5,
   "metadata": {},
   "outputs": [
    {
     "name": "stdout",
     "output_type": "stream",
     "text": [
      "tensor([[0.0000e+00, 0.0000e+00, 0.0000e+00,  ..., 1.0000e+00, 0.0000e+00,\n",
      "         0.0000e+00],\n",
      "        [0.0000e+00, 0.0000e+00, 0.0000e+00,  ..., 8.0000e+00, 0.0000e+00,\n",
      "         0.0000e+00],\n",
      "        [0.0000e+00, 0.0000e+00, 0.0000e+00,  ..., 3.4070e+03, 1.1770e+03,\n",
      "         5.8600e+02],\n",
      "        ...,\n",
      "        [0.0000e+00, 0.0000e+00, 0.0000e+00,  ..., 8.1157e-01, 8.1157e-01,\n",
      "         8.1157e-01],\n",
      "        [0.0000e+00, 0.0000e+00, 0.0000e+00,  ..., 1.0000e+00, 1.0000e+00,\n",
      "         1.0000e+00],\n",
      "        [0.0000e+00, 0.0000e+00, 0.0000e+00,  ..., 0.0000e+00, 0.0000e+00,\n",
      "         0.0000e+00]])\n",
      "torch.Size([3611, 9, 128])\n"
     ]
    }
   ],
   "source": [
    "print(dataset.train_X[0])\n",
    "print(dataset.train_X.shape)"
   ]
  },
  {
   "cell_type": "markdown",
   "metadata": {},
   "source": [
    "Plot을 시켜보면 대부분의 값이 0으로 존재하는 데 반해, 특정 차원의 값만 상당히 값이 큰 것으로 나타납니다."
   ]
  },
  {
   "cell_type": "code",
   "execution_count": 6,
   "metadata": {},
   "outputs": [
    {
     "data": {
      "image/png": "[encoded data removed]",
      "text/plain": [
       "<Figure size 720x360 with 5 Axes>"
      ]
     },
     "metadata": {
      "needs_background": "light"
     },
     "output_type": "display_data"
    }
   ],
   "source": [
    "len_dataset = dataset.train_X.size(0)\n",
    "num_graphs = 5\n",
    "selected_ids = random.choices(range(len_dataset), k=num_graphs)\n",
    "\n",
    "fig, ax = plt.subplots(num_graphs, 1, sharex=True, figsize=(10, num_graphs))\n",
    "for i, idx in enumerate(selected_ids):\n",
    "    ax[i].matshow(dataset.train_X[idx].detach().cpu().numpy())\n",
    "    ax[i].set_title(\"y: {}\".format(dataset.train_y[idx].item()))\n",
    "plt.show()\n",
    "# in_features * channels"
   ]
  },
  {
   "cell_type": "markdown",
   "metadata": {},
   "source": [
    "따라서 `np.log1p()`를 취해야 좋지 않을까 생각합니다. 그러나 1을 더해주더라도 음수 혹은 0 값이 존재하는 경우가 있어서 이를 해결할 필요가 있어 보입니다. 그리고 분명한  것은 데이터 중에서 값이 존재하지 않는 구간이 상당히 존재한다는 것입니다. 모두 0값을 갖는 범위까지도 삽입이 되어야 하는 지를 판단할 필요가 있어 보입니다."
   ]
  },
  {
   "cell_type": "code",
   "execution_count": 7,
   "metadata": {},
   "outputs": [
    {
     "data": {
      "image/png": "[encoded data removed]",
      "text/plain": [
       "<Figure size 720x360 with 5 Axes>"
      ]
     },
     "metadata": {
      "needs_background": "light"
     },
     "output_type": "display_data"
    }
   ],
   "source": [
    "# len_dataset = dataset.train_X.size(0)\n",
    "# num_graphs = 5\n",
    "# selected_ids = random.choices(range(len_dataset), k=num_graphs)\n",
    "\n",
    "fig, ax = plt.subplots(num_graphs, 1, sharex=True, figsize=(10, num_graphs))\n",
    "for i, idx in enumerate(selected_ids):\n",
    "    ax[i].matshow(np.log1p(dataset.train_X[idx].detach().cpu().numpy()))\n",
    "    ax[i].set_title(\"y: {}\".format(dataset.train_y[idx].item()))\n",
    "    # 생각보다 일정한 구간이 짧음...\n",
    "plt.show()\n",
    "# in_features * channels"
   ]
  },
  {
   "cell_type": "markdown",
   "metadata": {},
   "source": [
    "# Data EDA\n",
    "\n",
    "데이터를 불러와서 임베딩하는 과정을 살펴보면 아래와 같습니다. 일단, csv 파일 형태로 된 login 데이터와 push 데이터를 불러옵니다. login 데이터는 어떤 유저가 어떤 게임에 언제 로그인 했는가를 보여줍니다. 아래에서 `push_logs`라는 dictionary는 `game_id`를 key로 갖고 해당하는 `pd.DataFrame`을 value로 갖습니다. "
   ]
  },
  {
   "cell_type": "code",
   "execution_count": 8,
   "metadata": {},
   "outputs": [],
   "source": [
    "login_log_path = \"data/login_logs/sample.csv\"\n",
    "push_log_path  = \"data/push.csv\"\n",
    "\n",
    "login_logs = pd.read_csv(login_log_path) # login logs from a certain game (given with game_id)\n",
    "push_logs = pd.read_csv(push_log_path)\n",
    "\n",
    "login_logs.inDate = pd.to_datetime(login_logs.inDate.apply(lambda x: x[:-1])) + timedelta(hours=9)\n",
    "push_logs.pushTime = pd.to_datetime(push_logs.pushTime.apply(lambda x: x[:-1])) # Already KST\n",
    "push_logs = {game_id: x.sort_values(by='pushTime') for game_id, x in push_logs.groupby('game_id')}\n",
    "# Dict[str, pd.DataFrame]"
   ]
  },
  {
   "cell_type": "code",
   "execution_count": 9,
   "metadata": {},
   "outputs": [
    {
     "data": {
      "text/html": [
       "<div>\n",
       "<style scoped>\n",
       "    .dataframe tbody tr th:only-of-type {\n",
       "        vertical-align: middle;\n",
       "    }\n",
       "\n",
       "    .dataframe tbody tr th {\n",
       "        vertical-align: top;\n",
       "    }\n",
       "\n",
       "    .dataframe thead th {\n",
       "        text-align: right;\n",
       "    }\n",
       "</style>\n",
       "<table border=\"1\" class=\"dataframe\">\n",
       "  <thead>\n",
       "    <tr style=\"text-align: right;\">\n",
       "      <th></th>\n",
       "      <th>gamer_id</th>\n",
       "      <th>game_id</th>\n",
       "      <th>inDate</th>\n",
       "    </tr>\n",
       "  </thead>\n",
       "  <tbody>\n",
       "    <tr>\n",
       "      <th>0</th>\n",
       "      <td>gamer_9234</td>\n",
       "      <td>1442</td>\n",
       "      <td>2021-07-01 09:00:54.174</td>\n",
       "    </tr>\n",
       "    <tr>\n",
       "      <th>1</th>\n",
       "      <td>gamer_9234</td>\n",
       "      <td>1442</td>\n",
       "      <td>2021-07-01 09:01:02.105</td>\n",
       "    </tr>\n",
       "    <tr>\n",
       "      <th>2</th>\n",
       "      <td>gamer_8506</td>\n",
       "      <td>2147</td>\n",
       "      <td>2021-07-01 09:01:15.138</td>\n",
       "    </tr>\n",
       "    <tr>\n",
       "      <th>3</th>\n",
       "      <td>gamer_1599</td>\n",
       "      <td>1046</td>\n",
       "      <td>2021-07-01 09:03:27.895</td>\n",
       "    </tr>\n",
       "    <tr>\n",
       "      <th>4</th>\n",
       "      <td>gamer_7833</td>\n",
       "      <td>1482</td>\n",
       "      <td>2021-07-01 09:06:04.362</td>\n",
       "    </tr>\n",
       "  </tbody>\n",
       "</table>\n",
       "</div>"
      ],
      "text/plain": [
       "     gamer_id  game_id                  inDate\n",
       "0  gamer_9234     1442 2021-07-01 09:00:54.174\n",
       "1  gamer_9234     1442 2021-07-01 09:01:02.105\n",
       "2  gamer_8506     2147 2021-07-01 09:01:15.138\n",
       "3  gamer_1599     1046 2021-07-01 09:03:27.895\n",
       "4  gamer_7833     1482 2021-07-01 09:06:04.362"
      ]
     },
     "execution_count": 9,
     "metadata": {},
     "output_type": "execute_result"
    }
   ],
   "source": [
    "login_logs.head()"
   ]
  },
  {
   "cell_type": "code",
   "execution_count": 10,
   "metadata": {},
   "outputs": [
    {
     "name": "stdout",
     "output_type": "stream",
     "text": [
      "1007\n",
      "      Unnamed: 0            pushTime game_id\n",
      "1969        1970 2020-03-17 02:00:00    1007\n",
      "4002        4004 2020-03-17 02:00:00    1007\n",
      "5355        5357 2020-03-17 02:30:00    1007\n"
     ]
    }
   ],
   "source": [
    "for k, v in push_logs.items():\n",
    "    print(k)\n",
    "    print(v)\n",
    "    break"
   ]
  },
  {
   "cell_type": "markdown",
   "metadata": {},
   "source": [
    "`pd.to_datetime()`을 이용해 시간형태로 분리해주었기 때문에, `max()`와 `min()` 값을 뽑아낼 수 있습니다."
   ]
  },
  {
   "cell_type": "code",
   "execution_count": 11,
   "metadata": {},
   "outputs": [
    {
     "name": "stdout",
     "output_type": "stream",
     "text": [
      "Dataset span: from 2021-07-01 09:00:54.174000 // to 2021-10-13 10:46:01.542000\n"
     ]
    }
   ],
   "source": [
    "total_max_date = login_logs.inDate.max()\n",
    "total_min_date = login_logs.inDate.min()\n",
    "print(\"Dataset span: from {} // to {}\".format(total_min_date, total_max_date))"
   ]
  },
  {
   "cell_type": "markdown",
   "metadata": {},
   "source": [
    "이를 이용해 정해진 time step만큼 (아래에서는 5일) 등간격으로 날짜를 나눠줍니다. 아래의 날짜 범위를 이용해 데이터를 생성합니다."
   ]
  },
  {
   "cell_type": "code",
   "execution_count": 12,
   "metadata": {},
   "outputs": [
    {
     "data": {
      "text/plain": [
       "[Timestamp('2021-10-01 06:00:00'),\n",
       " Timestamp('2021-09-26 06:00:00'),\n",
       " Timestamp('2021-09-21 06:00:00'),\n",
       " Timestamp('2021-09-16 06:00:00'),\n",
       " Timestamp('2021-09-11 06:00:00'),\n",
       " Timestamp('2021-09-06 06:00:00'),\n",
       " Timestamp('2021-09-01 06:00:00'),\n",
       " Timestamp('2021-08-27 06:00:00'),\n",
       " Timestamp('2021-08-22 06:00:00'),\n",
       " Timestamp('2021-08-17 06:00:00'),\n",
       " Timestamp('2021-08-12 06:00:00'),\n",
       " Timestamp('2021-08-07 06:00:00'),\n",
       " Timestamp('2021-08-02 06:00:00'),\n",
       " Timestamp('2021-07-28 06:00:00'),\n",
       " Timestamp('2021-07-23 06:00:00'),\n",
       " Timestamp('2021-07-18 06:00:00'),\n",
       " Timestamp('2021-07-13 06:00:00'),\n",
       " Timestamp('2021-07-08 06:00:00'),\n",
       " Timestamp('2021-07-03 06:00:00'),\n",
       " Timestamp('2021-06-28 06:00:00')]"
      ]
     },
     "execution_count": 12,
     "metadata": {},
     "output_type": "execute_result"
    }
   ],
   "source": [
    "point_date_count = (total_max_date - total_min_date).days // 5\n",
    "point_dates = [(total_max_date - timedelta(days=7 + 5 * i)).replace(hour=6, minute=0, second=0, microsecond=0) for i in range(1, point_date_count + 1)]\n",
    "point_dates\n",
    "# creates the interval"
   ]
  },
  {
   "cell_type": "markdown",
   "metadata": {},
   "source": [
    "`prepared_gamer_id`를 저장하고, `prepared_counts`라는 `defaultdict`을 이용해 유저별로 최대 `3`개의 데이터만을 추출해냅니다.\n",
    "\n",
    "아래의 코드에서 함수를 정의할 때 모두 type hint를 병기했습니다."
   ]
  },
  {
   "cell_type": "code",
   "execution_count": 13,
   "metadata": {},
   "outputs": [],
   "source": [
    "prepared_gamer_id = set()\n",
    "prepared_counts = defaultdict(lambda: 3)\n",
    "data = []\n",
    "test_data = []\n",
    "errors = []"
   ]
  },
  {
   "cell_type": "code",
   "execution_count": 14,
   "metadata": {},
   "outputs": [],
   "source": [
    "def daily_embedding(x):\n",
    "    # unit is hour in [0, 24)\n",
    "    return np.stack([np.sin(2 * np.pi / 24 * x), np.cos(2 * np.pi / 24 * x)])\n",
    "\n",
    "def weekly_embedding(x):\n",
    "    # unit is dayofweek in [0, 6]\n",
    "    return np.stack([np.sin(2 * np.pi / 7 * x), np.cos(2 * np.pi / 7 * x)])\n",
    "\n",
    "def transform(\n",
    "    inDate: pd.Series, \n",
    "    cut_length: int = 0\n",
    "):\n",
    "    \"\"\"\n",
    "    Args:\n",
    "        inDate: pd.Series of pd.datetime64\n",
    "    Returns:\n",
    "        X: torch.FloatTensor\n",
    "    \"\"\"\n",
    "    # X is inDate(pandas datetime64 Series).\n",
    "    \n",
    "    # 요일과 접속 시간대를 삼각함수로 임베딩\n",
    "    day_of_week = np.array(inDate.dt.dayofweek) # (N,)\n",
    "    hour_of_day = np.array(inDate.dt.hour + inDate.dt.minute / 60)\n",
    "    embedding_D = daily_embedding(hour_of_day) # (2, N)\n",
    "    embedding_W = weekly_embedding(day_of_week)\n",
    "\n",
    "    in_date = np.array(inDate).astype('datetime64') # (N,)\n",
    "\n",
    "    # 접속 간격 계산\n",
    "    # datetime 타입을 numerical type으로 casting하면 micro second로 계산됨\n",
    "    interval = (in_date[1:] - in_date[:-1]).astype('float') / 1000000 # (N - 1,)\n",
    "    interval = np.array([0, *(interval.tolist())]) # (N,)\n",
    "    interval_D = interval // (3600 * 24)\n",
    "    interval_H = (interval % (3600 * 24)) // 3600\n",
    "    interval_S = interval % 3600\n",
    "\n",
    "    interval = np.stack([interval_D, interval_H, interval_S]) # (3, N)\n",
    "    out = torch.from_numpy(np.concatenate([interval, embedding_W, embedding_D], axis=0)) # (7, N)\n",
    "    # inDate transformed to\n",
    "    # [interval_D, interval_H, interval_S, \n",
    "    #  embedding_W_sine, embedding_D_cosine, \n",
    "    #  embedding_D_sine, embedding_D_cosine]\n",
    "\n",
    "    if cut_length:\n",
    "        _out = torch.zeros((x.shape[0], cut_length))\n",
    "        if cut_length > out.shape[1]:\n",
    "            _out[:, -out.shape[1]:] = out\n",
    "        else: # cut_length <= x.shape[1]\n",
    "            _out[:] = out[:, -cut_length:]\n",
    "        out = _out\n",
    "\n",
    "    return out\n",
    "\n",
    "def extract_sample(\n",
    "    login_logs: pd.DataFrame, \n",
    "    push_logs: Dict[str, pd.DataFrame], # Dict[game_id, push_time]\n",
    "    point_date: pd.Timestamp, \n",
    "    date_range: Optional[Tuple[pd.Timestamp, pd.Timestamp]] = None,\n",
    "):\n",
    "    cut_length = 128\n",
    "\n",
    "    if date_range is None:\n",
    "        date_range = (login_logs.inDate.min(), login_logs.inDate.max())\n",
    "    \n",
    "    in_date = login_logs.inDate\n",
    "    in_date = in_date.sort_values()\n",
    "\n",
    "    game_id = login_logs.game_id.iloc[0]\n",
    "    game_id = str(game_id)\n",
    "    push_time = push_logs[game_id].pushTime if game_id in push_logs.keys() else None\n",
    "\n",
    "    total_login_count = len(in_date)\n",
    "    \n",
    "    y = get_label(point_date, in_date)\n",
    "    # Whether a user is loggined from D+1 to D+7 (future data)\n",
    "\n",
    "    input_in_date = in_date[in_date <= point_date]\n",
    "    if push_time is not None:\n",
    "        \n",
    "        push_time = push_time[(push_time >= date_range[0]) & (push_time <= point_date)]\n",
    "        # get push times only within D-14 ~ D-day\n",
    "        input_in_date = np.concatenate([input_in_date, push_time])\n",
    "\n",
    "        log_type = np.zeros((len(input_in_date) + len(push_time), 2))\n",
    "        log_type[:len(input_in_date), 0] = 1\n",
    "        log_type[len(input_in_date):, 1] = 1\n",
    "\n",
    "        args = np.argsort(input_in_date)\n",
    "        input_in_date = pd.Series(input_in_date[args])\n",
    "        log_type = log_type[args]\n",
    "    \n",
    "    else:\n",
    "        # push_time can be None if the game hasn't sent any push!\n",
    "        log_type = np.zeros((len(input_in_date), 2))\n",
    "        log_type[:, 0] = 1\n",
    "\n",
    "    log_type = np.concatenate([np.zeros((cut_length, 2)), log_type], axis=0)[-cut_length:]\n",
    "    # add padding to the front\n",
    "    # shape of log_type: cut_length * 2\n",
    "\n",
    "    x = transform(input_in_date, cut_length)\n",
    "    x = torch.cat([x, torch.from_numpy(log_type).T], dim=0)\n",
    "    sample = (x, total_login_count, y, game_id)\n",
    "\n",
    "    return sample\n"
   ]
  },
  {
   "cell_type": "code",
   "execution_count": 15,
   "metadata": {},
   "outputs": [],
   "source": [
    "def get_label(\n",
    "    point_date: pd.Timestamp, \n",
    "    in_date: pd.Series,\n",
    "):\n",
    "    d1 = point_date + timedelta(days=1)\n",
    "    d7 = point_date + timedelta(days=7)\n",
    "    y = ((in_date > d1) & (in_date < d7)).sum() > 0\n",
    "    # whether a user logins within D+1 ~ D+7\n",
    "    return [y]"
   ]
  },
  {
   "cell_type": "code",
   "execution_count": 16,
   "metadata": {},
   "outputs": [
    {
     "name": "stdout",
     "output_type": "stream",
     "text": [
      "min_date: 2021-09-17 06:00:00, point_date: 2021-10-01 06:00:00, max_date: 2021-10-08 06:00:00\n",
      "length of sliced logs: 47458 of 189985\n",
      "gamer_1006\n",
      "length of X: 33\n",
      "          gamer_id  game_id                  inDate\n",
      "130808  gamer_1006     2364 2021-09-17 09:56:12.681\n",
      "130809  gamer_1006     2364 2021-09-17 09:56:16.030\n",
      "131560  gamer_1006     2364 2021-09-17 18:03:35.720\n",
      "131561  gamer_1006     2364 2021-09-17 18:03:40.718\n",
      "132335  gamer_1006     2364 2021-09-17 21:17:38.797\n"
     ]
    }
   ],
   "source": [
    "for point_date in point_dates:\n",
    "    min_date = point_date - timedelta(days=14)\n",
    "    max_date = point_date + timedelta(days=7)\n",
    "    sliced_logs = login_logs[(login_logs.inDate >= min_date) & (login_logs.inDate <= max_date)]\n",
    "    print(\"min_date: {}, point_date: {}, max_date: {}\".format(min_date, point_date, max_date))\n",
    "    print(\"length of sliced logs: {} of {}\".format(len(sliced_logs), len(login_logs)))\n",
    "    # point_date를 기준으로 D-14 ~ D-day를 input으로 활용 -> User Feature\n",
    "    # D+1 ~ D+7은 레이블링에 활용 -> T & Y\n",
    "\n",
    "    for gamer_id, X in sliced_logs.groupby('gamer_id'):\n",
    "        if gamer_id in prepared_gamer_id:\n",
    "            if prepared_counts[gamer_id] > 0:\n",
    "                prepared_counts[gamer_id] -= 1\n",
    "                continue\n",
    "        \n",
    "        # 문제가 있는 gamer_id는 데이터로 활용하지 않는다.\n",
    "        if len(X.game_id.unique()) > 1:\n",
    "            errors.append({'game_id': X.game_id.unique().tolist(), 'gamer_id': gamer_id, 'length': len(X)})\n",
    "        \n",
    "        # 로그가 너무 적은 gamer_id는 데이터로 활용하지 않는다.\n",
    "        if len(X) < 5: continue\n",
    "\n",
    "        # 기준일 이전에 로그가 없으면 판단 불가\n",
    "        if X.inDate.min() >= point_date: continue\n",
    "\n",
    "        print(gamer_id)\n",
    "        print(\"length of X:\", len(X))\n",
    "        print(X.head())\n",
    "\n",
    "        sample = extract_sample(\n",
    "            X, \n",
    "            push_logs, \n",
    "            point_date, \n",
    "            (min_date, max_date),\n",
    "        )\n",
    "        break\n",
    "\n",
    "    break"
   ]
  },
  {
   "cell_type": "code",
   "execution_count": 17,
   "metadata": {},
   "outputs": [
    {
     "data": {
      "text/plain": [
       "(tensor([[0.0000e+00, 0.0000e+00, 0.0000e+00,  ..., 0.0000e+00, 1.0000e+03,\n",
       "          0.0000e+00],\n",
       "         [0.0000e+00, 0.0000e+00, 0.0000e+00,  ..., 0.0000e+00, 0.0000e+00,\n",
       "          0.0000e+00],\n",
       "         [0.0000e+00, 0.0000e+00, 0.0000e+00,  ..., 0.0000e+00, 0.0000e+00,\n",
       "          0.0000e+00],\n",
       "         ...,\n",
       "         [0.0000e+00, 0.0000e+00, 0.0000e+00,  ..., 7.0711e-01, 7.0711e-01,\n",
       "          7.0711e-01],\n",
       "         [0.0000e+00, 0.0000e+00, 0.0000e+00,  ..., 1.0000e+00, 1.0000e+00,\n",
       "          1.0000e+00],\n",
       "         [0.0000e+00, 0.0000e+00, 0.0000e+00,  ..., 0.0000e+00, 0.0000e+00,\n",
       "          0.0000e+00]], dtype=torch.float64),\n",
       " 33,\n",
       " [False],\n",
       " '2364')"
      ]
     },
     "execution_count": 17,
     "metadata": {},
     "output_type": "execute_result"
    }
   ],
   "source": [
    "sample\n",
    "# X, total_login_count, y, 2364"
   ]
  },
  {
   "cell_type": "code",
   "execution_count": null,
   "metadata": {},
   "outputs": [],
   "source": []
  }
 ],
 "metadata": {
  "interpreter": {
   "hash": "31f2aee4e71d21fbe5cf8b01ff0e069b9275f58929596ceb00d14d90e3e16cd6"
  },
  "kernelspec": {
   "display_name": "Python 3.8.9 64-bit",
   "language": "python",
   "name": "python3"
  },
  "language_info": {
   "codemirror_mode": {
    "name": "ipython",
    "version": 3
   },
   "file_extension": ".py",
   "mimetype": "text/x-python",
   "name": "python",
   "nbconvert_exporter": "python",
   "pygments_lexer": "ipython3",
   "version": "3.8.5"
  },
  "orig_nbformat": 4
 },
 "nbformat": 4,
 "nbformat_minor": 2
}
