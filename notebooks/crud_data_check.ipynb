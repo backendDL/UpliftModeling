{
 "cells": [
  {
   "cell_type": "code",
   "execution_count": 1,
   "metadata": {},
   "outputs": [],
   "source": [
    "import pandas as pd\n",
    "import numpy as np\n",
    "import sqlite3\n",
    "from glob import glob\n",
    "import csv\n",
    "from tqdm import tqdm"
   ]
  },
  {
   "cell_type": "code",
   "execution_count": 2,
   "metadata": {},
   "outputs": [],
   "source": [
    "filelist=glob('../data/crud/*')"
   ]
  },
  {
   "cell_type": "code",
   "execution_count": 86,
   "metadata": {},
   "outputs": [],
   "source": [
    "num=1\n",
    "con=sqlite3.connect(filelist[num])\n",
    "cursor=con.cursor()"
   ]
  },
  {
   "cell_type": "code",
   "execution_count": 87,
   "metadata": {},
   "outputs": [
    {
     "data": {
      "text/plain": [
       "<sqlite3.Cursor at 0x7facf36038f0>"
      ]
     },
     "execution_count": 87,
     "metadata": {},
     "output_type": "execute_result"
    }
   ],
   "source": [
    "#2097\n",
    "cursor.execute(\"SELECT name FROM sqlite_master WHERE type='table'\")"
   ]
  },
  {
   "cell_type": "code",
   "execution_count": 88,
   "metadata": {},
   "outputs": [
    {
     "data": {
      "text/plain": [
       "[('inDates',), ('sqlite_sequence',)]"
      ]
     },
     "execution_count": 88,
     "metadata": {},
     "output_type": "execute_result"
    }
   ],
   "source": [
    "# tables\n",
    "cursor.fetchall()"
   ]
  },
  {
   "cell_type": "code",
   "execution_count": 89,
   "metadata": {},
   "outputs": [
    {
     "data": {
      "text/plain": [
       "<sqlite3.Cursor at 0x7facf36038f0>"
      ]
     },
     "execution_count": 89,
     "metadata": {},
     "output_type": "execute_result"
    }
   ],
   "source": [
    "cursor.execute(\"SELECT sql FROM sqlite_master WHERE tbl_name='inDates'\")"
   ]
  },
  {
   "cell_type": "code",
   "execution_count": 90,
   "metadata": {},
   "outputs": [
    {
     "data": {
      "text/plain": [
       "[('CREATE TABLE inDates(id INTEGER primary key autoincrement, inDate TEXT, game_id INT(11), gamer_id TEXT)',)]"
      ]
     },
     "execution_count": 90,
     "metadata": {},
     "output_type": "execute_result"
    }
   ],
   "source": [
    "# columns\n",
    "cursor.fetchall()"
   ]
  },
  {
   "cell_type": "code",
   "execution_count": 91,
   "metadata": {},
   "outputs": [
    {
     "data": {
      "text/plain": [
       "<sqlite3.Cursor at 0x7facf36038f0>"
      ]
     },
     "execution_count": 91,
     "metadata": {},
     "output_type": "execute_result"
    }
   ],
   "source": [
    "cursor.execute(\"SELECT * FROM inDates\")"
   ]
  },
  {
   "cell_type": "code",
   "execution_count": 92,
   "metadata": {},
   "outputs": [
    {
     "data": {
      "text/plain": [
       "(1,\n",
       " '2021-12-02T19:06:46.070000Z',\n",
       " 1966,\n",
       " '2bf3dd341a333f7fb8da4ee18a5dae10ab83f21d59a4d72c8f8cf072ea3471b3')"
      ]
     },
     "execution_count": 92,
     "metadata": {},
     "output_type": "execute_result"
    }
   ],
   "source": [
    "# example\n",
    "cursor.fetchone()"
   ]
  },
  {
   "cell_type": "code",
   "execution_count": null,
   "metadata": {},
   "outputs": [],
   "source": []
  },
  {
   "cell_type": "code",
   "execution_count": null,
   "metadata": {},
   "outputs": [],
   "source": [
    "# db to csv"
   ]
  },
  {
   "cell_type": "code",
   "execution_count": 105,
   "metadata": {},
   "outputs": [],
   "source": [
    "filelist=glob('../data/crud/*')\n",
    "filenum=[int(file.split('/')[-1].split('.')[0]) for file in filelist[1:]]"
   ]
  },
  {
   "cell_type": "code",
   "execution_count": 112,
   "metadata": {},
   "outputs": [
    {
     "name": "stderr",
     "output_type": "stream",
     "text": [
      "100%|██████████| 312/312 [34:52<00:00,  6.71s/it]\n"
     ]
    }
   ],
   "source": [
    "line_count=[]\n",
    "for num in tqdm(filenum):\n",
    "    con=sqlite3.connect(f'../data/crud/{num}.db')\n",
    "    cursor=con.cursor()\n",
    "    cursor.execute(\"SELECT * FROM inDates WHERE game_id=2097\")\n",
    "    \n",
    "    game_data=[]\n",
    "    for line in cursor.fetchall():\n",
    "        temp=[i for i in line[1:]]\n",
    "        game_data.append(temp)\n",
    "    line_count.append(len(game_data))\n",
    "    \n",
    "    with open(f'../data/crud_csv/db_to_csv_{num}.csv', 'w',newline='')as f:\n",
    "        write=csv.writer(f)\n",
    "        write.writerow(['inDate', 'game_id', 'gamer_id'])\n",
    "        write.writerows(game_data)"
   ]
  },
  {
   "cell_type": "code",
   "execution_count": 113,
   "metadata": {},
   "outputs": [
    {
     "data": {
      "text/plain": [
       "16016018"
      ]
     },
     "execution_count": 113,
     "metadata": {},
     "output_type": "execute_result"
    }
   ],
   "source": [
    "sum(line_count)"
   ]
  },
  {
   "cell_type": "code",
   "execution_count": null,
   "metadata": {},
   "outputs": [],
   "source": []
  },
  {
   "cell_type": "code",
   "execution_count": null,
   "metadata": {},
   "outputs": [],
   "source": []
  },
  {
   "cell_type": "code",
   "execution_count": null,
   "metadata": {},
   "outputs": [],
   "source": [
    "# csv to one file"
   ]
  },
  {
   "cell_type": "code",
   "execution_count": 19,
   "metadata": {},
   "outputs": [],
   "source": [
    "csv_list=glob('../data/crud_csv_2097/*')"
   ]
  },
  {
   "cell_type": "code",
   "execution_count": 23,
   "metadata": {},
   "outputs": [
    {
     "name": "stderr",
     "output_type": "stream",
     "text": [
      "100%|██████████| 311/311 [03:35<00:00,  1.44it/s]\n"
     ]
    }
   ],
   "source": [
    "df=pd.read_csv(csv_list[0])\n",
    "for file in tqdm(csv_list[1:]):\n",
    "    df2=pd.read_csv(file)\n",
    "    df=pd.concat([df,df2], axis=0, ignore_index=True)"
   ]
  },
  {
   "cell_type": "code",
   "execution_count": 24,
   "metadata": {},
   "outputs": [
    {
     "data": {
      "text/plain": [
       "16016018"
      ]
     },
     "execution_count": 24,
     "metadata": {},
     "output_type": "execute_result"
    }
   ],
   "source": [
    "len(df)"
   ]
  },
  {
   "cell_type": "code",
   "execution_count": 25,
   "metadata": {},
   "outputs": [
    {
     "data": {
      "text/html": [
       "<div>\n",
       "<style scoped>\n",
       "    .dataframe tbody tr th:only-of-type {\n",
       "        vertical-align: middle;\n",
       "    }\n",
       "\n",
       "    .dataframe tbody tr th {\n",
       "        vertical-align: top;\n",
       "    }\n",
       "\n",
       "    .dataframe thead th {\n",
       "        text-align: right;\n",
       "    }\n",
       "</style>\n",
       "<table border=\"1\" class=\"dataframe\">\n",
       "  <thead>\n",
       "    <tr style=\"text-align: right;\">\n",
       "      <th></th>\n",
       "      <th>inDate</th>\n",
       "      <th>game_id</th>\n",
       "      <th>gamer_id</th>\n",
       "    </tr>\n",
       "  </thead>\n",
       "  <tbody>\n",
       "    <tr>\n",
       "      <th>0</th>\n",
       "      <td>2021-12-02T17:57:45.697000Z</td>\n",
       "      <td>2097</td>\n",
       "      <td>01648dcfac6e919f1334e26ba5938fc2bae03ef74eed89...</td>\n",
       "    </tr>\n",
       "    <tr>\n",
       "      <th>1</th>\n",
       "      <td>2021-12-02T17:57:45.707000Z</td>\n",
       "      <td>2097</td>\n",
       "      <td>01648dcfac6e919f1334e26ba5938fc2bae03ef74eed89...</td>\n",
       "    </tr>\n",
       "    <tr>\n",
       "      <th>2</th>\n",
       "      <td>2021-12-02T17:57:45.949000Z</td>\n",
       "      <td>2097</td>\n",
       "      <td>01648dcfac6e919f1334e26ba5938fc2bae03ef74eed89...</td>\n",
       "    </tr>\n",
       "    <tr>\n",
       "      <th>3</th>\n",
       "      <td>2021-12-02T17:57:45.960000Z</td>\n",
       "      <td>2097</td>\n",
       "      <td>01648dcfac6e919f1334e26ba5938fc2bae03ef74eed89...</td>\n",
       "    </tr>\n",
       "    <tr>\n",
       "      <th>4</th>\n",
       "      <td>2021-12-02T17:57:45.967000Z</td>\n",
       "      <td>2097</td>\n",
       "      <td>01648dcfac6e919f1334e26ba5938fc2bae03ef74eed89...</td>\n",
       "    </tr>\n",
       "  </tbody>\n",
       "</table>\n",
       "</div>"
      ],
      "text/plain": [
       "                        inDate  game_id  \\\n",
       "0  2021-12-02T17:57:45.697000Z     2097   \n",
       "1  2021-12-02T17:57:45.707000Z     2097   \n",
       "2  2021-12-02T17:57:45.949000Z     2097   \n",
       "3  2021-12-02T17:57:45.960000Z     2097   \n",
       "4  2021-12-02T17:57:45.967000Z     2097   \n",
       "\n",
       "                                            gamer_id  \n",
       "0  01648dcfac6e919f1334e26ba5938fc2bae03ef74eed89...  \n",
       "1  01648dcfac6e919f1334e26ba5938fc2bae03ef74eed89...  \n",
       "2  01648dcfac6e919f1334e26ba5938fc2bae03ef74eed89...  \n",
       "3  01648dcfac6e919f1334e26ba5938fc2bae03ef74eed89...  \n",
       "4  01648dcfac6e919f1334e26ba5938fc2bae03ef74eed89...  "
      ]
     },
     "execution_count": 25,
     "metadata": {},
     "output_type": "execute_result"
    }
   ],
   "source": [
    "df.head()"
   ]
  },
  {
   "cell_type": "code",
   "execution_count": 26,
   "metadata": {},
   "outputs": [],
   "source": [
    "df.to_csv('../data/game_2097_crud_data.csv', index=False)"
   ]
  },
  {
   "cell_type": "code",
   "execution_count": null,
   "metadata": {},
   "outputs": [],
   "source": []
  }
 ],
 "metadata": {
  "interpreter": {
   "hash": "af8b0b9810b90ece1a2c30b007939a77bea2a3bd150b1467149252c930670344"
  },
  "kernelspec": {
   "display_name": "Python 3.8.8 64-bit ('base': conda)",
   "language": "python",
   "name": "python388jvsc74a57bd0af8b0b9810b90ece1a2c30b007939a77bea2a3bd150b1467149252c930670344"
  },
  "language_info": {
   "codemirror_mode": {
    "name": "ipython",
    "version": 3
   },
   "file_extension": ".py",
   "mimetype": "text/x-python",
   "name": "python",
   "nbconvert_exporter": "python",
   "pygments_lexer": "ipython3",
   "version": "3.8.8"
  }
 },
 "nbformat": 4,
 "nbformat_minor": 4
}
