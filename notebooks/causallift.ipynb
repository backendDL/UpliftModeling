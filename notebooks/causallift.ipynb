{
 "cells": [
  {
   "cell_type": "code",
   "execution_count": 47,
   "metadata": {},
   "outputs": [],
   "source": [
    "import os\n",
    "import requests\n",
    "import gzip\n",
    "import shutil\n",
    "from typing import Optional, Union, Tuple, List\n",
    "from dataclasses import dataclass, field\n",
    "\n",
    "import causallift\n",
    "from causallift import CausalLift\n",
    "\n",
    "import numpy as np\n",
    "import pandas as pd\n",
    "import matplotlib as mpl\n",
    "import matplotlib.pyplot as plt\n",
    "from sklearn.model_selection import train_test_split\n",
    "from sklearn.metrics import f1_score, confusion_matrix, ConfusionMatrixDisplay, roc_curve, roc_auc_score\n",
    "from tqdm import tqdm\n",
    "\n",
    "import torch\n",
    "import torch.nn as nn\n",
    "import torch.nn.functional as F\n",
    "from torch.utils.data import Dataset, DataLoader\n",
    "\n",
    "causallift.__version__\n",
    "pd.options.display.max_rows = 8\n",
    "seed = 42"
   ]
  },
  {
   "cell_type": "code",
   "execution_count": 2,
   "metadata": {},
   "outputs": [],
   "source": [
    "def prepare_data(data: str, **kwargs):\n",
    "\n",
    "    if data == 'simulated_observational_data':\n",
    "        \"\"\"\n",
    "        # Generate simulated data\n",
    "        # \"Sleeping dogs\" (a.k.a. \"do-not-disturb\"; people who will \"buy\" if not \n",
    "        treated but will not \"buy\" if treated) can be simulated by negative values \n",
    "        in tau parameter.\n",
    "        # Observational data which includes confounding can be simulated by \n",
    "        non-zero values in propensity_coef parameter.  \n",
    "        # A/B Test (RCT) with a 50:50 split can be simulated by all-zeros values \n",
    "        in propensity_coef parameter (default).\n",
    "        # The first element in each list parameter specifies the intercept.\n",
    "        \"\"\"\n",
    "        from causallift import generate_data\n",
    "\n",
    "        np.random.seed(seed)\n",
    "\n",
    "        df = generate_data(\n",
    "            N=20000, \n",
    "            n_features=3, \n",
    "            beta=[0, -2, 3, -5], # Effect of [intercept and features] on outcome \n",
    "            error_std=0.1, \n",
    "            tau=[1, -5, -5, 10], # Effect of [intercept and features] on treated outcome\n",
    "            tau_std=0.1, \n",
    "            discrete_outcome=True, \n",
    "            seed=seed, \n",
    "            feature_effect=0, # Effect of beta on treated outcome\n",
    "            propensity_coef=[0, -1, 1, -1], # Effect of [intercept and features] on propensity log-odds for treatment\n",
    "            index_name='index',\n",
    "        )\n",
    "        \n",
    "    elif data == 'lalonde':\n",
    "        r\"\"\" \n",
    "            Lalonde dataset was used to evaluate propensity score in the paper:\n",
    "            Dehejia, R., & Wahba, S. (1999). Causal Effects in Nonexperimental \n",
    "            Studies: Reevaluating the Evaluation of Training Programs. Journal of \n",
    "            the American Statistical Association, 94(448), 1053-1062. \n",
    "            doi:10.2307/2669919\n",
    "\n",
    "            Lalonde dataset is now included in R package named \"Matching.\"\n",
    "            http://sekhon.berkeley.edu/matching/lalonde.html\n",
    "        \"\"\"\n",
    "        def get_lalonde():\n",
    "            r\"\"\" Load datasets, concatenate, and create features to get data frame \n",
    "            similar to 'lalonde' that comes with \"Matching.\")\n",
    "            \"\"\"\n",
    "            cols = ['treat', 'age', 'educ', 'black', 'hisp', 'married', 'nodegr','re74','re75','re78']\n",
    "            control_df = pd.read_csv('http://www.nber.org/~rdehejia/data/nswre74_control.txt', sep=r'\\s+', header = None, names = cols)\n",
    "            treated_df = pd.read_csv('http://www.nber.org/~rdehejia/data/nswre74_treated.txt', sep=r'\\s+', header = None, names = cols)\n",
    "            lalonde_df = pd.concat([control_df, treated_df], ignore_index=True)\n",
    "            lalonde_df['u74'] = np.where(lalonde_df['re74'] == 0, 1.0, 0.0)\n",
    "            lalonde_df['u75'] = np.where(lalonde_df['re75'] == 0, 1.0, 0.0)\n",
    "            return lalonde_df\n",
    "        lalonde_df = get_lalonde()\n",
    "        \n",
    "        \"\"\" Prepare the input Data Frame. \"\"\"\n",
    "        df = lalonde_df.copy()\n",
    "        df.rename(columns={'treat':'Treatment', 're78':'Outcome'}, inplace=True)\n",
    "        df['Outcome'] = np.where(df['Outcome'] > 0, 1.0, 0.0)\n",
    "        \n",
    "        # categorize age to 20s, 30s, 40s, and 50s and then one-hot encode age\n",
    "        df.loc[:,'age'] = df['age'].apply(lambda x:'{:.0f}'.format(x)[:-1]+'0s') \n",
    "        df = pd.get_dummies(df, columns=['age'], drop_first=True) \n",
    "        \n",
    "        cols = ['nodegr', 'black', 'hisp', 'age_20s', 'age_30s', 'age_40s', 'age_50s', \n",
    "                'educ', 'married', 'u74', 'u75', 'Treatment', 'Outcome']\n",
    "        df = df[cols]\n",
    "\n",
    "    elif data == 'criteo':\n",
    "        save_dir = \"./raw_data\"\n",
    "        os.makedirs(save_dir, exist_ok=True)\n",
    "\n",
    "        criteo_url = \"http://go.criteo.net/criteo-research-uplift-v2.1.csv.gz\"\n",
    "        zip_file_name = \"raw_data/criteo-research-uplift-v2.1.csv.gz\"\n",
    "        unzip_file_name = \"raw_data/criteo-research-uplift-v2.1.csv\"\n",
    "        \n",
    "        if os.path.isfile(unzip_file_name):\n",
    "            print(\"The downloaded file already exists!\")\n",
    "        \n",
    "        else:\n",
    "            print(\"Try to download the raw data from the server...\")\n",
    "            response = requests.get(criteo_url, stream=True)\n",
    "            total_size_in_bytes = int(response.headers.get(\"content-length\", 0))\n",
    "            block_size = 1024\n",
    "            progress_bar = tqdm(total=total_size_in_bytes, unit='iB', unit_scale=True)\n",
    "            with open(zip_file_name, \"wb\") as f:\n",
    "                for data in response.iter_content(block_size):\n",
    "                    progress_bar.update(len(data))\n",
    "                    f.write(data)\n",
    "            progress_bar.close()\n",
    "            print(\"Finished downloading!!!\")\n",
    "            if total_size_in_bytes != 0 and progress_bar.n != total_size_in_bytes:\n",
    "                print(\"Error, something went wrong!\")\n",
    "                return\n",
    "\n",
    "            print(\"Try to unzip the downloaded file\")\n",
    "            with gzip.open(zip_file_name, \"rb\") as f_in:\n",
    "                with open (unzip_file_name, \"wb\") as f_out:\n",
    "                    shutil.copyfileobj(f_in, f_out)\n",
    "\n",
    "            os.remove(zip_file_name)\n",
    "            print(\"Zip file removed from disk\")\n",
    "\n",
    "        print(\"Import the csv file into pd.DataFrame\")\n",
    "        df = pd.read_csv(unzip_file_name)\n",
    "    \n",
    "    else:\n",
    "        raise ValueError(\"No corresponding data found\")\n",
    "\n",
    "    return df"
   ]
  },
  {
   "cell_type": "code",
   "execution_count": 3,
   "metadata": {},
   "outputs": [],
   "source": [
    "df = prepare_data(\"simulated_observational_data\")"
   ]
  },
  {
   "cell_type": "code",
   "execution_count": 4,
   "metadata": {},
   "outputs": [
    {
     "data": {
      "text/plain": [
       "0.3859"
      ]
     },
     "execution_count": 4,
     "metadata": {},
     "output_type": "execute_result"
    }
   ],
   "source": [
    "np.sum(df[\"Treatment\"] == 1)/len(df)\n",
    "# 15% is treated"
   ]
  },
  {
   "cell_type": "code",
   "execution_count": 5,
   "metadata": {},
   "outputs": [
    {
     "name": "stdout",
     "output_type": "stream",
     "text": [
      "16000 4000\n"
     ]
    }
   ],
   "source": [
    "train_df, eval_df = train_test_split(df, test_size=0.2, random_state=42)\n",
    "print(len(train_df), len(eval_df))"
   ]
  },
  {
   "cell_type": "code",
   "execution_count": 6,
   "metadata": {},
   "outputs": [
    {
     "data": {
      "text/html": [
       "<div>\n",
       "<style scoped>\n",
       "    .dataframe tbody tr th:only-of-type {\n",
       "        vertical-align: middle;\n",
       "    }\n",
       "\n",
       "    .dataframe tbody tr th {\n",
       "        vertical-align: top;\n",
       "    }\n",
       "\n",
       "    .dataframe thead th {\n",
       "        text-align: right;\n",
       "    }\n",
       "</style>\n",
       "<table border=\"1\" class=\"dataframe\">\n",
       "  <thead>\n",
       "    <tr style=\"text-align: right;\">\n",
       "      <th></th>\n",
       "      <th>Feature_0</th>\n",
       "      <th>Feature_1</th>\n",
       "      <th>Feature_2</th>\n",
       "      <th>Treatment</th>\n",
       "      <th>Outcome</th>\n",
       "    </tr>\n",
       "    <tr>\n",
       "      <th>index</th>\n",
       "      <th></th>\n",
       "      <th></th>\n",
       "      <th></th>\n",
       "      <th></th>\n",
       "      <th></th>\n",
       "    </tr>\n",
       "  </thead>\n",
       "  <tbody>\n",
       "    <tr>\n",
       "      <th>5894</th>\n",
       "      <td>0.705646</td>\n",
       "      <td>0.118903</td>\n",
       "      <td>0.591185</td>\n",
       "      <td>1.0</td>\n",
       "      <td>0.0</td>\n",
       "    </tr>\n",
       "    <tr>\n",
       "      <th>3728</th>\n",
       "      <td>0.671304</td>\n",
       "      <td>0.990192</td>\n",
       "      <td>0.090662</td>\n",
       "      <td>0.0</td>\n",
       "      <td>1.0</td>\n",
       "    </tr>\n",
       "    <tr>\n",
       "      <th>8958</th>\n",
       "      <td>0.048870</td>\n",
       "      <td>0.596951</td>\n",
       "      <td>0.643174</td>\n",
       "      <td>0.0</td>\n",
       "      <td>0.0</td>\n",
       "    </tr>\n",
       "    <tr>\n",
       "      <th>7671</th>\n",
       "      <td>0.790777</td>\n",
       "      <td>0.159311</td>\n",
       "      <td>0.252047</td>\n",
       "      <td>0.0</td>\n",
       "      <td>0.0</td>\n",
       "    </tr>\n",
       "    <tr>\n",
       "      <th>5999</th>\n",
       "      <td>0.725692</td>\n",
       "      <td>0.692031</td>\n",
       "      <td>0.821540</td>\n",
       "      <td>1.0</td>\n",
       "      <td>0.0</td>\n",
       "    </tr>\n",
       "  </tbody>\n",
       "</table>\n",
       "</div>"
      ],
      "text/plain": [
       "       Feature_0  Feature_1  Feature_2  Treatment  Outcome\n",
       "index                                                     \n",
       "5894    0.705646   0.118903   0.591185        1.0      0.0\n",
       "3728    0.671304   0.990192   0.090662        0.0      1.0\n",
       "8958    0.048870   0.596951   0.643174        0.0      0.0\n",
       "7671    0.790777   0.159311   0.252047        0.0      0.0\n",
       "5999    0.725692   0.692031   0.821540        1.0      0.0"
      ]
     },
     "execution_count": 6,
     "metadata": {},
     "output_type": "execute_result"
    }
   ],
   "source": [
    "train_df.head()"
   ]
  },
  {
   "cell_type": "code",
   "execution_count": 7,
   "metadata": {},
   "outputs": [
    {
     "data": {
      "text/html": [
       "<div>\n",
       "<style scoped>\n",
       "    .dataframe tbody tr th:only-of-type {\n",
       "        vertical-align: middle;\n",
       "    }\n",
       "\n",
       "    .dataframe tbody tr th {\n",
       "        vertical-align: top;\n",
       "    }\n",
       "\n",
       "    .dataframe thead th {\n",
       "        text-align: right;\n",
       "    }\n",
       "</style>\n",
       "<table border=\"1\" class=\"dataframe\">\n",
       "  <thead>\n",
       "    <tr style=\"text-align: right;\">\n",
       "      <th></th>\n",
       "      <th>Feature_0</th>\n",
       "      <th>Feature_1</th>\n",
       "      <th>Feature_2</th>\n",
       "      <th>Treatment</th>\n",
       "      <th>Outcome</th>\n",
       "    </tr>\n",
       "  </thead>\n",
       "  <tbody>\n",
       "    <tr>\n",
       "      <th>Feature_0</th>\n",
       "      <td>1.000000</td>\n",
       "      <td>-0.005264</td>\n",
       "      <td>-0.003518</td>\n",
       "      <td>-0.133840</td>\n",
       "      <td>-0.415703</td>\n",
       "    </tr>\n",
       "    <tr>\n",
       "      <th>Feature_1</th>\n",
       "      <td>-0.005264</td>\n",
       "      <td>1.000000</td>\n",
       "      <td>0.000265</td>\n",
       "      <td>0.123293</td>\n",
       "      <td>0.103306</td>\n",
       "    </tr>\n",
       "    <tr>\n",
       "      <th>Feature_2</th>\n",
       "      <td>-0.003518</td>\n",
       "      <td>0.000265</td>\n",
       "      <td>1.000000</td>\n",
       "      <td>-0.139524</td>\n",
       "      <td>-0.042754</td>\n",
       "    </tr>\n",
       "    <tr>\n",
       "      <th>Treatment</th>\n",
       "      <td>-0.133840</td>\n",
       "      <td>0.123293</td>\n",
       "      <td>-0.139524</td>\n",
       "      <td>1.000000</td>\n",
       "      <td>0.322685</td>\n",
       "    </tr>\n",
       "    <tr>\n",
       "      <th>Outcome</th>\n",
       "      <td>-0.415703</td>\n",
       "      <td>0.103306</td>\n",
       "      <td>-0.042754</td>\n",
       "      <td>0.322685</td>\n",
       "      <td>1.000000</td>\n",
       "    </tr>\n",
       "  </tbody>\n",
       "</table>\n",
       "</div>"
      ],
      "text/plain": [
       "           Feature_0  Feature_1  Feature_2  Treatment   Outcome\n",
       "Feature_0   1.000000  -0.005264  -0.003518  -0.133840 -0.415703\n",
       "Feature_1  -0.005264   1.000000   0.000265   0.123293  0.103306\n",
       "Feature_2  -0.003518   0.000265   1.000000  -0.139524 -0.042754\n",
       "Treatment  -0.133840   0.123293  -0.139524   1.000000  0.322685\n",
       "Outcome    -0.415703   0.103306  -0.042754   0.322685  1.000000"
      ]
     },
     "execution_count": 7,
     "metadata": {},
     "output_type": "execute_result"
    }
   ],
   "source": [
    "corr = train_df.corr()\n",
    "corr"
   ]
  },
  {
   "cell_type": "code",
   "execution_count": 8,
   "metadata": {},
   "outputs": [
    {
     "data": {
      "image/png": "[encoded data removed]",
      "text/plain": [
       "<Figure size 432x288 with 2 Axes>"
      ]
     },
     "metadata": {
      "needs_background": "light"
     },
     "output_type": "display_data"
    }
   ],
   "source": [
    "plt.imshow(corr, cmap=\"bwr\")\n",
    "plt.colorbar()\n",
    "plt.clim(-1, 1)\n",
    "plt.show()"
   ]
  },
  {
   "cell_type": "code",
   "execution_count": 9,
   "metadata": {},
   "outputs": [
    {
     "data": {
      "text/html": [
       "<div>\n",
       "<style scoped>\n",
       "    .dataframe tbody tr th:only-of-type {\n",
       "        vertical-align: middle;\n",
       "    }\n",
       "\n",
       "    .dataframe tbody tr th {\n",
       "        vertical-align: top;\n",
       "    }\n",
       "\n",
       "    .dataframe thead th {\n",
       "        text-align: right;\n",
       "    }\n",
       "</style>\n",
       "<table border=\"1\" class=\"dataframe\">\n",
       "  <thead>\n",
       "    <tr style=\"text-align: right;\">\n",
       "      <th>Outcome</th>\n",
       "      <th>0.0</th>\n",
       "      <th>1.0</th>\n",
       "    </tr>\n",
       "    <tr>\n",
       "      <th>Treatment</th>\n",
       "      <th></th>\n",
       "      <th></th>\n",
       "    </tr>\n",
       "  </thead>\n",
       "  <tbody>\n",
       "    <tr>\n",
       "      <th>0.0</th>\n",
       "      <td>0.553188</td>\n",
       "      <td>0.062875</td>\n",
       "    </tr>\n",
       "    <tr>\n",
       "      <th>1.0</th>\n",
       "      <td>0.241937</td>\n",
       "      <td>0.142000</td>\n",
       "    </tr>\n",
       "  </tbody>\n",
       "</table>\n",
       "</div>"
      ],
      "text/plain": [
       "Outcome         0.0       1.0\n",
       "Treatment                    \n",
       "0.0        0.553188  0.062875\n",
       "1.0        0.241937  0.142000"
      ]
     },
     "execution_count": 9,
     "metadata": {},
     "output_type": "execute_result"
    }
   ],
   "source": [
    "pd.crosstab(train_df[\"Treatment\"], train_df[\"Outcome\"])/len(train_df)"
   ]
  },
  {
   "cell_type": "code",
   "execution_count": 10,
   "metadata": {},
   "outputs": [
    {
     "data": {
      "text/plain": [
       "<matplotlib.legend.Legend at 0x7f152c1a3ca0>"
      ]
     },
     "execution_count": 10,
     "metadata": {},
     "output_type": "execute_result"
    },
    {
     "data": {
      "image/png": "[encoded data removed]",
      "text/plain": [
       "<Figure size 432x288 with 1 Axes>"
      ]
     },
     "metadata": {
      "needs_background": "light"
     },
     "output_type": "display_data"
    }
   ],
   "source": [
    "for idx, column in enumerate(df.columns):\n",
    "    if idx >= len(df.columns) - 2:\n",
    "        # t and y varaibles\n",
    "        continue\n",
    "    plt.hist(df[column], density=True, histtype=\"step\", label=column)\n",
    "plt.legend()"
   ]
  },
  {
   "cell_type": "code",
   "execution_count": 11,
   "metadata": {},
   "outputs": [],
   "source": [
    "class UpliftDataset(Dataset): \n",
    "    def __init__(\n",
    "        self,\n",
    "        df: pd.DataFrame, \n",
    "        in_features: int,\n",
    "        t_idx: Optional[int] = None, \n",
    "        y_idx: Optional[int] = None,\n",
    "    ):\n",
    "        t_idx = in_features if t_idx is None else t_idx\n",
    "        y_idx = in_features + 1 if y_idx is None else y_idx\n",
    "\n",
    "        self.in_features = in_features\n",
    "        self.t_idx = t_idx\n",
    "        self.y_idx = y_idx\n",
    "\n",
    "        self.df = df\n",
    "        self.X = self.df.iloc[:, 0:in_features]\n",
    "        self.t = self.df.iloc[:, t_idx]\n",
    "        self.y = self.df.iloc[:, y_idx]\n",
    "\n",
    "    def __len__(self): \n",
    "        return len(self.X)\n",
    "\n",
    "    def __getitem__(self, idx):\n",
    "        X = torch.tensor(self.X.iloc[idx, :].to_numpy(), dtype=torch.float32)\n",
    "        t = torch.tensor(self.t.iloc[idx], dtype=torch.float32)\n",
    "        y = torch.tensor(self.y.iloc[idx], dtype=torch.float32)\n",
    "        return (X, t, y)"
   ]
  },
  {
   "cell_type": "code",
   "execution_count": 12,
   "metadata": {},
   "outputs": [],
   "source": [
    "num_features = 3\n",
    "\n",
    "train_set = UpliftDataset(train_df, num_features)\n",
    "eval_set  = UpliftDataset(eval_df, num_features)\n",
    "\n",
    "train_dl = DataLoader(train_set, batch_size=128, shuffle=True)\n",
    "eval_dl  = DataLoader(eval_set, batch_size=128, shuffle=False)"
   ]
  },
  {
   "cell_type": "code",
   "execution_count": 13,
   "metadata": {},
   "outputs": [
    {
     "data": {
      "text/plain": [
       "(tensor([0.7056, 0.1189, 0.5912]), tensor(1.), tensor(0.))"
      ]
     },
     "execution_count": 13,
     "metadata": {},
     "output_type": "execute_result"
    }
   ],
   "source": [
    "train_set[0]"
   ]
  },
  {
   "cell_type": "code",
   "execution_count": 14,
   "metadata": {},
   "outputs": [],
   "source": [
    "class ComplexModel(nn.Module): \n",
    "    def __init__(\n",
    "        self,\n",
    "        in_features: int,\n",
    "    ):\n",
    "        super().__init__()\n",
    "        self.expand = nn.Linear(in_features+1, 128)\n",
    "        self.fc1 = nn.Linear(128, 128) \n",
    "        self.bn1 = nn.BatchNorm1d(128)\n",
    "        self.fc2 = nn.Linear(128, 128) \n",
    "        self.bn2 = nn.BatchNorm1d(128)\n",
    "        self.classifier = nn.Linear(128, 1)\n",
    "        self.dropout = nn.Dropout(0.2)\n",
    "    \n",
    "    def forward(self, x):\n",
    "\n",
    "        x = self.expand(x)\n",
    "        _x = torch.tanh(self.bn1(self.fc1(x))) \n",
    "        x = self.dropout(_x) + x\n",
    "        _x = torch.tanh(self.bn2(self.fc2(x)))\n",
    "        x = self.dropout(_x) + x\n",
    "        x = self.classifier(x)\n",
    "        return x"
   ]
  },
  {
   "cell_type": "code",
   "execution_count": 15,
   "metadata": {},
   "outputs": [],
   "source": [
    "train_set[0]\n",
    "class UpliftWrapper(nn.Module): \n",
    "    def __init__(\n",
    "        self,\n",
    "        in_features: int,\n",
    "    ):\n",
    "        super(UpliftWrapper, self).__init__() \n",
    "        self.in_features = in_features \n",
    "        self.model = ComplexModel(in_features) \n",
    "        self.sigmoid = nn.Sigmoid()\n",
    "        \n",
    "    def forward(\n",
    "        self, \n",
    "        x: torch.Tensor, \n",
    "        t: torch.Tensor,\n",
    "    ):\n",
    "        \"\"\"Forward function for Uplift model\n",
    "        Args:\n",
    "            x: `torch.Tensor`\n",
    "            t: `torch.Tensor`\n",
    "        Returns:\n",
    "            `dict[str, torch.Tensor]`\n",
    "        \"\"\"\n",
    "        # X shape: (B, N)\n",
    "        if t.ndim == 2:\n",
    "            t = t.squeeze()\n",
    "        B = x.size(0)\n",
    "        L = x.size(1)\n",
    "        # print(f\"input shape: {x.shape}\")\n",
    "        \n",
    "        # first creating the inputs accordingly\n",
    "        x_0 = torch.cat([x, torch.zeros([B, 1]).to(x.device)], dim=1) \n",
    "        x_1 = torch.cat([x, torch.ones([B, 1]).to(x.device)], dim=1)\n",
    "\n",
    "        y_0 = self.sigmoid(self.model(x_0)).squeeze()\n",
    "        y_1 = self.sigmoid(self.model(x_1)).squeeze()\n",
    "        \n",
    "        pred = torch.where(t == 1, y_1, y_0)\n",
    "        return {\n",
    "            \"uplift\": y_1 - y_0, \"pred\": pred,\n",
    "        }"
   ]
  },
  {
   "cell_type": "code",
   "execution_count": 16,
   "metadata": {},
   "outputs": [],
   "source": [
    "class DirectUpliftLoss(nn.Module): \n",
    "    def __init__(self,\n",
    "        propensity_score: float = 0.5,\n",
    "        alpha: Optional[float] = None, \n",
    "    ):\n",
    "        super(DirectUpliftLoss, self).__init__()\n",
    "        if alpha > 1 or alpha < 0:\n",
    "            raise ValueError(\"alpha must be in [0, 1]\")\n",
    "        self.e_x = propensity_score \n",
    "        self.alpha = alpha\n",
    "\n",
    "        self.loss_u = nn.MSELoss() \n",
    "        self.loss_y = nn.BCELoss()\n",
    "\n",
    "    def forward(self, out, t, y):\n",
    "        z = t * y / self.e_x - (1-t) * y / (1-self.e_x) \n",
    "        # variable transformation\n",
    "        \n",
    "        loss_uplift = self.loss_u(out[\"uplift\"], z) \n",
    "        loss_pred = self.loss_y(out[\"pred\"], y)\n",
    "        loss = (1-self.alpha) * loss_uplift + self.alpha * loss_pred \n",
    "        \n",
    "        return loss"
   ]
  },
  {
   "cell_type": "code",
   "execution_count": 17,
   "metadata": {},
   "outputs": [],
   "source": [
    "model = UpliftWrapper(num_features)\n",
    "criterion = DirectUpliftLoss(0.5, 0.8)"
   ]
  },
  {
   "cell_type": "code",
   "execution_count": 18,
   "metadata": {},
   "outputs": [
    {
     "data": {
      "text/plain": [
       "tensor([[0.7056, 0.1189, 0.5912]])"
      ]
     },
     "execution_count": 18,
     "metadata": {},
     "output_type": "execute_result"
    }
   ],
   "source": [
    "train_set[0][0].unsqueeze(0)"
   ]
  },
  {
   "cell_type": "code",
   "execution_count": 19,
   "metadata": {},
   "outputs": [
    {
     "data": {
      "text/plain": [
       "{'uplift': tensor(0.0785, grad_fn=<SubBackward0>),\n",
       " 'pred': tensor(0.5525, grad_fn=<SWhereBackward>)}"
      ]
     },
     "execution_count": 19,
     "metadata": {},
     "output_type": "execute_result"
    }
   ],
   "source": [
    "model.eval()\n",
    "out = model(train_set[0][0].unsqueeze(0), train_set[0][1])\n",
    "out"
   ]
  },
  {
   "cell_type": "code",
   "execution_count": 20,
   "metadata": {},
   "outputs": [],
   "source": [
    "X, t, y = next(iter(train_dl))\n",
    "out = model(X, t)\n",
    "# print(out)\n",
    "# print(out[\"uplift\"].shape, out[\"pred\"].shape)"
   ]
  },
  {
   "cell_type": "code",
   "execution_count": 21,
   "metadata": {},
   "outputs": [
    {
     "data": {
      "text/plain": [
       "(torch.Size([128]), torch.Size([128]))"
      ]
     },
     "execution_count": 21,
     "metadata": {},
     "output_type": "execute_result"
    }
   ],
   "source": [
    "out[\"pred\"].shape, out[\"uplift\"].shape"
   ]
  },
  {
   "cell_type": "code",
   "execution_count": 22,
   "metadata": {},
   "outputs": [
    {
     "data": {
      "text/plain": [
       "(array([ 3.,  9., 18., 13., 16., 16., 12., 18., 15.,  8.]),\n",
       " array([0.07436967, 0.07497504, 0.0755804 , 0.07618576, 0.07679113,\n",
       "        0.0773965 , 0.07800186, 0.07860723, 0.07921259, 0.07981796,\n",
       "        0.08042333], dtype=float32),\n",
       " <BarContainer object of 10 artists>)"
      ]
     },
     "execution_count": 22,
     "metadata": {},
     "output_type": "execute_result"
    },
    {
     "data": {
      "image/png": "[encoded data removed]",
      "text/plain": [
       "<Figure size 432x288 with 2 Axes>"
      ]
     },
     "metadata": {
      "needs_background": "light"
     },
     "output_type": "display_data"
    }
   ],
   "source": [
    "fig, ax = plt.subplots(1, 2)\n",
    "ax[0].hist(out[\"pred\"].detach().cpu().numpy())\n",
    "ax[1].hist(out[\"uplift\"].detach().cpu().numpy())"
   ]
  },
  {
   "cell_type": "code",
   "execution_count": 23,
   "metadata": {},
   "outputs": [
    {
     "data": {
      "text/plain": [
       "tensor(0.6500, grad_fn=<AddBackward0>)"
      ]
     },
     "execution_count": 23,
     "metadata": {},
     "output_type": "execute_result"
    }
   ],
   "source": [
    "# loss = criterion(out, t, y)\n",
    "loss = criterion(out, t, y)\n",
    "loss"
   ]
  },
  {
   "cell_type": "code",
   "execution_count": 24,
   "metadata": {},
   "outputs": [
    {
     "data": {
      "text/plain": [
       "tensor([ 0.,  0.,  0.,  0.,  2.,  0.,  0.,  0., -2.,  0.,  0.,  2.,  0.,  0.,\n",
       "         0.,  0.,  0.,  0.,  0.,  0.,  0.,  0.,  0.,  0.,  0.,  0.,  0.,  0.,\n",
       "         0.,  2.,  0.,  0.,  0.,  0.,  2.,  0.,  0.,  0.,  0.,  0.,  0.,  0.,\n",
       "         0.,  0.,  0.,  0.,  0.,  0.,  0.,  0.,  0.,  0.,  0.,  0.,  0.,  0.,\n",
       "         2.,  0.,  0.,  0.,  0.,  0., -2.,  0.,  0.,  2.,  2.,  0.,  0.,  0.,\n",
       "         0.,  0.,  0.,  0.,  0.,  0.,  0.,  0.,  0., -2.,  0.,  2.,  0.,  0.,\n",
       "         0.,  0.,  0.,  0.,  0.,  0.,  0.,  0.,  0.,  0.,  0.,  0.,  0.,  0.,\n",
       "         0.,  0.,  2.,  0.,  0.,  0.,  0.,  0.,  2.,  0.,  0., -2.,  0.,  0.,\n",
       "         0.,  0.,  2.,  0.,  0.,  0.,  0.,  0.,  0.,  0.,  0.,  0.,  0.,  0.,\n",
       "         0.,  0.])"
      ]
     },
     "execution_count": 24,
     "metadata": {},
     "output_type": "execute_result"
    }
   ],
   "source": [
    "z = t * y / 0.5 - (1-t) * y / (1-0.5)\n",
    "z"
   ]
  },
  {
   "cell_type": "code",
   "execution_count": 25,
   "metadata": {},
   "outputs": [],
   "source": [
    "optimizer = torch.optim.AdamW(model.parameters(), lr=1e-3, weight_decay=0.01)"
   ]
  },
  {
   "cell_type": "code",
   "execution_count": 33,
   "metadata": {},
   "outputs": [
    {
     "name": "stderr",
     "output_type": "stream",
     "text": [
      "  4%|▍         | 5/125 [00:00<00:02, 48.66it/s]"
     ]
    },
    {
     "name": "stdout",
     "output_type": "stream",
     "text": [
      "epoch: 0\n"
     ]
    },
    {
     "name": "stderr",
     "output_type": "stream",
     "text": [
      "100%|██████████| 125/125 [00:02<00:00, 47.10it/s]\n",
      " 19%|█▉        | 6/32 [00:00<00:00, 59.30it/s]"
     ]
    },
    {
     "name": "stdout",
     "output_type": "stream",
     "text": [
      "train accuracy: 0.8828125, train f1: 0.6778903968390311\n"
     ]
    },
    {
     "name": "stderr",
     "output_type": "stream",
     "text": [
      "100%|██████████| 32/32 [00:00<00:00, 60.17it/s]\n",
      "  4%|▍         | 5/125 [00:00<00:02, 48.09it/s]"
     ]
    },
    {
     "name": "stdout",
     "output_type": "stream",
     "text": [
      "eval accuracy: 0.86125, eval f1: 0.6185567010309279\n",
      "\n",
      "epoch: 1\n"
     ]
    },
    {
     "name": "stderr",
     "output_type": "stream",
     "text": [
      "100%|██████████| 125/125 [00:02<00:00, 47.94it/s]\n",
      " 19%|█▉        | 6/32 [00:00<00:00, 58.45it/s]"
     ]
    },
    {
     "name": "stdout",
     "output_type": "stream",
     "text": [
      "train accuracy: 0.882375, train f1: 0.6781805745554036\n"
     ]
    },
    {
     "name": "stderr",
     "output_type": "stream",
     "text": [
      "100%|██████████| 32/32 [00:00<00:00, 59.31it/s]\n",
      "  4%|▍         | 5/125 [00:00<00:02, 48.96it/s]"
     ]
    },
    {
     "name": "stdout",
     "output_type": "stream",
     "text": [
      "eval accuracy: 0.815, eval f1: 0.45022288261515603\n",
      "\n",
      "epoch: 2\n"
     ]
    },
    {
     "name": "stderr",
     "output_type": "stream",
     "text": [
      "100%|██████████| 125/125 [00:02<00:00, 49.17it/s]\n",
      " 19%|█▉        | 6/32 [00:00<00:00, 58.61it/s]"
     ]
    },
    {
     "name": "stdout",
     "output_type": "stream",
     "text": [
      "train accuracy: 0.8876875, train f1: 0.6927679945289792\n"
     ]
    },
    {
     "name": "stderr",
     "output_type": "stream",
     "text": [
      "100%|██████████| 32/32 [00:00<00:00, 59.49it/s]\n",
      "  4%|▍         | 5/125 [00:00<00:02, 45.18it/s]"
     ]
    },
    {
     "name": "stdout",
     "output_type": "stream",
     "text": [
      "eval accuracy: 0.81825, eval f1: 0.4289080911233307\n",
      "\n",
      "epoch: 3\n"
     ]
    },
    {
     "name": "stderr",
     "output_type": "stream",
     "text": [
      "100%|██████████| 125/125 [00:02<00:00, 46.93it/s]\n",
      " 19%|█▉        | 6/32 [00:00<00:00, 57.35it/s]"
     ]
    },
    {
     "name": "stdout",
     "output_type": "stream",
     "text": [
      "train accuracy: 0.884, train f1: 0.6787815853236414\n"
     ]
    },
    {
     "name": "stderr",
     "output_type": "stream",
     "text": [
      "100%|██████████| 32/32 [00:00<00:00, 54.44it/s]\n",
      "  4%|▍         | 5/125 [00:00<00:02, 42.24it/s]"
     ]
    },
    {
     "name": "stdout",
     "output_type": "stream",
     "text": [
      "eval accuracy: 0.815, eval f1: 0.41362916006339145\n",
      "\n",
      "epoch: 4\n"
     ]
    },
    {
     "name": "stderr",
     "output_type": "stream",
     "text": [
      "100%|██████████| 125/125 [00:02<00:00, 45.14it/s]\n",
      " 19%|█▉        | 6/32 [00:00<00:00, 59.32it/s]"
     ]
    },
    {
     "name": "stdout",
     "output_type": "stream",
     "text": [
      "train accuracy: 0.8815625, train f1: 0.6757912745936698\n"
     ]
    },
    {
     "name": "stderr",
     "output_type": "stream",
     "text": [
      "100%|██████████| 32/32 [00:00<00:00, 59.33it/s]\n",
      "  4%|▍         | 5/125 [00:00<00:02, 49.00it/s]"
     ]
    },
    {
     "name": "stdout",
     "output_type": "stream",
     "text": [
      "eval accuracy: 0.845, eval f1: 0.6163366336633663\n",
      "\n",
      "epoch: 5\n"
     ]
    },
    {
     "name": "stderr",
     "output_type": "stream",
     "text": [
      "100%|██████████| 125/125 [00:02<00:00, 47.02it/s]\n",
      " 19%|█▉        | 6/32 [00:00<00:00, 58.78it/s]"
     ]
    },
    {
     "name": "stdout",
     "output_type": "stream",
     "text": [
      "train accuracy: 0.88675, train f1: 0.6921508664627931\n"
     ]
    },
    {
     "name": "stderr",
     "output_type": "stream",
     "text": [
      "100%|██████████| 32/32 [00:00<00:00, 59.20it/s]\n",
      "  4%|▍         | 5/125 [00:00<00:02, 47.80it/s]"
     ]
    },
    {
     "name": "stdout",
     "output_type": "stream",
     "text": [
      "eval accuracy: 0.804, eval f1: 0.38170347003154576\n",
      "\n",
      "epoch: 6\n"
     ]
    },
    {
     "name": "stderr",
     "output_type": "stream",
     "text": [
      "100%|██████████| 125/125 [00:02<00:00, 46.64it/s]\n",
      " 19%|█▉        | 6/32 [00:00<00:00, 58.10it/s]"
     ]
    },
    {
     "name": "stdout",
     "output_type": "stream",
     "text": [
      "train accuracy: 0.8849375, train f1: 0.685137677441423\n"
     ]
    },
    {
     "name": "stderr",
     "output_type": "stream",
     "text": [
      "100%|██████████| 32/32 [00:00<00:00, 56.86it/s]\n",
      "  4%|▍         | 5/125 [00:00<00:02, 45.80it/s]"
     ]
    },
    {
     "name": "stdout",
     "output_type": "stream",
     "text": [
      "eval accuracy: 0.80075, eval f1: 0.37879968823070925\n",
      "\n",
      "epoch: 7\n"
     ]
    },
    {
     "name": "stderr",
     "output_type": "stream",
     "text": [
      "100%|██████████| 125/125 [00:02<00:00, 45.56it/s]\n",
      " 19%|█▉        | 6/32 [00:00<00:00, 57.25it/s]"
     ]
    },
    {
     "name": "stdout",
     "output_type": "stream",
     "text": [
      "train accuracy: 0.88525, train f1: 0.6895502198173824\n"
     ]
    },
    {
     "name": "stderr",
     "output_type": "stream",
     "text": [
      "100%|██████████| 32/32 [00:00<00:00, 57.73it/s]\n",
      "  4%|▍         | 5/125 [00:00<00:02, 46.47it/s]"
     ]
    },
    {
     "name": "stdout",
     "output_type": "stream",
     "text": [
      "eval accuracy: 0.80825, eval f1: 0.4131599081866871\n",
      "\n",
      "epoch: 8\n"
     ]
    },
    {
     "name": "stderr",
     "output_type": "stream",
     "text": [
      "100%|██████████| 125/125 [00:02<00:00, 45.33it/s]\n",
      " 19%|█▉        | 6/32 [00:00<00:00, 51.71it/s]"
     ]
    },
    {
     "name": "stdout",
     "output_type": "stream",
     "text": [
      "train accuracy: 0.88425, train f1: 0.6876897133220912\n"
     ]
    },
    {
     "name": "stderr",
     "output_type": "stream",
     "text": [
      "100%|██████████| 32/32 [00:00<00:00, 57.48it/s]\n",
      "  4%|▍         | 5/125 [00:00<00:02, 48.51it/s]"
     ]
    },
    {
     "name": "stdout",
     "output_type": "stream",
     "text": [
      "eval accuracy: 0.824, eval f1: 0.5014164305949008\n",
      "\n",
      "epoch: 9\n"
     ]
    },
    {
     "name": "stderr",
     "output_type": "stream",
     "text": [
      "100%|██████████| 125/125 [00:02<00:00, 45.37it/s]\n",
      " 19%|█▉        | 6/32 [00:00<00:00, 57.38it/s]"
     ]
    },
    {
     "name": "stdout",
     "output_type": "stream",
     "text": [
      "train accuracy: 0.883625, train f1: 0.6839782756279702\n"
     ]
    },
    {
     "name": "stderr",
     "output_type": "stream",
     "text": [
      "100%|██████████| 32/32 [00:00<00:00, 57.62it/s]\n",
      "  4%|▍         | 5/125 [00:00<00:02, 47.48it/s]"
     ]
    },
    {
     "name": "stdout",
     "output_type": "stream",
     "text": [
      "eval accuracy: 0.821, eval f1: 0.48191027496382055\n",
      "\n",
      "epoch: 10\n"
     ]
    },
    {
     "name": "stderr",
     "output_type": "stream",
     "text": [
      "100%|██████████| 125/125 [00:02<00:00, 46.13it/s]\n",
      " 19%|█▉        | 6/32 [00:00<00:00, 51.17it/s]"
     ]
    },
    {
     "name": "stdout",
     "output_type": "stream",
     "text": [
      "train accuracy: 0.88425, train f1: 0.6853550798504927\n"
     ]
    },
    {
     "name": "stderr",
     "output_type": "stream",
     "text": [
      "100%|██████████| 32/32 [00:00<00:00, 52.03it/s]\n",
      "  4%|▍         | 5/125 [00:00<00:02, 41.13it/s]"
     ]
    },
    {
     "name": "stdout",
     "output_type": "stream",
     "text": [
      "eval accuracy: 0.8285, eval f1: 0.5127840909090909\n",
      "\n",
      "epoch: 11\n"
     ]
    },
    {
     "name": "stderr",
     "output_type": "stream",
     "text": [
      "100%|██████████| 125/125 [00:02<00:00, 45.45it/s]\n",
      " 19%|█▉        | 6/32 [00:00<00:00, 58.31it/s]"
     ]
    },
    {
     "name": "stdout",
     "output_type": "stream",
     "text": [
      "train accuracy: 0.8845, train f1: 0.6865671641791046\n"
     ]
    },
    {
     "name": "stderr",
     "output_type": "stream",
     "text": [
      "100%|██████████| 32/32 [00:00<00:00, 58.91it/s]\n",
      "  4%|▍         | 5/125 [00:00<00:02, 43.87it/s]"
     ]
    },
    {
     "name": "stdout",
     "output_type": "stream",
     "text": [
      "eval accuracy: 0.8375, eval f1: 0.5927318295739349\n",
      "\n",
      "epoch: 12\n"
     ]
    },
    {
     "name": "stderr",
     "output_type": "stream",
     "text": [
      "100%|██████████| 125/125 [00:02<00:00, 47.50it/s]\n",
      " 19%|█▉        | 6/32 [00:00<00:00, 58.78it/s]"
     ]
    },
    {
     "name": "stdout",
     "output_type": "stream",
     "text": [
      "train accuracy: 0.8850625, train f1: 0.6902475997978778\n"
     ]
    },
    {
     "name": "stderr",
     "output_type": "stream",
     "text": [
      "100%|██████████| 32/32 [00:00<00:00, 58.37it/s]\n",
      "  4%|▍         | 5/125 [00:00<00:02, 47.18it/s]"
     ]
    },
    {
     "name": "stdout",
     "output_type": "stream",
     "text": [
      "eval accuracy: 0.845, eval f1: 0.5844504021447722\n",
      "\n",
      "epoch: 13\n"
     ]
    },
    {
     "name": "stderr",
     "output_type": "stream",
     "text": [
      "100%|██████████| 125/125 [00:02<00:00, 47.98it/s]\n",
      " 19%|█▉        | 6/32 [00:00<00:00, 58.02it/s]"
     ]
    },
    {
     "name": "stdout",
     "output_type": "stream",
     "text": [
      "train accuracy: 0.888375, train f1: 0.7006369426751593\n"
     ]
    },
    {
     "name": "stderr",
     "output_type": "stream",
     "text": [
      "100%|██████████| 32/32 [00:00<00:00, 56.89it/s]\n",
      "  4%|▍         | 5/125 [00:00<00:02, 49.66it/s]"
     ]
    },
    {
     "name": "stdout",
     "output_type": "stream",
     "text": [
      "eval accuracy: 0.8015, eval f1: 0.348111658456486\n",
      "\n",
      "epoch: 14\n"
     ]
    },
    {
     "name": "stderr",
     "output_type": "stream",
     "text": [
      "100%|██████████| 125/125 [00:02<00:00, 48.29it/s]\n",
      " 19%|█▉        | 6/32 [00:00<00:00, 58.52it/s]"
     ]
    },
    {
     "name": "stdout",
     "output_type": "stream",
     "text": [
      "train accuracy: 0.8834375, train f1: 0.6828770617241965\n"
     ]
    },
    {
     "name": "stderr",
     "output_type": "stream",
     "text": [
      "100%|██████████| 32/32 [00:00<00:00, 57.75it/s]\n",
      "  4%|▍         | 5/125 [00:00<00:02, 45.18it/s]"
     ]
    },
    {
     "name": "stdout",
     "output_type": "stream",
     "text": [
      "eval accuracy: 0.81925, eval f1: 0.45516201959306707\n",
      "\n",
      "epoch: 15\n"
     ]
    },
    {
     "name": "stderr",
     "output_type": "stream",
     "text": [
      "100%|██████████| 125/125 [00:02<00:00, 47.00it/s]\n",
      " 19%|█▉        | 6/32 [00:00<00:00, 56.16it/s]"
     ]
    },
    {
     "name": "stdout",
     "output_type": "stream",
     "text": [
      "train accuracy: 0.8854375, train f1: 0.6906329113924051\n"
     ]
    },
    {
     "name": "stderr",
     "output_type": "stream",
     "text": [
      "100%|██████████| 32/32 [00:00<00:00, 58.31it/s]\n",
      "  4%|▍         | 5/125 [00:00<00:02, 49.01it/s]"
     ]
    },
    {
     "name": "stdout",
     "output_type": "stream",
     "text": [
      "eval accuracy: 0.8265, eval f1: 0.5091937765205092\n",
      "\n",
      "epoch: 16\n"
     ]
    },
    {
     "name": "stderr",
     "output_type": "stream",
     "text": [
      "100%|██████████| 125/125 [00:02<00:00, 48.18it/s]\n",
      " 19%|█▉        | 6/32 [00:00<00:00, 58.74it/s]"
     ]
    },
    {
     "name": "stdout",
     "output_type": "stream",
     "text": [
      "train accuracy: 0.8865625, train f1: 0.6922163812107852\n"
     ]
    },
    {
     "name": "stderr",
     "output_type": "stream",
     "text": [
      "100%|██████████| 32/32 [00:00<00:00, 59.61it/s]\n",
      "  4%|▍         | 5/125 [00:00<00:02, 49.21it/s]"
     ]
    },
    {
     "name": "stdout",
     "output_type": "stream",
     "text": [
      "eval accuracy: 0.7945, eval f1: 0.39736070381231675\n",
      "\n",
      "epoch: 17\n"
     ]
    },
    {
     "name": "stderr",
     "output_type": "stream",
     "text": [
      "100%|██████████| 125/125 [00:02<00:00, 47.00it/s]\n",
      " 19%|█▉        | 6/32 [00:00<00:00, 57.62it/s]"
     ]
    },
    {
     "name": "stdout",
     "output_type": "stream",
     "text": [
      "train accuracy: 0.8846875, train f1: 0.6901763224181361\n"
     ]
    },
    {
     "name": "stderr",
     "output_type": "stream",
     "text": [
      "100%|██████████| 32/32 [00:00<00:00, 58.22it/s]\n",
      "  4%|▍         | 5/125 [00:00<00:02, 47.68it/s]"
     ]
    },
    {
     "name": "stdout",
     "output_type": "stream",
     "text": [
      "eval accuracy: 0.807, eval f1: 0.3412969283276451\n",
      "\n",
      "epoch: 18\n"
     ]
    },
    {
     "name": "stderr",
     "output_type": "stream",
     "text": [
      "100%|██████████| 125/125 [00:02<00:00, 46.62it/s]\n",
      " 19%|█▉        | 6/32 [00:00<00:00, 58.83it/s]"
     ]
    },
    {
     "name": "stdout",
     "output_type": "stream",
     "text": [
      "train accuracy: 0.888375, train f1: 0.6953258273626748\n"
     ]
    },
    {
     "name": "stderr",
     "output_type": "stream",
     "text": [
      "100%|██████████| 32/32 [00:00<00:00, 58.61it/s]\n",
      "  4%|▍         | 5/125 [00:00<00:02, 46.88it/s]"
     ]
    },
    {
     "name": "stdout",
     "output_type": "stream",
     "text": [
      "eval accuracy: 0.80275, eval f1: 0.44631578947368417\n",
      "\n",
      "epoch: 19\n"
     ]
    },
    {
     "name": "stderr",
     "output_type": "stream",
     "text": [
      "100%|██████████| 125/125 [00:02<00:00, 47.75it/s]\n",
      " 19%|█▉        | 6/32 [00:00<00:00, 58.28it/s]"
     ]
    },
    {
     "name": "stdout",
     "output_type": "stream",
     "text": [
      "train accuracy: 0.8839375, train f1: 0.6878466969238527\n"
     ]
    },
    {
     "name": "stderr",
     "output_type": "stream",
     "text": [
      "100%|██████████| 32/32 [00:00<00:00, 57.91it/s]"
     ]
    },
    {
     "name": "stdout",
     "output_type": "stream",
     "text": [
      "eval accuracy: 0.802, eval f1: 0.36129032258064514\n",
      "\n"
     ]
    },
    {
     "name": "stderr",
     "output_type": "stream",
     "text": [
      "\n"
     ]
    }
   ],
   "source": [
    "model.cuda()\n",
    "\n",
    "num_epochs = 20\n",
    "train_losses = []\n",
    "train_accuracies = []\n",
    "eval_losses = []\n",
    "eval_accuracies = []\n",
    "\n",
    "for epoch in range(num_epochs):\n",
    "    print(f\"epoch: {epoch}\")\n",
    "\n",
    "    train_answ = []\n",
    "    train_pred = []\n",
    "\n",
    "    model.train()\n",
    "    for X, t, y in tqdm(train_dl):\n",
    "        optimizer.zero_grad()\n",
    "        train_answ.extend(y.numpy().tolist())\n",
    "\n",
    "        X = X.cuda()\n",
    "        t = t.cuda()\n",
    "        y = y.cuda()\n",
    "\n",
    "        out = model(X, t)\n",
    "        loss = criterion(out, t, y)\n",
    "        # loss = criterion(out[\"pred\"], y)\n",
    "        loss.backward()\n",
    "        train_losses.append(loss.item())\n",
    "\n",
    "        optimizer.step()\n",
    "\n",
    "        pred = np.where(out[\"pred\"].detach().cpu().numpy() > 0.5, 1, 0)\n",
    "        train_pred.extend(pred.tolist())\n",
    "\n",
    "    train_answ = np.array(train_answ)\n",
    "    train_pred = np.array(train_pred)\n",
    "\n",
    "    train_accuracies.append(np.sum(train_answ == train_pred)/len(train_answ))\n",
    "    print(f\"train accuracy: {train_accuracies[-1]}, train f1: {f1_score(train_answ, train_pred)}\")\n",
    "\n",
    "    eval_cnt = 0\n",
    "    eval_corrects = 0\n",
    "\n",
    "    model.eval()\n",
    "    with torch.no_grad():\n",
    "\n",
    "        eval_answ = []\n",
    "        eval_pred = []\n",
    "        eval_prob = []\n",
    "\n",
    "        for X, t, y in eval_dl:\n",
    "            eval_cnt += X.size(0)\n",
    "            eval_answ.extend(y.numpy().tolist())\n",
    "\n",
    "            X = X.cuda()\n",
    "            t = t.cuda()\n",
    "            y = y.cuda()\n",
    "\n",
    "            out = model(X, t)\n",
    "            loss = criterion(out, t, y)\n",
    "            # loss = criterion(out[\"pred\"], y)\n",
    "            eval_losses.append(loss.item())\n",
    "\n",
    "            prob = out[\"pred\"].detach().cpu().numpy()\n",
    "            eval_prob.extend(prob.tolist())\n",
    "            pred = np.where(prob > 0.5, 1, 0)\n",
    "            eval_pred.extend(pred.tolist())\n",
    "\n",
    "    eval_answ = np.array(eval_answ)\n",
    "    eval_pred = np.array(eval_pred)\n",
    "    eval_prob = np.array(eval_prob)\n",
    "\n",
    "    eval_accuracies.append(np.sum(eval_answ == eval_pred)/len(eval_answ))\n",
    "    print(f\"eval accuracy: {eval_accuracies[-1]}, eval f1: {f1_score(eval_answ, eval_pred)}\")\n",
    "\n",
    "    print()\n"
   ]
  },
  {
   "cell_type": "code",
   "execution_count": 34,
   "metadata": {},
   "outputs": [
    {
     "data": {
      "text/plain": [
       "(array([18.,  2.,  2.,  4.,  2.,  0.,  0.,  3.,  1.,  0.]),\n",
       " array([0. , 0.1, 0.2, 0.3, 0.4, 0.5, 0.6, 0.7, 0.8, 0.9, 1. ]),\n",
       " <BarContainer object of 10 artists>)"
      ]
     },
     "execution_count": 34,
     "metadata": {},
     "output_type": "execute_result"
    },
    {
     "data": {
      "image/png": "[encoded data removed]",
      "text/plain": [
       "<Figure size 432x288 with 1 Axes>"
      ]
     },
     "metadata": {
      "needs_background": "light"
     },
     "output_type": "display_data"
    }
   ],
   "source": [
    "plt.hist(out[\"pred\"].detach().cpu().numpy(), bins=np.arange(0, 1.1, 0.1))"
   ]
  },
  {
   "cell_type": "code",
   "execution_count": 36,
   "metadata": {},
   "outputs": [
    {
     "data": {
      "image/png": "[encoded data removed]",
      "text/plain": [
       "<Figure size 432x288 with 1 Axes>"
      ]
     },
     "metadata": {
      "needs_background": "light"
     },
     "output_type": "display_data"
    }
   ],
   "source": [
    "plt.hist(eval_pred, bins=np.arange(0, 1.05, 0.05), alpha=0.5, label=\"pred\")\n",
    "plt.hist(eval_answ, bins=np.arange(0, 1.05, 0.05), alpha=0.5, label=\"true\")\n",
    "plt.legend()\n",
    "plt.show()"
   ]
  },
  {
   "cell_type": "code",
   "execution_count": 37,
   "metadata": {},
   "outputs": [
    {
     "data": {
      "text/plain": [
       "<sklearn.metrics._plot.confusion_matrix.ConfusionMatrixDisplay at 0x7f14982c2610>"
      ]
     },
     "execution_count": 37,
     "metadata": {},
     "output_type": "execute_result"
    },
    {
     "data": {
      "image/png": "[encoded data removed]",
      "text/plain": [
       "<Figure size 432x288 with 2 Axes>"
      ]
     },
     "metadata": {
      "needs_background": "light"
     },
     "output_type": "display_data"
    }
   ],
   "source": [
    "ConfusionMatrixDisplay.from_predictions(eval_answ, eval_pred)"
   ]
  },
  {
   "cell_type": "code",
   "execution_count": 38,
   "metadata": {},
   "outputs": [
    {
     "data": {
      "text/plain": [
       "[<matplotlib.lines.Line2D at 0x7f14981aa730>]"
      ]
     },
     "execution_count": 38,
     "metadata": {},
     "output_type": "execute_result"
    },
    {
     "data": {
      "image/png": "[encoded data removed]",
      "text/plain": [
       "<Figure size 432x288 with 1 Axes>"
      ]
     },
     "metadata": {
      "needs_background": "light"
     },
     "output_type": "display_data"
    }
   ],
   "source": [
    "n_size = 50\n",
    "length = (len(train_losses) // n_size) * n_size\n",
    "plt.plot(np.array(train_losses[-length:]).reshape(-1, n_size).mean(axis=1))"
   ]
  },
  {
   "cell_type": "code",
   "execution_count": 50,
   "metadata": {},
   "outputs": [
    {
     "data": {
      "image/png": "[encoded data removed]",
      "text/plain": [
       "<Figure size 432x288 with 1 Axes>"
      ]
     },
     "metadata": {
      "needs_background": "light"
     },
     "output_type": "display_data"
    }
   ],
   "source": [
    "fpr, tpr, _ = roc_curve(eval_answ, eval_prob)\n",
    "auc = roc_auc_score(eval_answ, eval_prob)\n",
    "plt.plot(fpr, tpr, color=\"darkorange\", lw=2, label=\"ROC curve %.3f\" % (auc))\n",
    "plt.plot([0, 1], [0, 1], color=\"navy\", lw=2, linestyle=\"--\")\n",
    "plt.xlim([0.0, 1.0])\n",
    "plt.ylim([0.0, 1.05])\n",
    "plt.xlabel(\"False Positive Rate\")\n",
    "plt.xlabel(\"True Positive Rate\")\n",
    "plt.title(\"Receiver Operating Characteristic Curve\")\n",
    "plt.legend(loc=\"lower right\")\n",
    "plt.show()"
   ]
  },
  {
   "cell_type": "code",
   "execution_count": null,
   "metadata": {},
   "outputs": [],
   "source": []
  }
 ],
 "metadata": {
  "interpreter": {
   "hash": "d4d1e4263499bec80672ea0156c357c1ee493ec2b1c70f0acce89fc37c4a6abe"
  },
  "kernelspec": {
   "display_name": "Python 3.8.5 64-bit ('base': conda)",
   "language": "python",
   "name": "python3"
  },
  "language_info": {
   "codemirror_mode": {
    "name": "ipython",
    "version": 3
   },
   "file_extension": ".py",
   "mimetype": "text/x-python",
   "name": "python",
   "nbconvert_exporter": "python",
   "pygments_lexer": "ipython3",
   "version": "3.8.5"
  },
  "orig_nbformat": 4
 },
 "nbformat": 4,
 "nbformat_minor": 2
}
